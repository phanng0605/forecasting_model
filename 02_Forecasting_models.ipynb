{
  "cells": [
    {
      "cell_type": "markdown",
      "metadata": {
        "id": "view-in-github",
        "colab_type": "text"
      },
      "source": [
        "<a href=\"https://colab.research.google.com/github/phanng0605/forecasting_model/blob/main/02_Forecasting_models.ipynb\" target=\"_parent\"><img src=\"https://colab.research.google.com/assets/colab-badge.svg\" alt=\"Open In Colab\"/></a>"
      ]
    },
    {
      "cell_type": "code",
      "source": [
        "!pip install pmdarima"
      ],
      "metadata": {
        "colab": {
          "base_uri": "https://localhost:8080/"
        },
        "id": "oIg7zG3aMIyV",
        "outputId": "6eb24bf6-87aa-488a-be63-4661bdc7fee3"
      },
      "id": "oIg7zG3aMIyV",
      "execution_count": null,
      "outputs": [
        {
          "output_type": "stream",
          "name": "stdout",
          "text": [
            "Looking in indexes: https://pypi.org/simple, https://us-python.pkg.dev/colab-wheels/public/simple/\n",
            "Collecting pmdarima\n",
            "  Downloading pmdarima-2.0.2-cp38-cp38-manylinux_2_17_x86_64.manylinux2014_x86_64.manylinux_2_28_x86_64.whl (1.9 MB)\n",
            "\u001b[2K     \u001b[90m━━━━━━━━━━━━━━━━━━━━━━━━━━━━━━━━━━━━━━━━\u001b[0m \u001b[32m1.9/1.9 MB\u001b[0m \u001b[31m42.0 MB/s\u001b[0m eta \u001b[36m0:00:00\u001b[0m\n",
            "\u001b[?25hRequirement already satisfied: scikit-learn>=0.22 in /usr/local/lib/python3.8/dist-packages (from pmdarima) (1.0.2)\n",
            "Requirement already satisfied: urllib3 in /usr/local/lib/python3.8/dist-packages (from pmdarima) (1.24.3)\n",
            "Requirement already satisfied: setuptools!=50.0.0,>=38.6.0 in /usr/local/lib/python3.8/dist-packages (from pmdarima) (57.4.0)\n",
            "Collecting statsmodels>=0.13.2\n",
            "  Downloading statsmodels-0.13.5-cp38-cp38-manylinux_2_17_x86_64.manylinux2014_x86_64.whl (9.9 MB)\n",
            "\u001b[2K     \u001b[90m━━━━━━━━━━━━━━━━━━━━━━━━━━━━━━━━━━━━━━━━\u001b[0m \u001b[32m9.9/9.9 MB\u001b[0m \u001b[31m77.5 MB/s\u001b[0m eta \u001b[36m0:00:00\u001b[0m\n",
            "\u001b[?25hRequirement already satisfied: numpy>=1.21.2 in /usr/local/lib/python3.8/dist-packages (from pmdarima) (1.21.6)\n",
            "Requirement already satisfied: Cython!=0.29.18,!=0.29.31,>=0.29 in /usr/local/lib/python3.8/dist-packages (from pmdarima) (0.29.32)\n",
            "Requirement already satisfied: pandas>=0.19 in /usr/local/lib/python3.8/dist-packages (from pmdarima) (1.3.5)\n",
            "Requirement already satisfied: scipy>=1.3.2 in /usr/local/lib/python3.8/dist-packages (from pmdarima) (1.7.3)\n",
            "Requirement already satisfied: joblib>=0.11 in /usr/local/lib/python3.8/dist-packages (from pmdarima) (1.2.0)\n",
            "Requirement already satisfied: pytz>=2017.3 in /usr/local/lib/python3.8/dist-packages (from pandas>=0.19->pmdarima) (2022.7)\n",
            "Requirement already satisfied: python-dateutil>=2.7.3 in /usr/local/lib/python3.8/dist-packages (from pandas>=0.19->pmdarima) (2.8.2)\n",
            "Requirement already satisfied: threadpoolctl>=2.0.0 in /usr/local/lib/python3.8/dist-packages (from scikit-learn>=0.22->pmdarima) (3.1.0)\n",
            "Requirement already satisfied: packaging>=21.3 in /usr/local/lib/python3.8/dist-packages (from statsmodels>=0.13.2->pmdarima) (21.3)\n",
            "Requirement already satisfied: patsy>=0.5.2 in /usr/local/lib/python3.8/dist-packages (from statsmodels>=0.13.2->pmdarima) (0.5.3)\n",
            "Requirement already satisfied: pyparsing!=3.0.5,>=2.0.2 in /usr/local/lib/python3.8/dist-packages (from packaging>=21.3->statsmodels>=0.13.2->pmdarima) (3.0.9)\n",
            "Requirement already satisfied: six in /usr/local/lib/python3.8/dist-packages (from patsy>=0.5.2->statsmodels>=0.13.2->pmdarima) (1.15.0)\n",
            "Installing collected packages: statsmodels, pmdarima\n",
            "  Attempting uninstall: statsmodels\n",
            "    Found existing installation: statsmodels 0.12.2\n",
            "    Uninstalling statsmodels-0.12.2:\n",
            "      Successfully uninstalled statsmodels-0.12.2\n",
            "Successfully installed pmdarima-2.0.2 statsmodels-0.13.5\n"
          ]
        }
      ]
    },
    {
      "cell_type": "code",
      "source": [
        "!pip install bayesian-optimization"
      ],
      "metadata": {
        "colab": {
          "base_uri": "https://localhost:8080/"
        },
        "id": "bkVadZZuMRcT",
        "outputId": "05cd7341-db5e-4090-fb17-b671ec064730"
      },
      "id": "bkVadZZuMRcT",
      "execution_count": null,
      "outputs": [
        {
          "output_type": "stream",
          "name": "stdout",
          "text": [
            "Looking in indexes: https://pypi.org/simple, https://us-python.pkg.dev/colab-wheels/public/simple/\n",
            "Collecting bayesian-optimization\n",
            "  Downloading bayesian_optimization-1.4.2-py3-none-any.whl (17 kB)\n",
            "Collecting colorama>=0.4.6\n",
            "  Downloading colorama-0.4.6-py2.py3-none-any.whl (25 kB)\n",
            "Requirement already satisfied: scipy>=1.0.0 in /usr/local/lib/python3.8/dist-packages (from bayesian-optimization) (1.7.3)\n",
            "Requirement already satisfied: numpy>=1.9.0 in /usr/local/lib/python3.8/dist-packages (from bayesian-optimization) (1.21.6)\n",
            "Requirement already satisfied: scikit-learn>=0.18.0 in /usr/local/lib/python3.8/dist-packages (from bayesian-optimization) (1.0.2)\n",
            "Requirement already satisfied: joblib>=0.11 in /usr/local/lib/python3.8/dist-packages (from scikit-learn>=0.18.0->bayesian-optimization) (1.2.0)\n",
            "Requirement already satisfied: threadpoolctl>=2.0.0 in /usr/local/lib/python3.8/dist-packages (from scikit-learn>=0.18.0->bayesian-optimization) (3.1.0)\n",
            "Installing collected packages: colorama, bayesian-optimization\n",
            "Successfully installed bayesian-optimization-1.4.2 colorama-0.4.6\n"
          ]
        }
      ]
    },
    {
      "cell_type": "code",
      "source": [
        "!pip install pystan~=2.14\n",
        "!pip install fbprophet"
      ],
      "metadata": {
        "colab": {
          "base_uri": "https://localhost:8080/"
        },
        "id": "QGza1pIzM_UA",
        "outputId": "250772de-d770-4ef1-8e0a-cc68563e7a96"
      },
      "id": "QGza1pIzM_UA",
      "execution_count": null,
      "outputs": [
        {
          "output_type": "stream",
          "name": "stdout",
          "text": [
            "Looking in indexes: https://pypi.org/simple, https://us-python.pkg.dev/colab-wheels/public/simple/\n",
            "Collecting pystan~=2.14\n",
            "  Downloading pystan-2.19.1.1-cp38-cp38-manylinux1_x86_64.whl (62.6 MB)\n",
            "\u001b[2K     \u001b[90m━━━━━━━━━━━━━━━━━━━━━━━━━━━━━━━━━━━━━━━━\u001b[0m \u001b[32m62.6/62.6 MB\u001b[0m \u001b[31m12.1 MB/s\u001b[0m eta \u001b[36m0:00:00\u001b[0m\n",
            "\u001b[?25hRequirement already satisfied: numpy>=1.7 in /usr/local/lib/python3.8/dist-packages (from pystan~=2.14) (1.21.6)\n",
            "Requirement already satisfied: Cython!=0.25.1,>=0.22 in /usr/local/lib/python3.8/dist-packages (from pystan~=2.14) (0.29.32)\n",
            "Installing collected packages: pystan\n",
            "  Attempting uninstall: pystan\n",
            "    Found existing installation: pystan 3.3.0\n",
            "    Uninstalling pystan-3.3.0:\n",
            "      Successfully uninstalled pystan-3.3.0\n",
            "Successfully installed pystan-2.19.1.1\n",
            "Looking in indexes: https://pypi.org/simple, https://us-python.pkg.dev/colab-wheels/public/simple/\n",
            "Collecting fbprophet\n",
            "  Downloading fbprophet-0.7.1.tar.gz (64 kB)\n",
            "\u001b[2K     \u001b[90m━━━━━━━━━━━━━━━━━━━━━━━━━━━━━━━━━━━━━━━━\u001b[0m \u001b[32m64.0/64.0 KB\u001b[0m \u001b[31m5.4 MB/s\u001b[0m eta \u001b[36m0:00:00\u001b[0m\n",
            "\u001b[?25h  Preparing metadata (setup.py) ... \u001b[?25l\u001b[?25hdone\n",
            "Requirement already satisfied: Cython>=0.22 in /usr/local/lib/python3.8/dist-packages (from fbprophet) (0.29.32)\n",
            "Collecting cmdstanpy==0.9.5\n",
            "  Downloading cmdstanpy-0.9.5-py3-none-any.whl (37 kB)\n",
            "Requirement already satisfied: pystan>=2.14 in /usr/local/lib/python3.8/dist-packages (from fbprophet) (2.19.1.1)\n",
            "Requirement already satisfied: numpy>=1.15.4 in /usr/local/lib/python3.8/dist-packages (from fbprophet) (1.21.6)\n",
            "Requirement already satisfied: pandas>=1.0.4 in /usr/local/lib/python3.8/dist-packages (from fbprophet) (1.3.5)\n",
            "Requirement already satisfied: matplotlib>=2.0.0 in /usr/local/lib/python3.8/dist-packages (from fbprophet) (3.2.2)\n",
            "Requirement already satisfied: LunarCalendar>=0.0.9 in /usr/local/lib/python3.8/dist-packages (from fbprophet) (0.0.9)\n",
            "Requirement already satisfied: convertdate>=2.1.2 in /usr/local/lib/python3.8/dist-packages (from fbprophet) (2.4.0)\n",
            "Requirement already satisfied: holidays>=0.10.2 in /usr/local/lib/python3.8/dist-packages (from fbprophet) (0.18)\n",
            "Requirement already satisfied: setuptools-git>=1.2 in /usr/local/lib/python3.8/dist-packages (from fbprophet) (1.2)\n",
            "Requirement already satisfied: python-dateutil>=2.8.0 in /usr/local/lib/python3.8/dist-packages (from fbprophet) (2.8.2)\n",
            "Requirement already satisfied: tqdm>=4.36.1 in /usr/local/lib/python3.8/dist-packages (from fbprophet) (4.64.1)\n",
            "Requirement already satisfied: pymeeus<=1,>=0.3.13 in /usr/local/lib/python3.8/dist-packages (from convertdate>=2.1.2->fbprophet) (0.5.12)\n",
            "Requirement already satisfied: korean-lunar-calendar in /usr/local/lib/python3.8/dist-packages (from holidays>=0.10.2->fbprophet) (0.3.1)\n",
            "Requirement already satisfied: hijri-converter in /usr/local/lib/python3.8/dist-packages (from holidays>=0.10.2->fbprophet) (2.2.4)\n",
            "Requirement already satisfied: pytz in /usr/local/lib/python3.8/dist-packages (from LunarCalendar>=0.0.9->fbprophet) (2022.7)\n",
            "Requirement already satisfied: ephem>=3.7.5.3 in /usr/local/lib/python3.8/dist-packages (from LunarCalendar>=0.0.9->fbprophet) (4.1.4)\n",
            "Requirement already satisfied: pyparsing!=2.0.4,!=2.1.2,!=2.1.6,>=2.0.1 in /usr/local/lib/python3.8/dist-packages (from matplotlib>=2.0.0->fbprophet) (3.0.9)\n",
            "Requirement already satisfied: cycler>=0.10 in /usr/local/lib/python3.8/dist-packages (from matplotlib>=2.0.0->fbprophet) (0.11.0)\n",
            "Requirement already satisfied: kiwisolver>=1.0.1 in /usr/local/lib/python3.8/dist-packages (from matplotlib>=2.0.0->fbprophet) (1.4.4)\n",
            "Requirement already satisfied: six>=1.5 in /usr/local/lib/python3.8/dist-packages (from python-dateutil>=2.8.0->fbprophet) (1.15.0)\n",
            "Building wheels for collected packages: fbprophet\n",
            "  Building wheel for fbprophet (setup.py) ... \u001b[?25l\u001b[?25hdone\n",
            "  Created wheel for fbprophet: filename=fbprophet-0.7.1-py3-none-any.whl size=6751511 sha256=5a64b90a2f26726999ebcc928e9e3ab2566315c822cbb21e620c177a2235b9ed\n",
            "  Stored in directory: /root/.cache/pip/wheels/d0/d2/ae/c579b7fd160999d35908f3cb8ebcad7ef64ecaca7b78e4c3c8\n",
            "Successfully built fbprophet\n",
            "Installing collected packages: cmdstanpy, fbprophet\n",
            "  Attempting uninstall: cmdstanpy\n",
            "    Found existing installation: cmdstanpy 1.0.8\n",
            "    Uninstalling cmdstanpy-1.0.8:\n",
            "      Successfully uninstalled cmdstanpy-1.0.8\n",
            "\u001b[31mERROR: pip's dependency resolver does not currently take into account all the packages that are installed. This behaviour is the source of the following dependency conflicts.\n",
            "prophet 1.1.1 requires cmdstanpy>=1.0.4, but you have cmdstanpy 0.9.5 which is incompatible.\u001b[0m\u001b[31m\n",
            "\u001b[0mSuccessfully installed cmdstanpy-0.9.5 fbprophet-0.7.1\n"
          ]
        }
      ]
    },
    {
      "cell_type": "code",
      "source": [
        "!pip install gluonts"
      ],
      "metadata": {
        "colab": {
          "base_uri": "https://localhost:8080/"
        },
        "id": "hjeCB8qsOkwj",
        "outputId": "4d6d4850-8c3c-41c1-b4f4-37aede238a98"
      },
      "id": "hjeCB8qsOkwj",
      "execution_count": null,
      "outputs": [
        {
          "output_type": "stream",
          "name": "stdout",
          "text": [
            "Looking in indexes: https://pypi.org/simple, https://us-python.pkg.dev/colab-wheels/public/simple/\n",
            "Collecting gluonts\n",
            "  Downloading gluonts-0.11.7-py3-none-any.whl (1.0 MB)\n",
            "\u001b[2K     \u001b[90m━━━━━━━━━━━━━━━━━━━━━━━━━━━━━━━━━━━━━━━━\u001b[0m \u001b[32m1.0/1.0 MB\u001b[0m \u001b[31m27.1 MB/s\u001b[0m eta \u001b[36m0:00:00\u001b[0m\n",
            "\u001b[?25hRequirement already satisfied: typing-extensions~=4.0 in /usr/local/lib/python3.8/dist-packages (from gluonts) (4.4.0)\n",
            "Requirement already satisfied: toolz~=0.10 in /usr/local/lib/python3.8/dist-packages (from gluonts) (0.12.0)\n",
            "Requirement already satisfied: pandas~=1.0 in /usr/local/lib/python3.8/dist-packages (from gluonts) (1.3.5)\n",
            "Requirement already satisfied: numpy~=1.16 in /usr/local/lib/python3.8/dist-packages (from gluonts) (1.21.6)\n",
            "Requirement already satisfied: pydantic~=1.7 in /usr/local/lib/python3.8/dist-packages (from gluonts) (1.10.4)\n",
            "Requirement already satisfied: tqdm~=4.23 in /usr/local/lib/python3.8/dist-packages (from gluonts) (4.64.1)\n",
            "Requirement already satisfied: pytz>=2017.3 in /usr/local/lib/python3.8/dist-packages (from pandas~=1.0->gluonts) (2022.7)\n",
            "Requirement already satisfied: python-dateutil>=2.7.3 in /usr/local/lib/python3.8/dist-packages (from pandas~=1.0->gluonts) (2.8.2)\n",
            "Requirement already satisfied: six>=1.5 in /usr/local/lib/python3.8/dist-packages (from python-dateutil>=2.7.3->pandas~=1.0->gluonts) (1.15.0)\n",
            "Installing collected packages: gluonts\n",
            "Successfully installed gluonts-0.11.7\n"
          ]
        }
      ]
    },
    {
      "cell_type": "code",
      "source": [
        "!nvcc --version"
      ],
      "metadata": {
        "colab": {
          "base_uri": "https://localhost:8080/"
        },
        "id": "kA-TVfrdPFM_",
        "outputId": "4d7d87c9-9167-47ea-e4cd-4c9899bab28b"
      },
      "id": "kA-TVfrdPFM_",
      "execution_count": null,
      "outputs": [
        {
          "output_type": "stream",
          "name": "stdout",
          "text": [
            "nvcc: NVIDIA (R) Cuda compiler driver\n",
            "Copyright (c) 2005-2021 NVIDIA Corporation\n",
            "Built on Sun_Feb_14_21:12:58_PST_2021\n",
            "Cuda compilation tools, release 11.2, V11.2.152\n",
            "Build cuda_11.2.r11.2/compiler.29618528_0\n"
          ]
        }
      ]
    },
    {
      "cell_type": "code",
      "source": [
        "!pip install mxnet-cu112"
      ],
      "metadata": {
        "colab": {
          "base_uri": "https://localhost:8080/"
        },
        "id": "7E09pgQxO5k9",
        "outputId": "22594044-82db-4056-c71b-796b81dc7c54"
      },
      "id": "7E09pgQxO5k9",
      "execution_count": null,
      "outputs": [
        {
          "output_type": "stream",
          "name": "stdout",
          "text": [
            "Looking in indexes: https://pypi.org/simple, https://us-python.pkg.dev/colab-wheels/public/simple/\n",
            "Collecting mxnet-cu112\n",
            "  Downloading mxnet_cu112-1.9.1-py3-none-manylinux2014_x86_64.whl (499.4 MB)\n",
            "\u001b[2K     \u001b[90m━━━━━━━━━━━━━━━━━━━━━━━━━━━━━━━━━━━━━━━\u001b[0m \u001b[32m499.4/499.4 MB\u001b[0m \u001b[31m3.1 MB/s\u001b[0m eta \u001b[36m0:00:00\u001b[0m\n",
            "\u001b[?25hRequirement already satisfied: numpy<2.0.0,>1.16.0 in /usr/local/lib/python3.8/dist-packages (from mxnet-cu112) (1.21.6)\n",
            "Requirement already satisfied: requests<3,>=2.20.0 in /usr/local/lib/python3.8/dist-packages (from mxnet-cu112) (2.25.1)\n",
            "Collecting graphviz<0.9.0,>=0.8.1\n",
            "  Downloading graphviz-0.8.4-py2.py3-none-any.whl (16 kB)\n",
            "Requirement already satisfied: certifi>=2017.4.17 in /usr/local/lib/python3.8/dist-packages (from requests<3,>=2.20.0->mxnet-cu112) (2022.12.7)\n",
            "Requirement already satisfied: urllib3<1.27,>=1.21.1 in /usr/local/lib/python3.8/dist-packages (from requests<3,>=2.20.0->mxnet-cu112) (1.24.3)\n",
            "Requirement already satisfied: chardet<5,>=3.0.2 in /usr/local/lib/python3.8/dist-packages (from requests<3,>=2.20.0->mxnet-cu112) (4.0.0)\n",
            "Requirement already satisfied: idna<3,>=2.5 in /usr/local/lib/python3.8/dist-packages (from requests<3,>=2.20.0->mxnet-cu112) (2.10)\n",
            "Installing collected packages: graphviz, mxnet-cu112\n",
            "  Attempting uninstall: graphviz\n",
            "    Found existing installation: graphviz 0.10.1\n",
            "    Uninstalling graphviz-0.10.1:\n",
            "      Successfully uninstalled graphviz-0.10.1\n",
            "Successfully installed graphviz-0.8.4 mxnet-cu112-1.9.1\n"
          ]
        }
      ]
    },
    {
      "cell_type": "code",
      "source": [
        "!pip install utils"
      ],
      "metadata": {
        "colab": {
          "base_uri": "https://localhost:8080/"
        },
        "id": "Rug9hgr2PoVy",
        "outputId": "9564d500-df77-4ec8-ab62-186365eee430"
      },
      "id": "Rug9hgr2PoVy",
      "execution_count": null,
      "outputs": [
        {
          "output_type": "stream",
          "name": "stdout",
          "text": [
            "Looking in indexes: https://pypi.org/simple, https://us-python.pkg.dev/colab-wheels/public/simple/\n",
            "Collecting utils\n",
            "  Downloading utils-1.0.1-py2.py3-none-any.whl (21 kB)\n",
            "Installing collected packages: utils\n",
            "Successfully installed utils-1.0.1\n"
          ]
        }
      ]
    },
    {
      "cell_type": "code",
      "source": [
        "from google.colab import drive\n",
        "drive.mount('/content/gdrive')"
      ],
      "metadata": {
        "colab": {
          "base_uri": "https://localhost:8080/"
        },
        "id": "YM7_Ld7xQfBu",
        "outputId": "9e7bd4ea-6cea-42f2-f8e2-3eeda89f8e9c"
      },
      "id": "YM7_Ld7xQfBu",
      "execution_count": null,
      "outputs": [
        {
          "output_type": "stream",
          "name": "stdout",
          "text": [
            "Drive already mounted at /content/gdrive; to attempt to forcibly remount, call drive.mount(\"/content/gdrive\", force_remount=True).\n"
          ]
        }
      ]
    },
    {
      "cell_type": "code",
      "source": [
        "import numpy as np\n",
        "from sklearn.metrics import r2_score\n",
        "\n",
        "EPSILON = 1e-10\n",
        "\n",
        "\n",
        "def _error(actual: np.ndarray, predicted: np.ndarray):\n",
        "    \"\"\"Simple error\"\"\"\n",
        "    return actual - predicted\n",
        "\n",
        "\n",
        "def _percentage_error(actual: np.ndarray, predicted: np.ndarray):\n",
        "    \"\"\"\n",
        "    Percentage error\n",
        "    Note: result is NOT multiplied by 100\n",
        "    \"\"\"\n",
        "    return _error(actual, predicted) / (actual + EPSILON)\n",
        "\n",
        "\n",
        "def _naive_forecasting(actual: np.ndarray, seasonality: int = 1):\n",
        "    \"\"\"Naive forecasting method which just repeats previous samples\"\"\"\n",
        "    return actual[:-seasonality]\n",
        "\n",
        "\n",
        "def _relative_error(\n",
        "    actual: np.ndarray, predicted: np.ndarray, benchmark: np.ndarray = None\n",
        "):\n",
        "    \"\"\"Relative Error\"\"\"\n",
        "    if benchmark is None or isinstance(benchmark, int):\n",
        "        # If no benchmark prediction provided - use naive forecasting\n",
        "        if not isinstance(benchmark, int):\n",
        "            seasonality = 1\n",
        "        else:\n",
        "            seasonality = benchmark\n",
        "        return _error(actual[seasonality:], predicted[seasonality:]) / (\n",
        "            _error(actual[seasonality:], _naive_forecasting(actual, seasonality))\n",
        "            + EPSILON\n",
        "        )\n",
        "\n",
        "    return _error(actual, predicted) / (_error(actual, benchmark) + EPSILON)\n",
        "\n",
        "\n",
        "def _bounded_relative_error(\n",
        "    actual: np.ndarray, predicted: np.ndarray, benchmark: np.ndarray = None\n",
        "):\n",
        "    \"\"\"Bounded Relative Error\"\"\"\n",
        "    if benchmark is None or isinstance(benchmark, int):\n",
        "        # If no benchmark prediction provided - use naive forecasting\n",
        "        if not isinstance(benchmark, int):\n",
        "            seasonality = 1\n",
        "        else:\n",
        "            seasonality = benchmark\n",
        "\n",
        "        abs_err = np.abs(_error(actual[seasonality:], predicted[seasonality:]))\n",
        "        abs_err_bench = np.abs(\n",
        "            _error(actual[seasonality:], _naive_forecasting(actual, seasonality))\n",
        "        )\n",
        "    else:\n",
        "        abs_err = np.abs(_error(actual, predicted))\n",
        "        abs_err_bench = np.abs(_error(actual, benchmark))\n",
        "\n",
        "    return abs_err / (abs_err + abs_err_bench + EPSILON)\n",
        "\n",
        "\n",
        "def _geometric_mean(a, axis=0, dtype=None):\n",
        "    \"\"\"Geometric mean\"\"\"\n",
        "    if not isinstance(a, np.ndarray):  # if not an ndarray object attempt to convert it\n",
        "        log_a = np.log(np.array(a, dtype=dtype))\n",
        "    elif dtype:  # Must change the default dtype allowing array type\n",
        "        if isinstance(a, np.ma.MaskedArray):\n",
        "            log_a = np.log(np.ma.asarray(a, dtype=dtype))\n",
        "        else:\n",
        "            log_a = np.log(np.asarray(a, dtype=dtype))\n",
        "    else:\n",
        "        log_a = np.log(a)\n",
        "    return np.exp(log_a.mean(axis=axis))\n",
        "\n",
        "\n",
        "def mse(actual: np.ndarray, predicted: np.ndarray):\n",
        "    \"\"\"Mean Squared Error\"\"\"\n",
        "    return np.mean(np.square(_error(actual, predicted)))\n",
        "\n",
        "\n",
        "def rmse(actual: np.ndarray, predicted: np.ndarray):\n",
        "    \"\"\"Root Mean Squared Error\"\"\"\n",
        "    return np.sqrt(mse(actual, predicted))\n",
        "\n",
        "\n",
        "def nrmse(actual: np.ndarray, predicted: np.ndarray):\n",
        "    \"\"\"Normalized Root Mean Squared Error\"\"\"\n",
        "    return rmse(actual, predicted) / (actual.max() - actual.min())\n",
        "\n",
        "\n",
        "def me(actual: np.ndarray, predicted: np.ndarray):\n",
        "    \"\"\"Mean Error\"\"\"\n",
        "    return np.mean(_error(actual, predicted))\n",
        "\n",
        "\n",
        "def mae(actual: np.ndarray, predicted: np.ndarray):\n",
        "    \"\"\"Mean Absolute Error\"\"\"\n",
        "    return np.mean(np.abs(_error(actual, predicted)))\n",
        "\n",
        "\n",
        "mad = mae  # Mean Absolute Deviation (it is the same as MAE)\n",
        "\n",
        "\n",
        "def gmae(actual: np.ndarray, predicted: np.ndarray):\n",
        "    \"\"\"Geometric Mean Absolute Error\"\"\"\n",
        "    return _geometric_mean(np.abs(_error(actual, predicted)))\n",
        "\n",
        "\n",
        "def mdae(actual: np.ndarray, predicted: np.ndarray):\n",
        "    \"\"\"Median Absolute Error\"\"\"\n",
        "    return np.median(np.abs(_error(actual, predicted)))\n",
        "\n",
        "\n",
        "def mpe(actual: np.ndarray, predicted: np.ndarray):\n",
        "    \"\"\"Mean Percentage Error\"\"\"\n",
        "    return np.mean(_percentage_error(actual, predicted))\n",
        "\n",
        "\n",
        "def mape(actual: np.ndarray, predicted: np.ndarray):\n",
        "    \"\"\"\n",
        "    Mean Absolute Percentage Error\n",
        "    Properties:\n",
        "        + Easy to interpret\n",
        "        + Scale independent\n",
        "        - Biased, not symmetric\n",
        "        - Undefined when actual[t] == 0\n",
        "    Note: result is NOT multiplied by 100\n",
        "    \"\"\"\n",
        "    return np.mean(np.abs(_percentage_error(actual, predicted)))\n",
        "\n",
        "\n",
        "def mdape(actual: np.ndarray, predicted: np.ndarray):\n",
        "    \"\"\"\n",
        "    Median Absolute Percentage Error\n",
        "    Note: result is NOT multiplied by 100\n",
        "    \"\"\"\n",
        "    return np.median(np.abs(_percentage_error(actual, predicted)))\n",
        "\n",
        "\n",
        "def smape(actual: np.ndarray, predicted: np.ndarray):\n",
        "    \"\"\"\n",
        "    Symmetric Mean Absolute Percentage Error\n",
        "    Note: result is NOT multiplied by 100\n",
        "    \"\"\"\n",
        "    return np.mean(\n",
        "        2.0\n",
        "        * np.abs(actual - predicted)\n",
        "        / ((np.abs(actual) + np.abs(predicted)) + EPSILON)\n",
        "    )\n",
        "\n",
        "\n",
        "def smdape(actual: np.ndarray, predicted: np.ndarray):\n",
        "    \"\"\"\n",
        "    Symmetric Median Absolute Percentage Error\n",
        "    Note: result is NOT multiplied by 100\n",
        "    \"\"\"\n",
        "    return np.median(\n",
        "        2.0\n",
        "        * np.abs(actual - predicted)\n",
        "        / ((np.abs(actual) + np.abs(predicted)) + EPSILON)\n",
        "    )\n",
        "\n",
        "\n",
        "def maape(actual: np.ndarray, predicted: np.ndarray):\n",
        "    \"\"\"\n",
        "    Mean Arctangent Absolute Percentage Error\n",
        "    Note: result is NOT multiplied by 100\n",
        "    \"\"\"\n",
        "    return np.mean(np.arctan(np.abs((actual - predicted) / (actual + EPSILON))))\n",
        "\n",
        "\n",
        "def mase(actual: np.ndarray, predicted: np.ndarray, seasonality: int = 1):\n",
        "    \"\"\"\n",
        "    Mean Absolute Scaled Error\n",
        "    Baseline (benchmark) is computed with naive forecasting (shifted by @seasonality)\n",
        "    \"\"\"\n",
        "    return mae(actual, predicted) / mae(\n",
        "        actual[seasonality:], _naive_forecasting(actual, seasonality)\n",
        "    )\n",
        "\n",
        "\n",
        "def std_ae(actual: np.ndarray, predicted: np.ndarray):\n",
        "    \"\"\"Normalized Absolute Error\"\"\"\n",
        "    __mae = mae(actual, predicted)\n",
        "    return np.sqrt(\n",
        "        np.sum(np.square(_error(actual, predicted) - __mae)) / (len(actual) - 1)\n",
        "    )\n",
        "\n",
        "\n",
        "def std_ape(actual: np.ndarray, predicted: np.ndarray):\n",
        "    \"\"\"Normalized Absolute Percentage Error\"\"\"\n",
        "    __mape = mape(actual, predicted)\n",
        "    return np.sqrt(\n",
        "        np.sum(np.square(_percentage_error(actual, predicted) - __mape))\n",
        "        / (len(actual) - 1)\n",
        "    )\n",
        "\n",
        "\n",
        "def rmspe(actual: np.ndarray, predicted: np.ndarray):\n",
        "    \"\"\"\n",
        "    Root Mean Squared Percentage Error\n",
        "    Note: result is NOT multiplied by 100\n",
        "    \"\"\"\n",
        "    return np.sqrt(np.mean(np.square(_percentage_error(actual, predicted))))\n",
        "\n",
        "\n",
        "def rmdspe(actual: np.ndarray, predicted: np.ndarray):\n",
        "    \"\"\"\n",
        "    Root Median Squared Percentage Error\n",
        "    Note: result is NOT multiplied by 100\n",
        "    \"\"\"\n",
        "    return np.sqrt(np.median(np.square(_percentage_error(actual, predicted))))\n",
        "\n",
        "\n",
        "def rmsse(actual: np.ndarray, predicted: np.ndarray, seasonality: int = 1):\n",
        "    \"\"\"Root Mean Squared Scaled Error\"\"\"\n",
        "    q = np.abs(_error(actual, predicted)) / mae(\n",
        "        actual[seasonality:], _naive_forecasting(actual, seasonality)\n",
        "    )\n",
        "    return np.sqrt(np.mean(np.square(q)))\n",
        "\n",
        "\n",
        "def inrse(actual: np.ndarray, predicted: np.ndarray):\n",
        "    \"\"\"Integral Normalized Root Squared Error\"\"\"\n",
        "    return np.sqrt(\n",
        "        np.sum(np.square(_error(actual, predicted)))\n",
        "        / np.sum(np.square(actual - np.mean(actual)))\n",
        "    )\n",
        "\n",
        "\n",
        "def rrse(actual: np.ndarray, predicted: np.ndarray):\n",
        "    \"\"\"Root Relative Squared Error\"\"\"\n",
        "    return np.sqrt(\n",
        "        np.sum(np.square(actual - predicted))\n",
        "        / np.sum(np.square(actual - np.mean(actual)))\n",
        "    )\n",
        "\n",
        "\n",
        "def mre(actual: np.ndarray, predicted: np.ndarray, benchmark: np.ndarray = None):\n",
        "    \"\"\"Mean Relative Error\"\"\"\n",
        "    return np.mean(_relative_error(actual, predicted, benchmark))\n",
        "\n",
        "\n",
        "def rae(actual: np.ndarray, predicted: np.ndarray):\n",
        "    \"\"\"Relative Absolute Error (aka Approximation Error)\"\"\"\n",
        "    return np.sum(np.abs(actual - predicted)) / (\n",
        "        np.sum(np.abs(actual - np.mean(actual))) + EPSILON\n",
        "    )\n",
        "\n",
        "\n",
        "def mrae(actual: np.ndarray, predicted: np.ndarray, benchmark: np.ndarray = None):\n",
        "    \"\"\"Mean Relative Absolute Error\"\"\"\n",
        "    return np.mean(np.abs(_relative_error(actual, predicted, benchmark)))\n",
        "\n",
        "\n",
        "def mdrae(actual: np.ndarray, predicted: np.ndarray, benchmark: np.ndarray = None):\n",
        "    \"\"\"Median Relative Absolute Error\"\"\"\n",
        "    return np.median(np.abs(_relative_error(actual, predicted, benchmark)))\n",
        "\n",
        "\n",
        "def gmrae(actual: np.ndarray, predicted: np.ndarray, benchmark: np.ndarray = None):\n",
        "    \"\"\"Geometric Mean Relative Absolute Error\"\"\"\n",
        "    return _geometric_mean(np.abs(_relative_error(actual, predicted, benchmark)))\n",
        "\n",
        "\n",
        "def mbrae(actual: np.ndarray, predicted: np.ndarray, benchmark: np.ndarray = None):\n",
        "    \"\"\"Mean Bounded Relative Absolute Error\"\"\"\n",
        "    return np.mean(_bounded_relative_error(actual, predicted, benchmark))\n",
        "\n",
        "\n",
        "def umbrae(actual: np.ndarray, predicted: np.ndarray, benchmark: np.ndarray = None):\n",
        "    \"\"\"Unscaled Mean Bounded Relative Absolute Error\"\"\"\n",
        "    __mbrae = mbrae(actual, predicted, benchmark)\n",
        "    return __mbrae / (1 - __mbrae)\n",
        "\n",
        "\n",
        "def mda(actual: np.ndarray, predicted: np.ndarray):\n",
        "    \"\"\"Mean Directional Accuracy\"\"\"\n",
        "    return np.mean(\n",
        "        (\n",
        "            np.sign(actual[1:] - actual[:-1]) == np.sign(predicted[1:] - predicted[:-1])\n",
        "        ).astype(int)\n",
        "    )\n",
        "\n",
        "\n",
        "def bias(actual: np.ndarray, predicted: np.ndarray):\n",
        "    \"\"\"Mean forecast error(or Forecast Bias)\"\"\"\n",
        "    return np.mean(actual - predicted)\n",
        "\n",
        "\n",
        "METRICS = {\n",
        "    \"mse\": mse,\n",
        "    \"rmse\": rmse,\n",
        "    \"nrmse\": nrmse,\n",
        "    \"me\": me,\n",
        "    \"mae\": mae,\n",
        "    \"mad\": mad,\n",
        "    \"gmae\": gmae,\n",
        "    \"mdae\": mdae,\n",
        "    \"mpe\": mpe,\n",
        "    \"mape\": mape,\n",
        "    \"mdape\": mdape,\n",
        "    \"smape\": smape,\n",
        "    \"smdape\": smdape,\n",
        "    \"maape\": maape,\n",
        "    \"mase\": mase,\n",
        "    \"std_ae\": std_ae,\n",
        "    \"std_ape\": std_ape,\n",
        "    \"rmspe\": rmspe,\n",
        "    \"rmdspe\": rmdspe,\n",
        "    \"rmsse\": rmsse,\n",
        "    \"inrse\": inrse,\n",
        "    \"rrse\": rrse,\n",
        "    \"mre\": mre,\n",
        "    \"rae\": rae,\n",
        "    \"mrae\": mrae,\n",
        "    \"mdrae\": mdrae,\n",
        "    \"gmrae\": gmrae,\n",
        "    \"mbrae\": mbrae,\n",
        "    \"umbrae\": umbrae,\n",
        "    \"mda\": mda,\n",
        "    \"bias\": bias,\n",
        "    \"r2\": r2_score,\n",
        "}\n",
        "\n",
        "\n",
        "def evaluate(\n",
        "    actual: np.ndarray, predicted: np.ndarray, metrics=(\"mae\", \"rmse\", \"mape\", \"r2\")\n",
        "):\n",
        "    results = {}\n",
        "    for name in metrics:\n",
        "        try:\n",
        "            results[name] = METRICS[name](actual, predicted)\n",
        "        except Exception as err:\n",
        "            results[name] = np.nan\n",
        "            print(\"Unable to compute metric {0}: {1}\".format(name, err))\n",
        "    return results\n",
        "\n",
        "\n",
        "def evaluate_all(actual: np.ndarray, predicted: np.ndarray):\n",
        "    return evaluate(actual, predicted, metrics=set(METRICS.keys()))"
      ],
      "metadata": {
        "id": "NIMvm5jcaBkl"
      },
      "id": "NIMvm5jcaBkl",
      "execution_count": null,
      "outputs": []
    },
    {
      "cell_type": "code",
      "execution_count": null,
      "id": "02114b38",
      "metadata": {
        "id": "02114b38",
        "colab": {
          "base_uri": "https://localhost:8080/"
        },
        "outputId": "ee2d9489-50b8-43aa-df7a-0c1dff413172"
      },
      "outputs": [
        {
          "output_type": "stream",
          "name": "stdout",
          "text": [
            "2.9.2\n"
          ]
        }
      ],
      "source": [
        "import pickle\n",
        "import warnings\n",
        "from math import sqrt\n",
        "\n",
        "import lightgbm as lgb\n",
        "import matplotlib as mpl\n",
        "import numpy as np\n",
        "import pandas as pd  \n",
        "import pmdarima as pm\n",
        "import tensorflow as tf\n",
        "import xgboost as xgb\n",
        "from bayes_opt import BayesianOptimization\n",
        "from fbprophet import Prophet\n",
        "from gluonts.dataset.common import ListDataset\n",
        "from gluonts.evaluation.backtest import make_evaluation_predictions\n",
        "from gluonts.model.deepar import DeepAREstimator\n",
        "from gluonts.mx.trainer import Trainer\n",
        "from matplotlib import pyplot as plt\n",
        "from sklearn import linear_model, svm\n",
        "from sklearn.ensemble import RandomForestRegressor\n",
        "from sklearn.metrics import make_scorer, mean_squared_error\n",
        "from sklearn.model_selection import GridSearchCV, cross_val_score\n",
        "from sklearn.neighbors import KNeighborsRegressor\n",
        "from sklearn.preprocessing import StandardScaler\n",
        "from statsmodels.tsa.ar_model import AutoReg\n",
        "from statsmodels.tsa.arima.model import ARIMA\n",
        "from statsmodels.tsa.holtwinters import ExponentialSmoothing, SimpleExpSmoothing\n",
        "from statsmodels.tsa.statespace.sarimax import SARIMAX\n",
        "from tqdm import tqdm\n",
        "\n",
        "# from utils.metrics import evaluate\n",
        "\n",
        "\n",
        "# We will use deprecated models of statmodels which throw a lot of warnings to use more modern ones\n",
        "warnings.filterwarnings(\"ignore\")\n",
        "\n",
        "\n",
        "# Extra settings\n",
        "seed = 42\n",
        "tf.random.set_seed(seed)\n",
        "np.random.seed(seed)\n",
        "plt.style.use('bmh')\n",
        "mpl.rcParams['axes.labelsize'] = 14\n",
        "mpl.rcParams['xtick.labelsize'] = 12\n",
        "mpl.rcParams['ytick.labelsize'] = 12\n",
        "mpl.rcParams['text.color'] = 'k'\n",
        "mpl.rcParams['figure.figsize'] = 18, 8\n",
        "\n",
        "print(tf.__version__)\n",
        "\n",
        "df = pd.read_csv('/content/gdrive/MyDrive/Techfest/Data/iphone14.csv', parse_dates=['Start_week'])\n",
        "\n",
        "# df = pd.read_csv('/content/gdrive/MyDrive/Techfest/Data/iphone14.csv', parse_dates=['Start_week'])\n",
        "# df.set_index('Start_week', inplace=True)"
      ]
    },
    {
      "cell_type": "markdown",
      "id": "3ece5524",
      "metadata": {
        "incorrectly_encoded_metadata": "toc-hr-collapsed=false",
        "id": "3ece5524"
      },
      "source": [
        "# Methods for time series forecasting"
      ]
    },
    {
      "cell_type": "markdown",
      "id": "27c103d0",
      "metadata": {
        "id": "27c103d0"
      },
      "source": [
        "There are many methods that we can use for time series forecasting and there is not a clear winner. Model selection should always depend on how you data look and what are you trying to achieve. Some models may be more robust against outliers but perform worse than the more sensible and could still be the best choice depending on the use case.\n",
        "\n",
        "When looking at your data the main split is wether we have extra regressors (features) to our time series or just the series. Based on this we can start exploring different methods for forecasting and their performance in different metrics.\n",
        "\n",
        "In this section we will show models for both cases, time series with and without extra regressors."
      ]
    },
    {
      "cell_type": "markdown",
      "id": "66416be2",
      "metadata": {
        "id": "66416be2"
      },
      "source": [
        "**Prepare data before modeling**"
      ]
    },
    {
      "cell_type": "code",
      "source": [
        "df"
      ],
      "metadata": {
        "id": "FfC2vxtfU9df"
      },
      "id": "FfC2vxtfU9df",
      "execution_count": null,
      "outputs": []
    },
    {
      "cell_type": "code",
      "source": [
        "look_back = []\n",
        "IPhone_14 = df[\"Iphone_14\"]\n",
        "for i in range(0, len(IPhone_14)):\n",
        "  if i==0:\n",
        "    look_back.append(IPhone_14[i])\n",
        "  else:\n",
        "    look_back.append(IPhone_14[i-1])\n",
        "df[\"look_back\"] = pd.Series(look_back)\n",
        "df"
      ],
      "metadata": {
        "id": "BcnUrcBBWF7S",
        "colab": {
          "base_uri": "https://localhost:8080/",
          "height": 941
        },
        "outputId": "b5134034-7b27-427e-a3dd-c866d4f35fcf"
      },
      "id": "BcnUrcBBWF7S",
      "execution_count": null,
      "outputs": [
        {
          "output_type": "execute_result",
          "data": {
            "text/plain": [
              "    Year  Week_ID Start_week    End_week  Iphone_13  Iphone_14  Galaxy_S21  \\\n",
              "0   2022       38 2022-09-18  2022-09-24      36350     188380           0   \n",
              "1   2022       39 2022-09-25  2022-10-01      32950     168930           0   \n",
              "2   2022       40 2022-10-02  2022-10-08      33100     142680           0   \n",
              "3   2022       41 2022-10-09  2022-10-15      36280     126960           0   \n",
              "4   2022       42 2022-10-16  2022-10-22      33480     108280           0   \n",
              "5   2022       43 2022-10-23  2022-10-29      32130      93110           0   \n",
              "6   2022       44 2022-10-30  2022-11-05      36890      77260           0   \n",
              "7   2022       45 2022-11-06  2022-11-12      26710      75390           0   \n",
              "8   2022       46 2022-11-13  2022-11-19      15630      72030           0   \n",
              "9   2022       47 2022-11-20  2022-11-26      11480      57210           0   \n",
              "10  2022       48 2022-11-27  2022-12-03       5790      59290           0   \n",
              "11  2022       49 2022-12-04  2022-12-10          0      61810           0   \n",
              "12  2022       50 2022-12-11  2022-12-17          0      63620           0   \n",
              "13  2022       51 2022-12-18  2022-12-24          0      59030           0   \n",
              "14  2022       52 2022-12-25  2022-12-31          0      90130           0   \n",
              "15  2023        1 2023-01-01  2023-01-07          0      80280           0   \n",
              "16  2023        2 2023-01-08  2023-01-14          0      69850           0   \n",
              "\n",
              "    Galaxy_S22  Galaxy_S23  NumHoliday  ReleaseStat13  ReleaseState14  \\\n",
              "0        32840           0           0              1               1   \n",
              "1        30440           0           0              1               1   \n",
              "2        31940           0           0              1               1   \n",
              "3        28420           0           0              1               1   \n",
              "4        30010           0           0              1               1   \n",
              "5        41150           0           1              1               1   \n",
              "6        27020           0           0              1               1   \n",
              "7        33320           0           0              1               1   \n",
              "8        28980           0           0              1               1   \n",
              "9        31310           0           0              1               1   \n",
              "10       27060           0           0              1               1   \n",
              "11       29370           0           0              0               1   \n",
              "12       30210           0           0              0               1   \n",
              "13       33420           0           0              0               1   \n",
              "14       42260           0           1              0               1   \n",
              "15       17220           0           1              0               1   \n",
              "16       19270           0           0              0               1   \n",
              "\n",
              "    ReleaseStat21  ReleaseStat22  ReleaseStat23  Campaign_Iphone  \\\n",
              "0               0              1              0       900.000000   \n",
              "1               0              1              0       450.000000   \n",
              "2               0              1              0       350.000000   \n",
              "3               0              1              0       650.000000   \n",
              "4               0              1              0         0.000000   \n",
              "5               0              1              0       350.000000   \n",
              "6               0              1              0       250.000000   \n",
              "7               0              1              0       300.000000   \n",
              "8               0              1              0       450.000000   \n",
              "9               0              1              0       350.000000   \n",
              "10              0              1              0       800.000000   \n",
              "11              0              1              0       500.000000   \n",
              "12              0              1              0       350.000000   \n",
              "13              0              1              0       350.000000   \n",
              "14              0              1              0       250.000000   \n",
              "15              0              1              0       887.500000   \n",
              "16              0              1              0       564.285714   \n",
              "\n",
              "    Campaign_Samsung  look_back  \n",
              "0         400.000000     188380  \n",
              "1         450.000000     188380  \n",
              "2         200.000000     168930  \n",
              "3          50.000000     142680  \n",
              "4         850.000000     126960  \n",
              "5         150.000000     108280  \n",
              "6         550.000000      93110  \n",
              "7         450.000000      77260  \n",
              "8         300.000000      75390  \n",
              "9         400.000000      72030  \n",
              "10        600.000000      57210  \n",
              "11        350.000000      59290  \n",
              "12        600.000000      61810  \n",
              "13        400.000000      63620  \n",
              "14        100.000000      59030  \n",
              "15        407.142857      90130  \n",
              "16        300.000000      80280  "
            ],
            "text/html": [
              "\n",
              "  <div id=\"df-aa6c2b17-6a2d-47a3-bc55-ab022adbc7f2\">\n",
              "    <div class=\"colab-df-container\">\n",
              "      <div>\n",
              "<style scoped>\n",
              "    .dataframe tbody tr th:only-of-type {\n",
              "        vertical-align: middle;\n",
              "    }\n",
              "\n",
              "    .dataframe tbody tr th {\n",
              "        vertical-align: top;\n",
              "    }\n",
              "\n",
              "    .dataframe thead th {\n",
              "        text-align: right;\n",
              "    }\n",
              "</style>\n",
              "<table border=\"1\" class=\"dataframe\">\n",
              "  <thead>\n",
              "    <tr style=\"text-align: right;\">\n",
              "      <th></th>\n",
              "      <th>Year</th>\n",
              "      <th>Week_ID</th>\n",
              "      <th>Start_week</th>\n",
              "      <th>End_week</th>\n",
              "      <th>Iphone_13</th>\n",
              "      <th>Iphone_14</th>\n",
              "      <th>Galaxy_S21</th>\n",
              "      <th>Galaxy_S22</th>\n",
              "      <th>Galaxy_S23</th>\n",
              "      <th>NumHoliday</th>\n",
              "      <th>ReleaseStat13</th>\n",
              "      <th>ReleaseState14</th>\n",
              "      <th>ReleaseStat21</th>\n",
              "      <th>ReleaseStat22</th>\n",
              "      <th>ReleaseStat23</th>\n",
              "      <th>Campaign_Iphone</th>\n",
              "      <th>Campaign_Samsung</th>\n",
              "      <th>look_back</th>\n",
              "    </tr>\n",
              "  </thead>\n",
              "  <tbody>\n",
              "    <tr>\n",
              "      <th>0</th>\n",
              "      <td>2022</td>\n",
              "      <td>38</td>\n",
              "      <td>2022-09-18</td>\n",
              "      <td>2022-09-24</td>\n",
              "      <td>36350</td>\n",
              "      <td>188380</td>\n",
              "      <td>0</td>\n",
              "      <td>32840</td>\n",
              "      <td>0</td>\n",
              "      <td>0</td>\n",
              "      <td>1</td>\n",
              "      <td>1</td>\n",
              "      <td>0</td>\n",
              "      <td>1</td>\n",
              "      <td>0</td>\n",
              "      <td>900.000000</td>\n",
              "      <td>400.000000</td>\n",
              "      <td>188380</td>\n",
              "    </tr>\n",
              "    <tr>\n",
              "      <th>1</th>\n",
              "      <td>2022</td>\n",
              "      <td>39</td>\n",
              "      <td>2022-09-25</td>\n",
              "      <td>2022-10-01</td>\n",
              "      <td>32950</td>\n",
              "      <td>168930</td>\n",
              "      <td>0</td>\n",
              "      <td>30440</td>\n",
              "      <td>0</td>\n",
              "      <td>0</td>\n",
              "      <td>1</td>\n",
              "      <td>1</td>\n",
              "      <td>0</td>\n",
              "      <td>1</td>\n",
              "      <td>0</td>\n",
              "      <td>450.000000</td>\n",
              "      <td>450.000000</td>\n",
              "      <td>188380</td>\n",
              "    </tr>\n",
              "    <tr>\n",
              "      <th>2</th>\n",
              "      <td>2022</td>\n",
              "      <td>40</td>\n",
              "      <td>2022-10-02</td>\n",
              "      <td>2022-10-08</td>\n",
              "      <td>33100</td>\n",
              "      <td>142680</td>\n",
              "      <td>0</td>\n",
              "      <td>31940</td>\n",
              "      <td>0</td>\n",
              "      <td>0</td>\n",
              "      <td>1</td>\n",
              "      <td>1</td>\n",
              "      <td>0</td>\n",
              "      <td>1</td>\n",
              "      <td>0</td>\n",
              "      <td>350.000000</td>\n",
              "      <td>200.000000</td>\n",
              "      <td>168930</td>\n",
              "    </tr>\n",
              "    <tr>\n",
              "      <th>3</th>\n",
              "      <td>2022</td>\n",
              "      <td>41</td>\n",
              "      <td>2022-10-09</td>\n",
              "      <td>2022-10-15</td>\n",
              "      <td>36280</td>\n",
              "      <td>126960</td>\n",
              "      <td>0</td>\n",
              "      <td>28420</td>\n",
              "      <td>0</td>\n",
              "      <td>0</td>\n",
              "      <td>1</td>\n",
              "      <td>1</td>\n",
              "      <td>0</td>\n",
              "      <td>1</td>\n",
              "      <td>0</td>\n",
              "      <td>650.000000</td>\n",
              "      <td>50.000000</td>\n",
              "      <td>142680</td>\n",
              "    </tr>\n",
              "    <tr>\n",
              "      <th>4</th>\n",
              "      <td>2022</td>\n",
              "      <td>42</td>\n",
              "      <td>2022-10-16</td>\n",
              "      <td>2022-10-22</td>\n",
              "      <td>33480</td>\n",
              "      <td>108280</td>\n",
              "      <td>0</td>\n",
              "      <td>30010</td>\n",
              "      <td>0</td>\n",
              "      <td>0</td>\n",
              "      <td>1</td>\n",
              "      <td>1</td>\n",
              "      <td>0</td>\n",
              "      <td>1</td>\n",
              "      <td>0</td>\n",
              "      <td>0.000000</td>\n",
              "      <td>850.000000</td>\n",
              "      <td>126960</td>\n",
              "    </tr>\n",
              "    <tr>\n",
              "      <th>5</th>\n",
              "      <td>2022</td>\n",
              "      <td>43</td>\n",
              "      <td>2022-10-23</td>\n",
              "      <td>2022-10-29</td>\n",
              "      <td>32130</td>\n",
              "      <td>93110</td>\n",
              "      <td>0</td>\n",
              "      <td>41150</td>\n",
              "      <td>0</td>\n",
              "      <td>1</td>\n",
              "      <td>1</td>\n",
              "      <td>1</td>\n",
              "      <td>0</td>\n",
              "      <td>1</td>\n",
              "      <td>0</td>\n",
              "      <td>350.000000</td>\n",
              "      <td>150.000000</td>\n",
              "      <td>108280</td>\n",
              "    </tr>\n",
              "    <tr>\n",
              "      <th>6</th>\n",
              "      <td>2022</td>\n",
              "      <td>44</td>\n",
              "      <td>2022-10-30</td>\n",
              "      <td>2022-11-05</td>\n",
              "      <td>36890</td>\n",
              "      <td>77260</td>\n",
              "      <td>0</td>\n",
              "      <td>27020</td>\n",
              "      <td>0</td>\n",
              "      <td>0</td>\n",
              "      <td>1</td>\n",
              "      <td>1</td>\n",
              "      <td>0</td>\n",
              "      <td>1</td>\n",
              "      <td>0</td>\n",
              "      <td>250.000000</td>\n",
              "      <td>550.000000</td>\n",
              "      <td>93110</td>\n",
              "    </tr>\n",
              "    <tr>\n",
              "      <th>7</th>\n",
              "      <td>2022</td>\n",
              "      <td>45</td>\n",
              "      <td>2022-11-06</td>\n",
              "      <td>2022-11-12</td>\n",
              "      <td>26710</td>\n",
              "      <td>75390</td>\n",
              "      <td>0</td>\n",
              "      <td>33320</td>\n",
              "      <td>0</td>\n",
              "      <td>0</td>\n",
              "      <td>1</td>\n",
              "      <td>1</td>\n",
              "      <td>0</td>\n",
              "      <td>1</td>\n",
              "      <td>0</td>\n",
              "      <td>300.000000</td>\n",
              "      <td>450.000000</td>\n",
              "      <td>77260</td>\n",
              "    </tr>\n",
              "    <tr>\n",
              "      <th>8</th>\n",
              "      <td>2022</td>\n",
              "      <td>46</td>\n",
              "      <td>2022-11-13</td>\n",
              "      <td>2022-11-19</td>\n",
              "      <td>15630</td>\n",
              "      <td>72030</td>\n",
              "      <td>0</td>\n",
              "      <td>28980</td>\n",
              "      <td>0</td>\n",
              "      <td>0</td>\n",
              "      <td>1</td>\n",
              "      <td>1</td>\n",
              "      <td>0</td>\n",
              "      <td>1</td>\n",
              "      <td>0</td>\n",
              "      <td>450.000000</td>\n",
              "      <td>300.000000</td>\n",
              "      <td>75390</td>\n",
              "    </tr>\n",
              "    <tr>\n",
              "      <th>9</th>\n",
              "      <td>2022</td>\n",
              "      <td>47</td>\n",
              "      <td>2022-11-20</td>\n",
              "      <td>2022-11-26</td>\n",
              "      <td>11480</td>\n",
              "      <td>57210</td>\n",
              "      <td>0</td>\n",
              "      <td>31310</td>\n",
              "      <td>0</td>\n",
              "      <td>0</td>\n",
              "      <td>1</td>\n",
              "      <td>1</td>\n",
              "      <td>0</td>\n",
              "      <td>1</td>\n",
              "      <td>0</td>\n",
              "      <td>350.000000</td>\n",
              "      <td>400.000000</td>\n",
              "      <td>72030</td>\n",
              "    </tr>\n",
              "    <tr>\n",
              "      <th>10</th>\n",
              "      <td>2022</td>\n",
              "      <td>48</td>\n",
              "      <td>2022-11-27</td>\n",
              "      <td>2022-12-03</td>\n",
              "      <td>5790</td>\n",
              "      <td>59290</td>\n",
              "      <td>0</td>\n",
              "      <td>27060</td>\n",
              "      <td>0</td>\n",
              "      <td>0</td>\n",
              "      <td>1</td>\n",
              "      <td>1</td>\n",
              "      <td>0</td>\n",
              "      <td>1</td>\n",
              "      <td>0</td>\n",
              "      <td>800.000000</td>\n",
              "      <td>600.000000</td>\n",
              "      <td>57210</td>\n",
              "    </tr>\n",
              "    <tr>\n",
              "      <th>11</th>\n",
              "      <td>2022</td>\n",
              "      <td>49</td>\n",
              "      <td>2022-12-04</td>\n",
              "      <td>2022-12-10</td>\n",
              "      <td>0</td>\n",
              "      <td>61810</td>\n",
              "      <td>0</td>\n",
              "      <td>29370</td>\n",
              "      <td>0</td>\n",
              "      <td>0</td>\n",
              "      <td>0</td>\n",
              "      <td>1</td>\n",
              "      <td>0</td>\n",
              "      <td>1</td>\n",
              "      <td>0</td>\n",
              "      <td>500.000000</td>\n",
              "      <td>350.000000</td>\n",
              "      <td>59290</td>\n",
              "    </tr>\n",
              "    <tr>\n",
              "      <th>12</th>\n",
              "      <td>2022</td>\n",
              "      <td>50</td>\n",
              "      <td>2022-12-11</td>\n",
              "      <td>2022-12-17</td>\n",
              "      <td>0</td>\n",
              "      <td>63620</td>\n",
              "      <td>0</td>\n",
              "      <td>30210</td>\n",
              "      <td>0</td>\n",
              "      <td>0</td>\n",
              "      <td>0</td>\n",
              "      <td>1</td>\n",
              "      <td>0</td>\n",
              "      <td>1</td>\n",
              "      <td>0</td>\n",
              "      <td>350.000000</td>\n",
              "      <td>600.000000</td>\n",
              "      <td>61810</td>\n",
              "    </tr>\n",
              "    <tr>\n",
              "      <th>13</th>\n",
              "      <td>2022</td>\n",
              "      <td>51</td>\n",
              "      <td>2022-12-18</td>\n",
              "      <td>2022-12-24</td>\n",
              "      <td>0</td>\n",
              "      <td>59030</td>\n",
              "      <td>0</td>\n",
              "      <td>33420</td>\n",
              "      <td>0</td>\n",
              "      <td>0</td>\n",
              "      <td>0</td>\n",
              "      <td>1</td>\n",
              "      <td>0</td>\n",
              "      <td>1</td>\n",
              "      <td>0</td>\n",
              "      <td>350.000000</td>\n",
              "      <td>400.000000</td>\n",
              "      <td>63620</td>\n",
              "    </tr>\n",
              "    <tr>\n",
              "      <th>14</th>\n",
              "      <td>2022</td>\n",
              "      <td>52</td>\n",
              "      <td>2022-12-25</td>\n",
              "      <td>2022-12-31</td>\n",
              "      <td>0</td>\n",
              "      <td>90130</td>\n",
              "      <td>0</td>\n",
              "      <td>42260</td>\n",
              "      <td>0</td>\n",
              "      <td>1</td>\n",
              "      <td>0</td>\n",
              "      <td>1</td>\n",
              "      <td>0</td>\n",
              "      <td>1</td>\n",
              "      <td>0</td>\n",
              "      <td>250.000000</td>\n",
              "      <td>100.000000</td>\n",
              "      <td>59030</td>\n",
              "    </tr>\n",
              "    <tr>\n",
              "      <th>15</th>\n",
              "      <td>2023</td>\n",
              "      <td>1</td>\n",
              "      <td>2023-01-01</td>\n",
              "      <td>2023-01-07</td>\n",
              "      <td>0</td>\n",
              "      <td>80280</td>\n",
              "      <td>0</td>\n",
              "      <td>17220</td>\n",
              "      <td>0</td>\n",
              "      <td>1</td>\n",
              "      <td>0</td>\n",
              "      <td>1</td>\n",
              "      <td>0</td>\n",
              "      <td>1</td>\n",
              "      <td>0</td>\n",
              "      <td>887.500000</td>\n",
              "      <td>407.142857</td>\n",
              "      <td>90130</td>\n",
              "    </tr>\n",
              "    <tr>\n",
              "      <th>16</th>\n",
              "      <td>2023</td>\n",
              "      <td>2</td>\n",
              "      <td>2023-01-08</td>\n",
              "      <td>2023-01-14</td>\n",
              "      <td>0</td>\n",
              "      <td>69850</td>\n",
              "      <td>0</td>\n",
              "      <td>19270</td>\n",
              "      <td>0</td>\n",
              "      <td>0</td>\n",
              "      <td>0</td>\n",
              "      <td>1</td>\n",
              "      <td>0</td>\n",
              "      <td>1</td>\n",
              "      <td>0</td>\n",
              "      <td>564.285714</td>\n",
              "      <td>300.000000</td>\n",
              "      <td>80280</td>\n",
              "    </tr>\n",
              "  </tbody>\n",
              "</table>\n",
              "</div>\n",
              "      <button class=\"colab-df-convert\" onclick=\"convertToInteractive('df-aa6c2b17-6a2d-47a3-bc55-ab022adbc7f2')\"\n",
              "              title=\"Convert this dataframe to an interactive table.\"\n",
              "              style=\"display:none;\">\n",
              "        \n",
              "  <svg xmlns=\"http://www.w3.org/2000/svg\" height=\"24px\"viewBox=\"0 0 24 24\"\n",
              "       width=\"24px\">\n",
              "    <path d=\"M0 0h24v24H0V0z\" fill=\"none\"/>\n",
              "    <path d=\"M18.56 5.44l.94 2.06.94-2.06 2.06-.94-2.06-.94-.94-2.06-.94 2.06-2.06.94zm-11 1L8.5 8.5l.94-2.06 2.06-.94-2.06-.94L8.5 2.5l-.94 2.06-2.06.94zm10 10l.94 2.06.94-2.06 2.06-.94-2.06-.94-.94-2.06-.94 2.06-2.06.94z\"/><path d=\"M17.41 7.96l-1.37-1.37c-.4-.4-.92-.59-1.43-.59-.52 0-1.04.2-1.43.59L10.3 9.45l-7.72 7.72c-.78.78-.78 2.05 0 2.83L4 21.41c.39.39.9.59 1.41.59.51 0 1.02-.2 1.41-.59l7.78-7.78 2.81-2.81c.8-.78.8-2.07 0-2.86zM5.41 20L4 18.59l7.72-7.72 1.47 1.35L5.41 20z\"/>\n",
              "  </svg>\n",
              "      </button>\n",
              "      \n",
              "  <style>\n",
              "    .colab-df-container {\n",
              "      display:flex;\n",
              "      flex-wrap:wrap;\n",
              "      gap: 12px;\n",
              "    }\n",
              "\n",
              "    .colab-df-convert {\n",
              "      background-color: #E8F0FE;\n",
              "      border: none;\n",
              "      border-radius: 50%;\n",
              "      cursor: pointer;\n",
              "      display: none;\n",
              "      fill: #1967D2;\n",
              "      height: 32px;\n",
              "      padding: 0 0 0 0;\n",
              "      width: 32px;\n",
              "    }\n",
              "\n",
              "    .colab-df-convert:hover {\n",
              "      background-color: #E2EBFA;\n",
              "      box-shadow: 0px 1px 2px rgba(60, 64, 67, 0.3), 0px 1px 3px 1px rgba(60, 64, 67, 0.15);\n",
              "      fill: #174EA6;\n",
              "    }\n",
              "\n",
              "    [theme=dark] .colab-df-convert {\n",
              "      background-color: #3B4455;\n",
              "      fill: #D2E3FC;\n",
              "    }\n",
              "\n",
              "    [theme=dark] .colab-df-convert:hover {\n",
              "      background-color: #434B5C;\n",
              "      box-shadow: 0px 1px 3px 1px rgba(0, 0, 0, 0.15);\n",
              "      filter: drop-shadow(0px 1px 2px rgba(0, 0, 0, 0.3));\n",
              "      fill: #FFFFFF;\n",
              "    }\n",
              "  </style>\n",
              "\n",
              "      <script>\n",
              "        const buttonEl =\n",
              "          document.querySelector('#df-aa6c2b17-6a2d-47a3-bc55-ab022adbc7f2 button.colab-df-convert');\n",
              "        buttonEl.style.display =\n",
              "          google.colab.kernel.accessAllowed ? 'block' : 'none';\n",
              "\n",
              "        async function convertToInteractive(key) {\n",
              "          const element = document.querySelector('#df-aa6c2b17-6a2d-47a3-bc55-ab022adbc7f2');\n",
              "          const dataTable =\n",
              "            await google.colab.kernel.invokeFunction('convertToInteractive',\n",
              "                                                     [key], {});\n",
              "          if (!dataTable) return;\n",
              "\n",
              "          const docLinkHtml = 'Like what you see? Visit the ' +\n",
              "            '<a target=\"_blank\" href=https://colab.research.google.com/notebooks/data_table.ipynb>data table notebook</a>'\n",
              "            + ' to learn more about interactive tables.';\n",
              "          element.innerHTML = '';\n",
              "          dataTable['output_type'] = 'display_data';\n",
              "          await google.colab.output.renderOutput(dataTable, element);\n",
              "          const docLink = document.createElement('div');\n",
              "          docLink.innerHTML = docLinkHtml;\n",
              "          element.appendChild(docLink);\n",
              "        }\n",
              "      </script>\n",
              "    </div>\n",
              "  </div>\n",
              "  "
            ]
          },
          "metadata": {},
          "execution_count": 332
        }
      ]
    },
    {
      "cell_type": "code",
      "source": [
        "df.set_index('Start_week', inplace=True)"
      ],
      "metadata": {
        "id": "yVANz89cXeqG"
      },
      "id": "yVANz89cXeqG",
      "execution_count": null,
      "outputs": []
    },
    {
      "cell_type": "code",
      "source": [
        "df.head()"
      ],
      "metadata": {
        "id": "T1535IHOXqyf",
        "colab": {
          "base_uri": "https://localhost:8080/",
          "height": 388
        },
        "outputId": "b4f63e13-7b3c-4712-a02d-f06ebc8f187e"
      },
      "id": "T1535IHOXqyf",
      "execution_count": null,
      "outputs": [
        {
          "output_type": "execute_result",
          "data": {
            "text/plain": [
              "            Year  Week_ID    End_week  Iphone_13  Iphone_14  Galaxy_S21  \\\n",
              "Start_week                                                                \n",
              "2022-09-18  2022       38  2022-09-24      36350     188380           0   \n",
              "2022-09-25  2022       39  2022-10-01      32950     168930           0   \n",
              "2022-10-02  2022       40  2022-10-08      33100     142680           0   \n",
              "2022-10-09  2022       41  2022-10-15      36280     126960           0   \n",
              "2022-10-16  2022       42  2022-10-22      33480     108280           0   \n",
              "\n",
              "            Galaxy_S22  Galaxy_S23  NumHoliday  ReleaseStat13  ReleaseState14  \\\n",
              "Start_week                                                                      \n",
              "2022-09-18       32840           0           0              1               1   \n",
              "2022-09-25       30440           0           0              1               1   \n",
              "2022-10-02       31940           0           0              1               1   \n",
              "2022-10-09       28420           0           0              1               1   \n",
              "2022-10-16       30010           0           0              1               1   \n",
              "\n",
              "            ReleaseStat21  ReleaseStat22  ReleaseStat23  Campaign_Iphone  \\\n",
              "Start_week                                                                 \n",
              "2022-09-18              0              1              0            900.0   \n",
              "2022-09-25              0              1              0            450.0   \n",
              "2022-10-02              0              1              0            350.0   \n",
              "2022-10-09              0              1              0            650.0   \n",
              "2022-10-16              0              1              0              0.0   \n",
              "\n",
              "            Campaign_Samsung  look_back  \n",
              "Start_week                               \n",
              "2022-09-18             400.0     188380  \n",
              "2022-09-25             450.0     188380  \n",
              "2022-10-02             200.0     168930  \n",
              "2022-10-09              50.0     142680  \n",
              "2022-10-16             850.0     126960  "
            ],
            "text/html": [
              "\n",
              "  <div id=\"df-4688b268-225e-4e08-b3af-8cfddbd7294c\">\n",
              "    <div class=\"colab-df-container\">\n",
              "      <div>\n",
              "<style scoped>\n",
              "    .dataframe tbody tr th:only-of-type {\n",
              "        vertical-align: middle;\n",
              "    }\n",
              "\n",
              "    .dataframe tbody tr th {\n",
              "        vertical-align: top;\n",
              "    }\n",
              "\n",
              "    .dataframe thead th {\n",
              "        text-align: right;\n",
              "    }\n",
              "</style>\n",
              "<table border=\"1\" class=\"dataframe\">\n",
              "  <thead>\n",
              "    <tr style=\"text-align: right;\">\n",
              "      <th></th>\n",
              "      <th>Year</th>\n",
              "      <th>Week_ID</th>\n",
              "      <th>End_week</th>\n",
              "      <th>Iphone_13</th>\n",
              "      <th>Iphone_14</th>\n",
              "      <th>Galaxy_S21</th>\n",
              "      <th>Galaxy_S22</th>\n",
              "      <th>Galaxy_S23</th>\n",
              "      <th>NumHoliday</th>\n",
              "      <th>ReleaseStat13</th>\n",
              "      <th>ReleaseState14</th>\n",
              "      <th>ReleaseStat21</th>\n",
              "      <th>ReleaseStat22</th>\n",
              "      <th>ReleaseStat23</th>\n",
              "      <th>Campaign_Iphone</th>\n",
              "      <th>Campaign_Samsung</th>\n",
              "      <th>look_back</th>\n",
              "    </tr>\n",
              "    <tr>\n",
              "      <th>Start_week</th>\n",
              "      <th></th>\n",
              "      <th></th>\n",
              "      <th></th>\n",
              "      <th></th>\n",
              "      <th></th>\n",
              "      <th></th>\n",
              "      <th></th>\n",
              "      <th></th>\n",
              "      <th></th>\n",
              "      <th></th>\n",
              "      <th></th>\n",
              "      <th></th>\n",
              "      <th></th>\n",
              "      <th></th>\n",
              "      <th></th>\n",
              "      <th></th>\n",
              "      <th></th>\n",
              "    </tr>\n",
              "  </thead>\n",
              "  <tbody>\n",
              "    <tr>\n",
              "      <th>2022-09-18</th>\n",
              "      <td>2022</td>\n",
              "      <td>38</td>\n",
              "      <td>2022-09-24</td>\n",
              "      <td>36350</td>\n",
              "      <td>188380</td>\n",
              "      <td>0</td>\n",
              "      <td>32840</td>\n",
              "      <td>0</td>\n",
              "      <td>0</td>\n",
              "      <td>1</td>\n",
              "      <td>1</td>\n",
              "      <td>0</td>\n",
              "      <td>1</td>\n",
              "      <td>0</td>\n",
              "      <td>900.0</td>\n",
              "      <td>400.0</td>\n",
              "      <td>188380</td>\n",
              "    </tr>\n",
              "    <tr>\n",
              "      <th>2022-09-25</th>\n",
              "      <td>2022</td>\n",
              "      <td>39</td>\n",
              "      <td>2022-10-01</td>\n",
              "      <td>32950</td>\n",
              "      <td>168930</td>\n",
              "      <td>0</td>\n",
              "      <td>30440</td>\n",
              "      <td>0</td>\n",
              "      <td>0</td>\n",
              "      <td>1</td>\n",
              "      <td>1</td>\n",
              "      <td>0</td>\n",
              "      <td>1</td>\n",
              "      <td>0</td>\n",
              "      <td>450.0</td>\n",
              "      <td>450.0</td>\n",
              "      <td>188380</td>\n",
              "    </tr>\n",
              "    <tr>\n",
              "      <th>2022-10-02</th>\n",
              "      <td>2022</td>\n",
              "      <td>40</td>\n",
              "      <td>2022-10-08</td>\n",
              "      <td>33100</td>\n",
              "      <td>142680</td>\n",
              "      <td>0</td>\n",
              "      <td>31940</td>\n",
              "      <td>0</td>\n",
              "      <td>0</td>\n",
              "      <td>1</td>\n",
              "      <td>1</td>\n",
              "      <td>0</td>\n",
              "      <td>1</td>\n",
              "      <td>0</td>\n",
              "      <td>350.0</td>\n",
              "      <td>200.0</td>\n",
              "      <td>168930</td>\n",
              "    </tr>\n",
              "    <tr>\n",
              "      <th>2022-10-09</th>\n",
              "      <td>2022</td>\n",
              "      <td>41</td>\n",
              "      <td>2022-10-15</td>\n",
              "      <td>36280</td>\n",
              "      <td>126960</td>\n",
              "      <td>0</td>\n",
              "      <td>28420</td>\n",
              "      <td>0</td>\n",
              "      <td>0</td>\n",
              "      <td>1</td>\n",
              "      <td>1</td>\n",
              "      <td>0</td>\n",
              "      <td>1</td>\n",
              "      <td>0</td>\n",
              "      <td>650.0</td>\n",
              "      <td>50.0</td>\n",
              "      <td>142680</td>\n",
              "    </tr>\n",
              "    <tr>\n",
              "      <th>2022-10-16</th>\n",
              "      <td>2022</td>\n",
              "      <td>42</td>\n",
              "      <td>2022-10-22</td>\n",
              "      <td>33480</td>\n",
              "      <td>108280</td>\n",
              "      <td>0</td>\n",
              "      <td>30010</td>\n",
              "      <td>0</td>\n",
              "      <td>0</td>\n",
              "      <td>1</td>\n",
              "      <td>1</td>\n",
              "      <td>0</td>\n",
              "      <td>1</td>\n",
              "      <td>0</td>\n",
              "      <td>0.0</td>\n",
              "      <td>850.0</td>\n",
              "      <td>126960</td>\n",
              "    </tr>\n",
              "  </tbody>\n",
              "</table>\n",
              "</div>\n",
              "      <button class=\"colab-df-convert\" onclick=\"convertToInteractive('df-4688b268-225e-4e08-b3af-8cfddbd7294c')\"\n",
              "              title=\"Convert this dataframe to an interactive table.\"\n",
              "              style=\"display:none;\">\n",
              "        \n",
              "  <svg xmlns=\"http://www.w3.org/2000/svg\" height=\"24px\"viewBox=\"0 0 24 24\"\n",
              "       width=\"24px\">\n",
              "    <path d=\"M0 0h24v24H0V0z\" fill=\"none\"/>\n",
              "    <path d=\"M18.56 5.44l.94 2.06.94-2.06 2.06-.94-2.06-.94-.94-2.06-.94 2.06-2.06.94zm-11 1L8.5 8.5l.94-2.06 2.06-.94-2.06-.94L8.5 2.5l-.94 2.06-2.06.94zm10 10l.94 2.06.94-2.06 2.06-.94-2.06-.94-.94-2.06-.94 2.06-2.06.94z\"/><path d=\"M17.41 7.96l-1.37-1.37c-.4-.4-.92-.59-1.43-.59-.52 0-1.04.2-1.43.59L10.3 9.45l-7.72 7.72c-.78.78-.78 2.05 0 2.83L4 21.41c.39.39.9.59 1.41.59.51 0 1.02-.2 1.41-.59l7.78-7.78 2.81-2.81c.8-.78.8-2.07 0-2.86zM5.41 20L4 18.59l7.72-7.72 1.47 1.35L5.41 20z\"/>\n",
              "  </svg>\n",
              "      </button>\n",
              "      \n",
              "  <style>\n",
              "    .colab-df-container {\n",
              "      display:flex;\n",
              "      flex-wrap:wrap;\n",
              "      gap: 12px;\n",
              "    }\n",
              "\n",
              "    .colab-df-convert {\n",
              "      background-color: #E8F0FE;\n",
              "      border: none;\n",
              "      border-radius: 50%;\n",
              "      cursor: pointer;\n",
              "      display: none;\n",
              "      fill: #1967D2;\n",
              "      height: 32px;\n",
              "      padding: 0 0 0 0;\n",
              "      width: 32px;\n",
              "    }\n",
              "\n",
              "    .colab-df-convert:hover {\n",
              "      background-color: #E2EBFA;\n",
              "      box-shadow: 0px 1px 2px rgba(60, 64, 67, 0.3), 0px 1px 3px 1px rgba(60, 64, 67, 0.15);\n",
              "      fill: #174EA6;\n",
              "    }\n",
              "\n",
              "    [theme=dark] .colab-df-convert {\n",
              "      background-color: #3B4455;\n",
              "      fill: #D2E3FC;\n",
              "    }\n",
              "\n",
              "    [theme=dark] .colab-df-convert:hover {\n",
              "      background-color: #434B5C;\n",
              "      box-shadow: 0px 1px 3px 1px rgba(0, 0, 0, 0.15);\n",
              "      filter: drop-shadow(0px 1px 2px rgba(0, 0, 0, 0.3));\n",
              "      fill: #FFFFFF;\n",
              "    }\n",
              "  </style>\n",
              "\n",
              "      <script>\n",
              "        const buttonEl =\n",
              "          document.querySelector('#df-4688b268-225e-4e08-b3af-8cfddbd7294c button.colab-df-convert');\n",
              "        buttonEl.style.display =\n",
              "          google.colab.kernel.accessAllowed ? 'block' : 'none';\n",
              "\n",
              "        async function convertToInteractive(key) {\n",
              "          const element = document.querySelector('#df-4688b268-225e-4e08-b3af-8cfddbd7294c');\n",
              "          const dataTable =\n",
              "            await google.colab.kernel.invokeFunction('convertToInteractive',\n",
              "                                                     [key], {});\n",
              "          if (!dataTable) return;\n",
              "\n",
              "          const docLinkHtml = 'Like what you see? Visit the ' +\n",
              "            '<a target=\"_blank\" href=https://colab.research.google.com/notebooks/data_table.ipynb>data table notebook</a>'\n",
              "            + ' to learn more about interactive tables.';\n",
              "          element.innerHTML = '';\n",
              "          dataTable['output_type'] = 'display_data';\n",
              "          await google.colab.output.renderOutput(dataTable, element);\n",
              "          const docLink = document.createElement('div');\n",
              "          docLink.innerHTML = docLinkHtml;\n",
              "          element.appendChild(docLink);\n",
              "        }\n",
              "      </script>\n",
              "    </div>\n",
              "  </div>\n",
              "  "
            ]
          },
          "metadata": {},
          "execution_count": 334
        }
      ]
    },
    {
      "cell_type": "code",
      "source": [
        "df = df.drop([\"Year\", \"Galaxy_S23\", \"Week_ID\", \"ReleaseStat23\", \"End_week\"], axis=1)\n",
        "df"
      ],
      "metadata": {
        "id": "fZQK9HuRXmDe",
        "colab": {
          "base_uri": "https://localhost:8080/",
          "height": 678
        },
        "outputId": "2b111fbf-a0fc-4812-f6a6-47b225ca1167"
      },
      "id": "fZQK9HuRXmDe",
      "execution_count": null,
      "outputs": [
        {
          "output_type": "execute_result",
          "data": {
            "text/plain": [
              "            Iphone_13  Iphone_14  Galaxy_S21  Galaxy_S22  NumHoliday  \\\n",
              "Start_week                                                             \n",
              "2022-09-18      36350     188380           0       32840           0   \n",
              "2022-09-25      32950     168930           0       30440           0   \n",
              "2022-10-02      33100     142680           0       31940           0   \n",
              "2022-10-09      36280     126960           0       28420           0   \n",
              "2022-10-16      33480     108280           0       30010           0   \n",
              "2022-10-23      32130      93110           0       41150           1   \n",
              "2022-10-30      36890      77260           0       27020           0   \n",
              "2022-11-06      26710      75390           0       33320           0   \n",
              "2022-11-13      15630      72030           0       28980           0   \n",
              "2022-11-20      11480      57210           0       31310           0   \n",
              "2022-11-27       5790      59290           0       27060           0   \n",
              "2022-12-04          0      61810           0       29370           0   \n",
              "2022-12-11          0      63620           0       30210           0   \n",
              "2022-12-18          0      59030           0       33420           0   \n",
              "2022-12-25          0      90130           0       42260           1   \n",
              "2023-01-01          0      80280           0       17220           1   \n",
              "2023-01-08          0      69850           0       19270           0   \n",
              "\n",
              "            ReleaseStat13  ReleaseState14  ReleaseStat21  ReleaseStat22  \\\n",
              "Start_week                                                                \n",
              "2022-09-18              1               1              0              1   \n",
              "2022-09-25              1               1              0              1   \n",
              "2022-10-02              1               1              0              1   \n",
              "2022-10-09              1               1              0              1   \n",
              "2022-10-16              1               1              0              1   \n",
              "2022-10-23              1               1              0              1   \n",
              "2022-10-30              1               1              0              1   \n",
              "2022-11-06              1               1              0              1   \n",
              "2022-11-13              1               1              0              1   \n",
              "2022-11-20              1               1              0              1   \n",
              "2022-11-27              1               1              0              1   \n",
              "2022-12-04              0               1              0              1   \n",
              "2022-12-11              0               1              0              1   \n",
              "2022-12-18              0               1              0              1   \n",
              "2022-12-25              0               1              0              1   \n",
              "2023-01-01              0               1              0              1   \n",
              "2023-01-08              0               1              0              1   \n",
              "\n",
              "            Campaign_Iphone  Campaign_Samsung  look_back  \n",
              "Start_week                                                \n",
              "2022-09-18       900.000000        400.000000     188380  \n",
              "2022-09-25       450.000000        450.000000     188380  \n",
              "2022-10-02       350.000000        200.000000     168930  \n",
              "2022-10-09       650.000000         50.000000     142680  \n",
              "2022-10-16         0.000000        850.000000     126960  \n",
              "2022-10-23       350.000000        150.000000     108280  \n",
              "2022-10-30       250.000000        550.000000      93110  \n",
              "2022-11-06       300.000000        450.000000      77260  \n",
              "2022-11-13       450.000000        300.000000      75390  \n",
              "2022-11-20       350.000000        400.000000      72030  \n",
              "2022-11-27       800.000000        600.000000      57210  \n",
              "2022-12-04       500.000000        350.000000      59290  \n",
              "2022-12-11       350.000000        600.000000      61810  \n",
              "2022-12-18       350.000000        400.000000      63620  \n",
              "2022-12-25       250.000000        100.000000      59030  \n",
              "2023-01-01       887.500000        407.142857      90130  \n",
              "2023-01-08       564.285714        300.000000      80280  "
            ],
            "text/html": [
              "\n",
              "  <div id=\"df-6336b0f5-8727-4892-8c8e-9e0b0522485d\">\n",
              "    <div class=\"colab-df-container\">\n",
              "      <div>\n",
              "<style scoped>\n",
              "    .dataframe tbody tr th:only-of-type {\n",
              "        vertical-align: middle;\n",
              "    }\n",
              "\n",
              "    .dataframe tbody tr th {\n",
              "        vertical-align: top;\n",
              "    }\n",
              "\n",
              "    .dataframe thead th {\n",
              "        text-align: right;\n",
              "    }\n",
              "</style>\n",
              "<table border=\"1\" class=\"dataframe\">\n",
              "  <thead>\n",
              "    <tr style=\"text-align: right;\">\n",
              "      <th></th>\n",
              "      <th>Iphone_13</th>\n",
              "      <th>Iphone_14</th>\n",
              "      <th>Galaxy_S21</th>\n",
              "      <th>Galaxy_S22</th>\n",
              "      <th>NumHoliday</th>\n",
              "      <th>ReleaseStat13</th>\n",
              "      <th>ReleaseState14</th>\n",
              "      <th>ReleaseStat21</th>\n",
              "      <th>ReleaseStat22</th>\n",
              "      <th>Campaign_Iphone</th>\n",
              "      <th>Campaign_Samsung</th>\n",
              "      <th>look_back</th>\n",
              "    </tr>\n",
              "    <tr>\n",
              "      <th>Start_week</th>\n",
              "      <th></th>\n",
              "      <th></th>\n",
              "      <th></th>\n",
              "      <th></th>\n",
              "      <th></th>\n",
              "      <th></th>\n",
              "      <th></th>\n",
              "      <th></th>\n",
              "      <th></th>\n",
              "      <th></th>\n",
              "      <th></th>\n",
              "      <th></th>\n",
              "    </tr>\n",
              "  </thead>\n",
              "  <tbody>\n",
              "    <tr>\n",
              "      <th>2022-09-18</th>\n",
              "      <td>36350</td>\n",
              "      <td>188380</td>\n",
              "      <td>0</td>\n",
              "      <td>32840</td>\n",
              "      <td>0</td>\n",
              "      <td>1</td>\n",
              "      <td>1</td>\n",
              "      <td>0</td>\n",
              "      <td>1</td>\n",
              "      <td>900.000000</td>\n",
              "      <td>400.000000</td>\n",
              "      <td>188380</td>\n",
              "    </tr>\n",
              "    <tr>\n",
              "      <th>2022-09-25</th>\n",
              "      <td>32950</td>\n",
              "      <td>168930</td>\n",
              "      <td>0</td>\n",
              "      <td>30440</td>\n",
              "      <td>0</td>\n",
              "      <td>1</td>\n",
              "      <td>1</td>\n",
              "      <td>0</td>\n",
              "      <td>1</td>\n",
              "      <td>450.000000</td>\n",
              "      <td>450.000000</td>\n",
              "      <td>188380</td>\n",
              "    </tr>\n",
              "    <tr>\n",
              "      <th>2022-10-02</th>\n",
              "      <td>33100</td>\n",
              "      <td>142680</td>\n",
              "      <td>0</td>\n",
              "      <td>31940</td>\n",
              "      <td>0</td>\n",
              "      <td>1</td>\n",
              "      <td>1</td>\n",
              "      <td>0</td>\n",
              "      <td>1</td>\n",
              "      <td>350.000000</td>\n",
              "      <td>200.000000</td>\n",
              "      <td>168930</td>\n",
              "    </tr>\n",
              "    <tr>\n",
              "      <th>2022-10-09</th>\n",
              "      <td>36280</td>\n",
              "      <td>126960</td>\n",
              "      <td>0</td>\n",
              "      <td>28420</td>\n",
              "      <td>0</td>\n",
              "      <td>1</td>\n",
              "      <td>1</td>\n",
              "      <td>0</td>\n",
              "      <td>1</td>\n",
              "      <td>650.000000</td>\n",
              "      <td>50.000000</td>\n",
              "      <td>142680</td>\n",
              "    </tr>\n",
              "    <tr>\n",
              "      <th>2022-10-16</th>\n",
              "      <td>33480</td>\n",
              "      <td>108280</td>\n",
              "      <td>0</td>\n",
              "      <td>30010</td>\n",
              "      <td>0</td>\n",
              "      <td>1</td>\n",
              "      <td>1</td>\n",
              "      <td>0</td>\n",
              "      <td>1</td>\n",
              "      <td>0.000000</td>\n",
              "      <td>850.000000</td>\n",
              "      <td>126960</td>\n",
              "    </tr>\n",
              "    <tr>\n",
              "      <th>2022-10-23</th>\n",
              "      <td>32130</td>\n",
              "      <td>93110</td>\n",
              "      <td>0</td>\n",
              "      <td>41150</td>\n",
              "      <td>1</td>\n",
              "      <td>1</td>\n",
              "      <td>1</td>\n",
              "      <td>0</td>\n",
              "      <td>1</td>\n",
              "      <td>350.000000</td>\n",
              "      <td>150.000000</td>\n",
              "      <td>108280</td>\n",
              "    </tr>\n",
              "    <tr>\n",
              "      <th>2022-10-30</th>\n",
              "      <td>36890</td>\n",
              "      <td>77260</td>\n",
              "      <td>0</td>\n",
              "      <td>27020</td>\n",
              "      <td>0</td>\n",
              "      <td>1</td>\n",
              "      <td>1</td>\n",
              "      <td>0</td>\n",
              "      <td>1</td>\n",
              "      <td>250.000000</td>\n",
              "      <td>550.000000</td>\n",
              "      <td>93110</td>\n",
              "    </tr>\n",
              "    <tr>\n",
              "      <th>2022-11-06</th>\n",
              "      <td>26710</td>\n",
              "      <td>75390</td>\n",
              "      <td>0</td>\n",
              "      <td>33320</td>\n",
              "      <td>0</td>\n",
              "      <td>1</td>\n",
              "      <td>1</td>\n",
              "      <td>0</td>\n",
              "      <td>1</td>\n",
              "      <td>300.000000</td>\n",
              "      <td>450.000000</td>\n",
              "      <td>77260</td>\n",
              "    </tr>\n",
              "    <tr>\n",
              "      <th>2022-11-13</th>\n",
              "      <td>15630</td>\n",
              "      <td>72030</td>\n",
              "      <td>0</td>\n",
              "      <td>28980</td>\n",
              "      <td>0</td>\n",
              "      <td>1</td>\n",
              "      <td>1</td>\n",
              "      <td>0</td>\n",
              "      <td>1</td>\n",
              "      <td>450.000000</td>\n",
              "      <td>300.000000</td>\n",
              "      <td>75390</td>\n",
              "    </tr>\n",
              "    <tr>\n",
              "      <th>2022-11-20</th>\n",
              "      <td>11480</td>\n",
              "      <td>57210</td>\n",
              "      <td>0</td>\n",
              "      <td>31310</td>\n",
              "      <td>0</td>\n",
              "      <td>1</td>\n",
              "      <td>1</td>\n",
              "      <td>0</td>\n",
              "      <td>1</td>\n",
              "      <td>350.000000</td>\n",
              "      <td>400.000000</td>\n",
              "      <td>72030</td>\n",
              "    </tr>\n",
              "    <tr>\n",
              "      <th>2022-11-27</th>\n",
              "      <td>5790</td>\n",
              "      <td>59290</td>\n",
              "      <td>0</td>\n",
              "      <td>27060</td>\n",
              "      <td>0</td>\n",
              "      <td>1</td>\n",
              "      <td>1</td>\n",
              "      <td>0</td>\n",
              "      <td>1</td>\n",
              "      <td>800.000000</td>\n",
              "      <td>600.000000</td>\n",
              "      <td>57210</td>\n",
              "    </tr>\n",
              "    <tr>\n",
              "      <th>2022-12-04</th>\n",
              "      <td>0</td>\n",
              "      <td>61810</td>\n",
              "      <td>0</td>\n",
              "      <td>29370</td>\n",
              "      <td>0</td>\n",
              "      <td>0</td>\n",
              "      <td>1</td>\n",
              "      <td>0</td>\n",
              "      <td>1</td>\n",
              "      <td>500.000000</td>\n",
              "      <td>350.000000</td>\n",
              "      <td>59290</td>\n",
              "    </tr>\n",
              "    <tr>\n",
              "      <th>2022-12-11</th>\n",
              "      <td>0</td>\n",
              "      <td>63620</td>\n",
              "      <td>0</td>\n",
              "      <td>30210</td>\n",
              "      <td>0</td>\n",
              "      <td>0</td>\n",
              "      <td>1</td>\n",
              "      <td>0</td>\n",
              "      <td>1</td>\n",
              "      <td>350.000000</td>\n",
              "      <td>600.000000</td>\n",
              "      <td>61810</td>\n",
              "    </tr>\n",
              "    <tr>\n",
              "      <th>2022-12-18</th>\n",
              "      <td>0</td>\n",
              "      <td>59030</td>\n",
              "      <td>0</td>\n",
              "      <td>33420</td>\n",
              "      <td>0</td>\n",
              "      <td>0</td>\n",
              "      <td>1</td>\n",
              "      <td>0</td>\n",
              "      <td>1</td>\n",
              "      <td>350.000000</td>\n",
              "      <td>400.000000</td>\n",
              "      <td>63620</td>\n",
              "    </tr>\n",
              "    <tr>\n",
              "      <th>2022-12-25</th>\n",
              "      <td>0</td>\n",
              "      <td>90130</td>\n",
              "      <td>0</td>\n",
              "      <td>42260</td>\n",
              "      <td>1</td>\n",
              "      <td>0</td>\n",
              "      <td>1</td>\n",
              "      <td>0</td>\n",
              "      <td>1</td>\n",
              "      <td>250.000000</td>\n",
              "      <td>100.000000</td>\n",
              "      <td>59030</td>\n",
              "    </tr>\n",
              "    <tr>\n",
              "      <th>2023-01-01</th>\n",
              "      <td>0</td>\n",
              "      <td>80280</td>\n",
              "      <td>0</td>\n",
              "      <td>17220</td>\n",
              "      <td>1</td>\n",
              "      <td>0</td>\n",
              "      <td>1</td>\n",
              "      <td>0</td>\n",
              "      <td>1</td>\n",
              "      <td>887.500000</td>\n",
              "      <td>407.142857</td>\n",
              "      <td>90130</td>\n",
              "    </tr>\n",
              "    <tr>\n",
              "      <th>2023-01-08</th>\n",
              "      <td>0</td>\n",
              "      <td>69850</td>\n",
              "      <td>0</td>\n",
              "      <td>19270</td>\n",
              "      <td>0</td>\n",
              "      <td>0</td>\n",
              "      <td>1</td>\n",
              "      <td>0</td>\n",
              "      <td>1</td>\n",
              "      <td>564.285714</td>\n",
              "      <td>300.000000</td>\n",
              "      <td>80280</td>\n",
              "    </tr>\n",
              "  </tbody>\n",
              "</table>\n",
              "</div>\n",
              "      <button class=\"colab-df-convert\" onclick=\"convertToInteractive('df-6336b0f5-8727-4892-8c8e-9e0b0522485d')\"\n",
              "              title=\"Convert this dataframe to an interactive table.\"\n",
              "              style=\"display:none;\">\n",
              "        \n",
              "  <svg xmlns=\"http://www.w3.org/2000/svg\" height=\"24px\"viewBox=\"0 0 24 24\"\n",
              "       width=\"24px\">\n",
              "    <path d=\"M0 0h24v24H0V0z\" fill=\"none\"/>\n",
              "    <path d=\"M18.56 5.44l.94 2.06.94-2.06 2.06-.94-2.06-.94-.94-2.06-.94 2.06-2.06.94zm-11 1L8.5 8.5l.94-2.06 2.06-.94-2.06-.94L8.5 2.5l-.94 2.06-2.06.94zm10 10l.94 2.06.94-2.06 2.06-.94-2.06-.94-.94-2.06-.94 2.06-2.06.94z\"/><path d=\"M17.41 7.96l-1.37-1.37c-.4-.4-.92-.59-1.43-.59-.52 0-1.04.2-1.43.59L10.3 9.45l-7.72 7.72c-.78.78-.78 2.05 0 2.83L4 21.41c.39.39.9.59 1.41.59.51 0 1.02-.2 1.41-.59l7.78-7.78 2.81-2.81c.8-.78.8-2.07 0-2.86zM5.41 20L4 18.59l7.72-7.72 1.47 1.35L5.41 20z\"/>\n",
              "  </svg>\n",
              "      </button>\n",
              "      \n",
              "  <style>\n",
              "    .colab-df-container {\n",
              "      display:flex;\n",
              "      flex-wrap:wrap;\n",
              "      gap: 12px;\n",
              "    }\n",
              "\n",
              "    .colab-df-convert {\n",
              "      background-color: #E8F0FE;\n",
              "      border: none;\n",
              "      border-radius: 50%;\n",
              "      cursor: pointer;\n",
              "      display: none;\n",
              "      fill: #1967D2;\n",
              "      height: 32px;\n",
              "      padding: 0 0 0 0;\n",
              "      width: 32px;\n",
              "    }\n",
              "\n",
              "    .colab-df-convert:hover {\n",
              "      background-color: #E2EBFA;\n",
              "      box-shadow: 0px 1px 2px rgba(60, 64, 67, 0.3), 0px 1px 3px 1px rgba(60, 64, 67, 0.15);\n",
              "      fill: #174EA6;\n",
              "    }\n",
              "\n",
              "    [theme=dark] .colab-df-convert {\n",
              "      background-color: #3B4455;\n",
              "      fill: #D2E3FC;\n",
              "    }\n",
              "\n",
              "    [theme=dark] .colab-df-convert:hover {\n",
              "      background-color: #434B5C;\n",
              "      box-shadow: 0px 1px 3px 1px rgba(0, 0, 0, 0.15);\n",
              "      filter: drop-shadow(0px 1px 2px rgba(0, 0, 0, 0.3));\n",
              "      fill: #FFFFFF;\n",
              "    }\n",
              "  </style>\n",
              "\n",
              "      <script>\n",
              "        const buttonEl =\n",
              "          document.querySelector('#df-6336b0f5-8727-4892-8c8e-9e0b0522485d button.colab-df-convert');\n",
              "        buttonEl.style.display =\n",
              "          google.colab.kernel.accessAllowed ? 'block' : 'none';\n",
              "\n",
              "        async function convertToInteractive(key) {\n",
              "          const element = document.querySelector('#df-6336b0f5-8727-4892-8c8e-9e0b0522485d');\n",
              "          const dataTable =\n",
              "            await google.colab.kernel.invokeFunction('convertToInteractive',\n",
              "                                                     [key], {});\n",
              "          if (!dataTable) return;\n",
              "\n",
              "          const docLinkHtml = 'Like what you see? Visit the ' +\n",
              "            '<a target=\"_blank\" href=https://colab.research.google.com/notebooks/data_table.ipynb>data table notebook</a>'\n",
              "            + ' to learn more about interactive tables.';\n",
              "          element.innerHTML = '';\n",
              "          dataTable['output_type'] = 'display_data';\n",
              "          await google.colab.output.renderOutput(dataTable, element);\n",
              "          const docLink = document.createElement('div');\n",
              "          docLink.innerHTML = docLinkHtml;\n",
              "          element.appendChild(docLink);\n",
              "        }\n",
              "      </script>\n",
              "    </div>\n",
              "  </div>\n",
              "  "
            ]
          },
          "metadata": {},
          "execution_count": 335
        }
      ]
    },
    {
      "cell_type": "code",
      "source": [
        "df.shape"
      ],
      "metadata": {
        "id": "6ZUAtVkaVjC3",
        "colab": {
          "base_uri": "https://localhost:8080/"
        },
        "outputId": "6394a101-791d-469d-936c-084ed484cbc7"
      },
      "id": "6ZUAtVkaVjC3",
      "execution_count": null,
      "outputs": [
        {
          "output_type": "execute_result",
          "data": {
            "text/plain": [
              "(17, 12)"
            ]
          },
          "metadata": {},
          "execution_count": 336
        }
      ]
    },
    {
      "cell_type": "code",
      "execution_count": null,
      "id": "6bb64bd4",
      "metadata": {
        "id": "6bb64bd4",
        "colab": {
          "base_uri": "https://localhost:8080/"
        },
        "outputId": "1612e8ff-1beb-4d89-a22a-5ef3fb4caa39"
      },
      "outputs": [
        {
          "output_type": "stream",
          "name": "stdout",
          "text": [
            "12 days of training data \n",
            " 5 days of testing data \n"
          ]
        }
      ],
      "source": [
        "# We split our dataset to be able to evaluate our models\n",
        "\n",
        "resultsDict = {}\n",
        "predictionsDict = {}\n",
        "\n",
        "\n",
        "split_date = '2022-12-04'\n",
        "df_training = df.loc[df.index <= split_date]\n",
        "df_test = df.loc[df.index > split_date]\n",
        "print(f\"{len(df_training)} days of training data \\n {len(df_test)} days of testing data \")\n",
        "\n",
        "df_training.to_csv('/content/gdrive/MyDrive/Techfest/Data/training14.csv')\n",
        "df_test.to_csv('/content/gdrive/MyDrive/Techfest/Data/test14.csv')"
      ]
    },
    {
      "cell_type": "markdown",
      "id": "d1339306",
      "metadata": {
        "id": "d1339306"
      },
      "source": [
        "It is also very important to include some naive forecast as the series mean or previous value to make sure our models perform better than the simplest of the simplest. We dont want to introduce any complexity if it does not provides any performance gain."
      ]
    },
    {
      "cell_type": "code",
      "execution_count": null,
      "id": "651a3f0d",
      "metadata": {
        "id": "651a3f0d"
      },
      "outputs": [],
      "source": [
        "# Also add the naive mean average value\n",
        "mean = df_training.Iphone_14.mean()\n",
        "mean = np.array([mean for u in range(len(df_test))])\n",
        "resultsDict['Naive mean'] = evaluate(df_test.Iphone_14, mean)\n",
        "predictionsDict['Naive mean'] = mean\n",
        "resultsDict['Last week value'] = evaluate(\n",
        "    df_test.Iphone_14, df_test.look_back)\n",
        "predictionsDict['Last week value'] = df_test.look_back.values"
      ]
    },
    {
      "cell_type": "markdown",
      "id": "c39c9047",
      "metadata": {
        "incorrectly_encoded_metadata": "toc-hr-collapsed=false",
        "id": "c39c9047"
      },
      "source": [
        "## Univariate-time-series-forecasting"
      ]
    },
    {
      "cell_type": "markdown",
      "id": "c33f75c3",
      "metadata": {
        "id": "c33f75c3"
      },
      "source": [
        "In this section we will focus on time series forecasting methods capable of only looking at the target variable. This means no other regressors (more variables) can be added into the model."
      ]
    },
    {
      "cell_type": "markdown",
      "id": "2db9fc4c",
      "metadata": {
        "id": "2db9fc4c"
      },
      "source": [
        "### Simple Exponential Smoothing (SES)"
      ]
    },
    {
      "cell_type": "markdown",
      "id": "4949b628",
      "metadata": {
        "id": "4949b628"
      },
      "source": [
        "The Simple Exponential Smoothing (SES) method models the next time step as an exponentially weighted linear function of observations at prior time steps. This method expects our time series to be non stationary in order to perform adecuately (no trend or seasonality)"
      ]
    },
    {
      "cell_type": "code",
      "execution_count": null,
      "id": "24a6209b",
      "metadata": {
        "id": "24a6209b",
        "colab": {
          "base_uri": "https://localhost:8080/"
        },
        "outputId": "e3f82f47-b7bc-49be-df41-adbaa49d370f"
      },
      "outputs": [
        {
          "output_type": "stream",
          "name": "stderr",
          "text": [
            "100%|██████████| 5/5 [00:00<00:00, 83.02it/s]\n"
          ]
        }
      ],
      "source": [
        "# Walk throught the test data, training and predicting 1 day ahead for all the test data\n",
        "index = len(df_training)\n",
        "yhat = list()\n",
        "for t in tqdm(range(len(df_test.Iphone_14))):\n",
        "    temp_train = df[:len(df_training)+t]\n",
        "    model = SimpleExpSmoothing(temp_train.Iphone_14)\n",
        "    model_fit = model.fit()\n",
        "    predictions = model_fit.predict(start=len(temp_train), end=len(temp_train))\n",
        "    yhat = yhat + [predictions]\n",
        "\n",
        "yhat = pd.concat(yhat)\n",
        "resultsDict['SES'] = evaluate(df_test.Iphone_14, yhat.values)\n",
        "predictionsDict['SES'] = yhat.values"
      ]
    },
    {
      "cell_type": "code",
      "source": [
        "from sklearn.metrics import mean_squared_error\n",
        "import math"
      ],
      "metadata": {
        "id": "AtdOgU--8tYE"
      },
      "id": "AtdOgU--8tYE",
      "execution_count": null,
      "outputs": []
    },
    {
      "cell_type": "code",
      "source": [
        "ses_mse = round(mean_squared_error(df_test.Iphone_14.values, yhat.values), 2)\n",
        "ses_mse"
      ],
      "metadata": {
        "id": "3ERYyI368y3F",
        "colab": {
          "base_uri": "https://localhost:8080/"
        },
        "outputId": "6042ded9-00a5-4e9c-f6ab-964ca88e1997"
      },
      "id": "3ERYyI368y3F",
      "execution_count": null,
      "outputs": [
        {
          "output_type": "execute_result",
          "data": {
            "text/plain": [
              "239060104.27"
            ]
          },
          "metadata": {},
          "execution_count": 341
        }
      ]
    },
    {
      "cell_type": "code",
      "source": [
        "print(\"Test MSE linear: %.2f\" % ses_mse)"
      ],
      "metadata": {
        "id": "JOoHDmEc8xzl",
        "colab": {
          "base_uri": "https://localhost:8080/"
        },
        "outputId": "8f88e105-e078-4476-d3be-5b8ba73e4270"
      },
      "id": "JOoHDmEc8xzl",
      "execution_count": null,
      "outputs": [
        {
          "output_type": "stream",
          "name": "stdout",
          "text": [
            "Test MSE linear: 239060104.27\n"
          ]
        }
      ]
    },
    {
      "cell_type": "markdown",
      "id": "cd313f03",
      "metadata": {
        "id": "cd313f03"
      },
      "source": [
        "### Holt Winter’s Exponential Smoothing (HWES)"
      ]
    },
    {
      "cell_type": "markdown",
      "id": "291da18f",
      "metadata": {
        "id": "291da18f"
      },
      "source": [
        "[HWES](https://machinelearningmastery.com/how-to-grid-search-triple-exponential-smoothing-for-time-series-forecasting-in-python/) or also known as triple exponential smoothing"
      ]
    },
    {
      "cell_type": "code",
      "execution_count": null,
      "id": "2f0e25a7",
      "metadata": {
        "id": "2f0e25a7",
        "colab": {
          "base_uri": "https://localhost:8080/"
        },
        "outputId": "c134be0a-3be0-4a16-d36c-d6576b2da0e9"
      },
      "outputs": [
        {
          "output_type": "stream",
          "name": "stderr",
          "text": [
            "100%|██████████| 5/5 [00:00<00:00, 106.16it/s]\n"
          ]
        }
      ],
      "source": [
        "# Walk throught the test data, training and predicting 1 day ahead for all the test data\n",
        "index = len(df_training)\n",
        "yhat = list()\n",
        "for t in tqdm(range(len(df_test.Iphone_14))):\n",
        "    temp_train = df[:len(df_training)+t]\n",
        "    model = ExponentialSmoothing(temp_train.Iphone_14)\n",
        "    model_fit = model.fit()\n",
        "    predictions = model_fit.predict(start=len(temp_train), end=len(temp_train))\n",
        "    yhat = yhat + [predictions]\n",
        "\n",
        "yhat = pd.concat(yhat)\n",
        "resultsDict['HWES'] = evaluate(df_test.Iphone_14, yhat.values)\n",
        "predictionsDict['HWES'] = yhat.values"
      ]
    },
    {
      "cell_type": "code",
      "source": [
        "hwes_mse = round(mean_squared_error(df_test.Iphone_14.values, yhat.values), 2)\n",
        "hwes_mse"
      ],
      "metadata": {
        "id": "Sv8MgvVZ9qDw",
        "colab": {
          "base_uri": "https://localhost:8080/"
        },
        "outputId": "fadb3622-142e-4db2-ec64-5180f8ba84d5"
      },
      "id": "Sv8MgvVZ9qDw",
      "execution_count": null,
      "outputs": [
        {
          "output_type": "execute_result",
          "data": {
            "text/plain": [
              "238791994.16"
            ]
          },
          "metadata": {},
          "execution_count": 344
        }
      ]
    },
    {
      "cell_type": "markdown",
      "id": "091778f3",
      "metadata": {
        "id": "091778f3"
      },
      "source": [
        "### Autoregression (AR)\n",
        "The autoregression (AR) method models the next step in the sequence as a linear function of the observations at prior time steps. Parameters of the model:\n",
        "\n",
        "- __Number of AR (Auto-Regressive) terms (p):__ p is the parameter associated with the auto-regressive aspect of the model, which incorporates past values i.e lags of dependent variable. For instance if p is 5, the predictors for x(t) will be x(t-1)….x(t-5).\n"
      ]
    },
    {
      "cell_type": "code",
      "execution_count": null,
      "id": "f6e7b5fb",
      "metadata": {
        "id": "f6e7b5fb",
        "colab": {
          "base_uri": "https://localhost:8080/"
        },
        "outputId": "64261a75-3986-4401-a9da-082874a0a230"
      },
      "outputs": [
        {
          "output_type": "stream",
          "name": "stderr",
          "text": [
            "100%|██████████| 5/5 [00:00<00:00, 87.08it/s]\n"
          ]
        }
      ],
      "source": [
        "# Walk throught the test data, training and predicting 1 day ahead for all the test data\n",
        "index = len(df_training)\n",
        "yhat = list()\n",
        "for t in tqdm(range(len(df_test.Iphone_14))):\n",
        "    temp_train = df[:len(df_training)+t]\n",
        "    model = AutoReg(temp_train.Iphone_14, 5)\n",
        "    model_fit = model.fit()\n",
        "    predictions = model_fit.predict(\n",
        "        start=len(temp_train), end=len(temp_train), dynamic=False)\n",
        "    yhat = yhat + [predictions]\n",
        "\n",
        "yhat = pd.concat(yhat)\n",
        "resultsDict['AR'] = evaluate(df_test.Iphone_14, yhat.values)\n",
        "predictionsDict['AR'] = yhat.values"
      ]
    },
    {
      "cell_type": "code",
      "execution_count": null,
      "id": "c8a5efbb",
      "metadata": {
        "id": "c8a5efbb",
        "colab": {
          "base_uri": "https://localhost:8080/",
          "height": 499
        },
        "outputId": "d62a5ba5-7861-48bd-bb0e-48b9564df258"
      },
      "outputs": [
        {
          "output_type": "execute_result",
          "data": {
            "text/plain": [
              "<matplotlib.legend.Legend at 0x7faf4e0f7c70>"
            ]
          },
          "metadata": {},
          "execution_count": 346
        },
        {
          "output_type": "display_data",
          "data": {
            "text/plain": [
              "<Figure size 1296x576 with 1 Axes>"
            ],
            "image/png": "[encoded data removed]"
          },
          "metadata": {
            "needs_background": "light"
          }
        }
      ],
      "source": [
        "plt.plot(df_test.Iphone_14.values, label='Original')\n",
        "plt.plot(yhat.values, color='red', label='AR predicted')\n",
        "plt.legend()"
      ]
    },
    {
      "cell_type": "code",
      "source": [
        "ar_mse = round(mean_squared_error(df_test.Iphone_14.values, yhat.values), 2)\n",
        "ar_mse"
      ],
      "metadata": {
        "id": "ay9UGiil6oj3",
        "colab": {
          "base_uri": "https://localhost:8080/"
        },
        "outputId": "76b072e8-6f58-4db8-da7c-3b2cd5007540"
      },
      "id": "ay9UGiil6oj3",
      "execution_count": null,
      "outputs": [
        {
          "output_type": "execute_result",
          "data": {
            "text/plain": [
              "359903217.44"
            ]
          },
          "metadata": {},
          "execution_count": 347
        }
      ]
    },
    {
      "cell_type": "markdown",
      "id": "aff5724b",
      "metadata": {
        "id": "aff5724b"
      },
      "source": [
        "### Moving Average (MA)"
      ]
    },
    {
      "cell_type": "markdown",
      "id": "2187a655",
      "metadata": {
        "id": "2187a655"
      },
      "source": [
        "The Moving Average (MA) method models the next step in the sequence as the average of a window of observations at prior time steps. Parameters of the model:\n",
        "\n",
        "\n",
        "- __Number of MA (Moving Average) terms (q):__ q is size of the moving average part window of the model i.e. lagged forecast errors in prediction equation. For instance if q is 5, the predictors for x(t) will be e(t-1)….e(t-5) where e(i) is the difference between the moving average at ith instant and actual value.\n",
        "\n"
      ]
    },
    {
      "cell_type": "code",
      "execution_count": null,
      "id": "9dc7e497",
      "metadata": {
        "id": "9dc7e497",
        "colab": {
          "base_uri": "https://localhost:8080/",
          "height": 496
        },
        "outputId": "a95a3329-06e3-4065-ae9d-6e00c05b9abf"
      },
      "outputs": [
        {
          "output_type": "stream",
          "name": "stderr",
          "text": [
            "  0%|          | 0/5 [00:00<?, ?it/s]\n"
          ]
        },
        {
          "output_type": "error",
          "ename": "NotImplementedError",
          "evalue": "ignored",
          "traceback": [
            "\u001b[0;31m---------------------------------------------------------------------------\u001b[0m",
            "\u001b[0;31mNotImplementedError\u001b[0m                       Traceback (most recent call last)",
            "\u001b[0;32m<ipython-input-348-352919eac0b0>\u001b[0m in \u001b[0;36m<module>\u001b[0;34m\u001b[0m\n\u001b[1;32m      6\u001b[0m \u001b[0;32mfor\u001b[0m \u001b[0mt\u001b[0m \u001b[0;32min\u001b[0m \u001b[0mtqdm\u001b[0m\u001b[0;34m(\u001b[0m\u001b[0mrange\u001b[0m\u001b[0;34m(\u001b[0m\u001b[0mlen\u001b[0m\u001b[0;34m(\u001b[0m\u001b[0mdf_test\u001b[0m\u001b[0;34m.\u001b[0m\u001b[0mIphone_14\u001b[0m\u001b[0;34m)\u001b[0m\u001b[0;34m)\u001b[0m\u001b[0;34m)\u001b[0m\u001b[0;34m:\u001b[0m\u001b[0;34m\u001b[0m\u001b[0;34m\u001b[0m\u001b[0m\n\u001b[1;32m      7\u001b[0m     \u001b[0mtemp_train\u001b[0m \u001b[0;34m=\u001b[0m \u001b[0mdf\u001b[0m\u001b[0;34m[\u001b[0m\u001b[0;34m:\u001b[0m\u001b[0mlen\u001b[0m\u001b[0;34m(\u001b[0m\u001b[0mdf_training\u001b[0m\u001b[0;34m)\u001b[0m\u001b[0;34m+\u001b[0m\u001b[0mt\u001b[0m\u001b[0;34m]\u001b[0m\u001b[0;34m\u001b[0m\u001b[0;34m\u001b[0m\u001b[0m\n\u001b[0;32m----> 8\u001b[0;31m     \u001b[0mmodel\u001b[0m \u001b[0;34m=\u001b[0m \u001b[0mARMA\u001b[0m\u001b[0;34m(\u001b[0m\u001b[0mtemp_train\u001b[0m\u001b[0;34m.\u001b[0m\u001b[0mIphone_14\u001b[0m\u001b[0;34m,\u001b[0m \u001b[0morder\u001b[0m\u001b[0;34m=\u001b[0m\u001b[0;34m(\u001b[0m\u001b[0;36m0\u001b[0m\u001b[0;34m,\u001b[0m \u001b[0;36m1\u001b[0m\u001b[0;34m)\u001b[0m\u001b[0;34m)\u001b[0m\u001b[0;34m\u001b[0m\u001b[0;34m\u001b[0m\u001b[0m\n\u001b[0m\u001b[1;32m      9\u001b[0m     \u001b[0mmodel_fit\u001b[0m \u001b[0;34m=\u001b[0m \u001b[0mmodel\u001b[0m\u001b[0;34m.\u001b[0m\u001b[0mfit\u001b[0m\u001b[0;34m(\u001b[0m\u001b[0mdisp\u001b[0m\u001b[0;34m=\u001b[0m\u001b[0;32mFalse\u001b[0m\u001b[0;34m)\u001b[0m\u001b[0;34m\u001b[0m\u001b[0;34m\u001b[0m\u001b[0m\n\u001b[1;32m     10\u001b[0m     predictions = model_fit.predict(\n",
            "\u001b[0;32m/usr/local/lib/python3.8/dist-packages/statsmodels/tsa/arima_model.py\u001b[0m in \u001b[0;36m__init__\u001b[0;34m(self, *args, **kwargs)\u001b[0m\n\u001b[1;32m     27\u001b[0m \u001b[0;34m\u001b[0m\u001b[0m\n\u001b[1;32m     28\u001b[0m     \u001b[0;32mdef\u001b[0m \u001b[0m__init__\u001b[0m\u001b[0;34m(\u001b[0m\u001b[0mself\u001b[0m\u001b[0;34m,\u001b[0m \u001b[0;34m*\u001b[0m\u001b[0margs\u001b[0m\u001b[0;34m,\u001b[0m \u001b[0;34m**\u001b[0m\u001b[0mkwargs\u001b[0m\u001b[0;34m)\u001b[0m\u001b[0;34m:\u001b[0m\u001b[0;34m\u001b[0m\u001b[0;34m\u001b[0m\u001b[0m\n\u001b[0;32m---> 29\u001b[0;31m         \u001b[0;32mraise\u001b[0m \u001b[0mNotImplementedError\u001b[0m\u001b[0;34m(\u001b[0m\u001b[0mARIMA_DEPRECATION_ERROR\u001b[0m\u001b[0;34m)\u001b[0m\u001b[0;34m\u001b[0m\u001b[0;34m\u001b[0m\u001b[0m\n\u001b[0m\u001b[1;32m     30\u001b[0m \u001b[0;34m\u001b[0m\u001b[0m\n\u001b[1;32m     31\u001b[0m \u001b[0;34m\u001b[0m\u001b[0m\n",
            "\u001b[0;31mNotImplementedError\u001b[0m: \nstatsmodels.tsa.arima_model.ARMA and statsmodels.tsa.arima_model.ARIMA have\nbeen removed in favor of statsmodels.tsa.arima.model.ARIMA (note the .\nbetween arima and model) and statsmodels.tsa.SARIMAX.\n\nstatsmodels.tsa.arima.model.ARIMA makes use of the statespace framework and\nis both well tested and maintained. It also offers alternative specialized\nparameter estimators.\n"
          ]
        }
      ],
      "source": [
        "# MA example\n",
        "\n",
        "# Walk throught the test data, training and predicting 1 day ahead for all the test data\n",
        "index = len(df_training)\n",
        "yhat = list()\n",
        "for t in tqdm(range(len(df_test.Iphone_14))):\n",
        "    temp_train = df[:len(df_training)+t]\n",
        "    model = ARMA(temp_train.Iphone_14, order=(0, 1))\n",
        "    model_fit = model.fit(disp=False)\n",
        "    predictions = model_fit.predict(\n",
        "        start=len(temp_train), end=len(temp_train), dynamic=False)\n",
        "    yhat = yhat + [predictions]\n",
        "\n",
        "yhat = pd.concat(yhat)\n",
        "resultsDict['MA'] = evaluate(df_test.Iphone_14I, yhat.values)\n",
        "predictionsDict['MA'] = yhat.values"
      ]
    },
    {
      "cell_type": "code",
      "execution_count": null,
      "id": "1bab19fc",
      "metadata": {
        "id": "1bab19fc"
      },
      "outputs": [],
      "source": [
        "plt.plot(df_test.pollution_today.values, label='Original')\n",
        "plt.plot(yhat.values, color='red', label='MA predicted')\n",
        "plt.legend()"
      ]
    },
    {
      "cell_type": "markdown",
      "id": "bcc8b8dc",
      "metadata": {
        "id": "bcc8b8dc"
      },
      "source": [
        "### Autoregressive Moving Average (ARMA)\n",
        "\n",
        "This method will basically join the previous two `AR` and `MA`. Model parameters will be the sum of the two.\n",
        "\n",
        "- __Number of AR (Auto-Regressive) terms (p):__ p is the parameter associated with the auto-regressive aspect of the model, which incorporates past values i.e lags of dependent variable. For instance if p is 5, the predictors for x(t) will be x(t-1)….x(t-5).\n",
        "- __Number of MA (Moving Average) terms (q):__ q is size of the moving average part window of the model i.e. lagged forecast errors in prediction equation. For instance if q is 5, the predictors for x(t) will be e(t-1)….e(t-5) where e(i) is the difference between the moving average at ith instant and actual value.\n",
        "\n"
      ]
    },
    {
      "cell_type": "code",
      "execution_count": null,
      "id": "27ff6d5b",
      "metadata": {
        "id": "27ff6d5b"
      },
      "outputs": [],
      "source": [
        "# ARMA example\n",
        "\n",
        "# Walk throught the test data, training and predicting 1 day ahead for all the test data\n",
        "index = len(df_training)\n",
        "yhat = list()\n",
        "for t in tqdm(range(len(df_test.Iphone_14))):\n",
        "    temp_train = df[:len(df_training)+t]\n",
        "    model = ARMA(temp_train.Iphone_14, order=(1, 1))\n",
        "    model_fit = model.fit(disp=False)\n",
        "    predictions = model_fit.predict(\n",
        "        start=len(temp_train), end=len(temp_train), dynamic=False)\n",
        "    yhat = yhat + [predictions]\n",
        "\n",
        "yhat = pd.concat(yhat)\n",
        "resultsDict['ARMA'] = evaluate(df_test.Iphone_14, yhat.values)\n",
        "predictionsDict['ARMA'] = yhat.values"
      ]
    },
    {
      "cell_type": "code",
      "execution_count": null,
      "id": "0711b78e",
      "metadata": {
        "id": "0711b78e"
      },
      "outputs": [],
      "source": [
        "plt.plot(df_test.pollution_today.values, label='Original')\n",
        "plt.plot(yhat.values, color='red', label='ARMA predicted')\n",
        "plt.legend()"
      ]
    },
    {
      "cell_type": "markdown",
      "id": "56df1b40",
      "metadata": {
        "incorrectly_encoded_metadata": "toc-hr-collapsed=true",
        "id": "56df1b40"
      },
      "source": [
        "### Autoregressive integrated moving average (ARIMA)"
      ]
    },
    {
      "cell_type": "markdown",
      "id": "c4f753e5",
      "metadata": {
        "id": "c4f753e5"
      },
      "source": [
        "In an ARIMA model there are 3 parameters that are used to help model the major aspects of a times series: seasonality, trend, and noise. These parameters are labeled p,d,and q.\n",
        "\n",
        "* Number of AR (Auto-Regressive) terms (p): p is the parameter associated with the auto-regressive aspect of the model, which incorporates past values i.e lags of dependent variable. For instance if p is 5, the predictors for x(t) will be x(t-1)….x(t-5).\n",
        "* Number of Differences (d): d is the parameter associated with the integrated part of the model, which effects the amount of differencing to apply to a time series.\n",
        "* Number of MA (Moving Average) terms (q): q is size of the moving average part window of the model i.e. lagged forecast errors in prediction equation. For instance if q is 5, the predictors for x(t) will be e(t-1)….e(t-5) where e(i) is the difference between the moving average at ith instant and actual value.\n",
        "\n",
        "**Tuning ARIMA parameters**\n",
        "\n",
        "Non stationarity series will require level of differencing (d) >0 in ARIMA\n",
        "Select the lag values for the Autoregression (AR) and Moving Average (MA) parameters, p and q respectively, using PACF, ACF plots\n",
        "AUTOARIMA\n",
        "\n",
        "Note: A problem with ARIMA is that it does not support seasonal data. That is a time series with a repeating cycle. ARIMA expects data that is either not seasonal or has the seasonal component removed, e.g. seasonally adjusted via methods such as seasonal differencing."
      ]
    },
    {
      "cell_type": "code",
      "execution_count": null,
      "id": "a6132d70",
      "metadata": {
        "id": "a6132d70",
        "colab": {
          "base_uri": "https://localhost:8080/"
        },
        "outputId": "69786d13-a9ef-47ff-e58b-87c0535510d4"
      },
      "outputs": [
        {
          "output_type": "stream",
          "name": "stderr",
          "text": [
            "100%|██████████| 5/5 [00:00<00:00, 15.35it/s]\n"
          ]
        }
      ],
      "source": [
        "# ARIMA example\n",
        "\n",
        "# Walk throught the test data, training and predicting 1 day ahead for all the test data\n",
        "index = len(df_training)\n",
        "yhat = list()\n",
        "for t in tqdm(range(len(df_test.Iphone_14))):\n",
        "    temp_train = df[:len(df_training)+t]\n",
        "    model = ARIMA(temp_train.Iphone_14, order=(1, 0, 0))\n",
        "    model_fit = model.fit()\n",
        "    predictions = model_fit.predict(\n",
        "        start=len(temp_train), end=len(temp_train), dynamic=False)\n",
        "    yhat = yhat + [predictions]\n",
        "\n",
        "yhat = pd.concat(yhat)\n",
        "resultsDict['ARIMA'] = evaluate(df_test.Iphone_14, yhat.values)\n",
        "predictionsDict['ARIMA'] = yhat.values"
      ]
    },
    {
      "cell_type": "code",
      "source": [
        "arima_mse = round(mean_squared_error(df_test.Iphone_14.values, yhat.values), 2)\n",
        "arima_mse"
      ],
      "metadata": {
        "id": "p8DsPf8j4qEG",
        "colab": {
          "base_uri": "https://localhost:8080/"
        },
        "outputId": "a0271c6e-7426-46d7-c867-e5c2c3d55a42"
      },
      "id": "p8DsPf8j4qEG",
      "execution_count": null,
      "outputs": [
        {
          "output_type": "execute_result",
          "data": {
            "text/plain": [
              "233480361.2"
            ]
          },
          "metadata": {},
          "execution_count": 350
        }
      ]
    },
    {
      "cell_type": "code",
      "execution_count": null,
      "id": "250c8b05",
      "metadata": {
        "id": "250c8b05",
        "colab": {
          "base_uri": "https://localhost:8080/",
          "height": 499
        },
        "outputId": "e5fa94ba-052a-4cb1-ef7c-431acc29d422"
      },
      "outputs": [
        {
          "output_type": "execute_result",
          "data": {
            "text/plain": [
              "<matplotlib.legend.Legend at 0x7faf4ff06c10>"
            ]
          },
          "metadata": {},
          "execution_count": 351
        },
        {
          "output_type": "display_data",
          "data": {
            "text/plain": [
              "<Figure size 1296x576 with 1 Axes>"
            ],
            "image/png": "[encoded data removed]"
          },
          "metadata": {
            "needs_background": "light"
          }
        }
      ],
      "source": [
        "plt.plot(df_test.Iphone_14.values, label='Original')\n",
        "plt.plot(yhat.values, color='red', label='ARIMA predicted')\n",
        "plt.legend()"
      ]
    },
    {
      "cell_type": "markdown",
      "id": "7eb18265",
      "metadata": {
        "id": "7eb18265"
      },
      "source": [
        "#### Auto ARIMA"
      ]
    },
    {
      "cell_type": "code",
      "execution_count": null,
      "id": "65a718fa",
      "metadata": {
        "id": "65a718fa"
      },
      "outputs": [],
      "source": [
        "# building the model\n",
        "\n",
        "autoModel = pm.auto_arima(df_training.Iphone_14, trace=True,\n",
        "                          error_action='ignore', suppress_warnings=True, seasonal=False)\n",
        "autoModel.fit(df_training.Iphone_14)"
      ]
    },
    {
      "cell_type": "code",
      "execution_count": null,
      "id": "dba1ffba",
      "metadata": {
        "id": "dba1ffba"
      },
      "outputs": [],
      "source": [
        "order = autoModel.order\n",
        "yhat = list()\n",
        "for t in tqdm(range(len(df_test.Iphone_14))):\n",
        "    temp_train = df[:len(df_training)+t]\n",
        "    model = ARIMA(temp_train.Iphone_14, order=order)\n",
        "    model_fit = model.fit()\n",
        "    predictions = model_fit.predict(\n",
        "        start=len(temp_train), end=len(temp_train), dynamic=False)\n",
        "    yhat = yhat + [predictions]\n",
        "\n",
        "yhat = pd.concat(yhat)\n",
        "resultsDict['AutoARIMA {0}'.format(order)] = evaluate(\n",
        "    df_test.Iphone_14, yhat)\n",
        "predictionsDict['AutoARIMA {0}'.format(order)] = yhat.values"
      ]
    },
    {
      "cell_type": "code",
      "execution_count": null,
      "id": "aee10f83",
      "metadata": {
        "id": "aee10f83"
      },
      "outputs": [],
      "source": [
        "plt.plot(df_test.Iphone_14.values, label='Original')\n",
        "plt.plot(yhat.values, color='red', label='AutoARIMA {0}'.format(order))\n",
        "plt.legend()"
      ]
    },
    {
      "cell_type": "code",
      "source": [
        "auto_arima_mse = round(mean_squared_error(df_test.Iphone_14.values, yhat.values), 2)\n",
        "auto_arima_mse"
      ],
      "metadata": {
        "id": "I5nsWCzH_H9R"
      },
      "id": "I5nsWCzH_H9R",
      "execution_count": null,
      "outputs": []
    },
    {
      "cell_type": "markdown",
      "id": "a0f93040",
      "metadata": {
        "incorrectly_encoded_metadata": "toc-hr-collapsed=true",
        "id": "a0f93040"
      },
      "source": [
        "### Seasonal Autoregressive Integrated Moving-Average (SARIMA)\n",
        "Seasonal Autoregressive Integrated Moving Average, SARIMA or Seasonal ARIMA, is an extension of ARIMA that explicitly supports univariate time series data with a seasonal component.\n",
        "\n",
        "It adds three new hyperparameters to specify the autoregression (AR), differencing (I) and moving average (MA) for the seasonal component of the series, as well as an additional parameter for the period of the seasonality.\n",
        "\n",
        "__Trend Elements:__\n",
        "\n",
        "There are three trend elements that require configuration. They are the same as the ARIMA model, specifically:\n",
        "\n",
        "- p: Trend autoregression order.\n",
        "- d: Trend difference order.\n",
        "- q: Trend moving average order.\n",
        "\n",
        "__Seasonal Elements:__\n",
        "\n",
        "There are four seasonal elements that are not part of ARIMA that must be configured; they are:\n",
        "\n",
        "- P: Seasonal autoregressive order.\n",
        "- D: Seasonal difference order.\n",
        "- Q: Seasonal moving average order.\n",
        "- m: The number of time steps for a single seasonal period. For example, an S of 12 for monthly data suggests a yearly seasonal cycle.\n",
        "\n",
        "__SARIMA notation:__\n",
        "SARIMA(p,d,q)(P,D,Q,m)"
      ]
    },
    {
      "cell_type": "code",
      "execution_count": null,
      "id": "0bfe63ee",
      "metadata": {
        "id": "0bfe63ee",
        "colab": {
          "base_uri": "https://localhost:8080/"
        },
        "outputId": "a28fe379-dc40-4aa2-a3a1-6c14ca350ed9"
      },
      "outputs": [
        {
          "output_type": "stream",
          "name": "stderr",
          "text": [
            "100%|██████████| 5/5 [00:00<00:00, 16.48it/s]\n"
          ]
        }
      ],
      "source": [
        "# SARIMA example\n",
        "\n",
        "# Walk throught the test data, training and predicting 1 day ahead for all the test data\n",
        "index = len(df_training)\n",
        "yhat = list()\n",
        "for t in tqdm(range(len(df_test.Iphone_14))):\n",
        "    temp_train = df[:len(df_training)+t]\n",
        "    model = SARIMAX(temp_train.Iphone_14, order=(\n",
        "        1, 0, 0), seasonal_order=(0, 0, 0, 3))\n",
        "    model_fit = model.fit(disp=False)\n",
        "    predictions = model_fit.predict(\n",
        "        start=len(temp_train), end=len(temp_train), dynamic=False)\n",
        "    yhat = yhat + [predictions]\n",
        "\n",
        "yhat = pd.concat(yhat)\n",
        "resultsDict['SARIMAX'] = evaluate(df_test.Iphone_14, yhat.values)\n",
        "predictionsDict['SARIMAX'] = yhat.values"
      ]
    },
    {
      "cell_type": "code",
      "execution_count": null,
      "id": "9038ac19",
      "metadata": {
        "id": "9038ac19",
        "colab": {
          "base_uri": "https://localhost:8080/",
          "height": 482
        },
        "outputId": "b5d95536-e4ec-4fad-f94e-1e05d57d9664"
      },
      "outputs": [
        {
          "output_type": "display_data",
          "data": {
            "text/plain": [
              "<Figure size 1296x576 with 1 Axes>"
            ],
            "image/png": "[encoded data removed]"
          },
          "metadata": {
            "needs_background": "light"
          }
        }
      ],
      "source": [
        "plt.plot(df_test.Iphone_14.values, label='Original')\n",
        "plt.plot(yhat.values, color='red', label='SARIMAX')\n",
        "plt.legend()"
      ]
    },
    {
      "cell_type": "code",
      "source": [
        "sarima_mse = round(mean_squared_error(df_test.Iphone_14.values, yhat.values), 2)\n",
        "sarima_mse"
      ],
      "metadata": {
        "id": "50L086mh_fUi",
        "colab": {
          "base_uri": "https://localhost:8080/"
        },
        "outputId": "800b9960-4d7e-42ed-bac0-daa656ac0ad1"
      },
      "id": "50L086mh_fUi",
      "execution_count": null,
      "outputs": [
        {
          "output_type": "execute_result",
          "data": {
            "text/plain": [
              "238568811.96"
            ]
          },
          "metadata": {},
          "execution_count": 354
        }
      ]
    },
    {
      "cell_type": "markdown",
      "id": "495cb1a5",
      "metadata": {
        "id": "495cb1a5"
      },
      "source": [
        "#### Auto - SARIMA\n",
        "\n",
        "[auto_arima documentation for selecting best model](https://www.alkaline-ml.com/pmdarima/tips_and_tricks.html)"
      ]
    },
    {
      "cell_type": "code",
      "execution_count": null,
      "id": "1e55cdd2",
      "metadata": {
        "id": "1e55cdd2",
        "colab": {
          "base_uri": "https://localhost:8080/",
          "height": 363
        },
        "outputId": "d8fe57d1-5b9c-4fb2-9fd8-5a355be408e9"
      },
      "outputs": [
        {
          "output_type": "error",
          "ename": "ValueError",
          "evalue": "ignored",
          "traceback": [
            "\u001b[0;31m---------------------------------------------------------------------------\u001b[0m",
            "\u001b[0;31mValueError\u001b[0m                                Traceback (most recent call last)",
            "\u001b[0;32m<ipython-input-355-cb4446b507a2>\u001b[0m in \u001b[0;36m<module>\u001b[0;34m\u001b[0m\n\u001b[1;32m      1\u001b[0m \u001b[0;31m# building the model\u001b[0m\u001b[0;34m\u001b[0m\u001b[0;34m\u001b[0m\u001b[0;34m\u001b[0m\u001b[0m\n\u001b[0;32m----> 2\u001b[0;31m autoModel = pm.auto_arima(df_training.Iphone_14, trace=True, error_action='ignore',\n\u001b[0m\u001b[1;32m      3\u001b[0m                           suppress_warnings=True, seasonal=True, m=6, stepwise=True)\n\u001b[1;32m      4\u001b[0m \u001b[0mautoModel\u001b[0m\u001b[0;34m.\u001b[0m\u001b[0mfit\u001b[0m\u001b[0;34m(\u001b[0m\u001b[0mdf_training\u001b[0m\u001b[0;34m.\u001b[0m\u001b[0mIphone_14\u001b[0m\u001b[0;34m)\u001b[0m\u001b[0;34m\u001b[0m\u001b[0;34m\u001b[0m\u001b[0m\n",
            "\u001b[0;32m/usr/local/lib/python3.8/dist-packages/pmdarima/arima/auto.py\u001b[0m in \u001b[0;36mauto_arima\u001b[0;34m(y, X, start_p, d, start_q, max_p, max_d, max_q, start_P, D, start_Q, max_P, max_D, max_Q, max_order, m, seasonal, stationary, information_criterion, alpha, test, seasonal_test, stepwise, n_jobs, start_params, trend, method, maxiter, offset_test_args, seasonal_test_args, suppress_warnings, error_action, trace, random, random_state, n_fits, return_valid_fits, out_of_sample_size, scoring, scoring_args, with_intercept, sarimax_kwargs, **fit_args)\u001b[0m\n\u001b[1;32m    504\u001b[0m     \u001b[0;31m# m must be > 1 for nsdiffs\u001b[0m\u001b[0;34m\u001b[0m\u001b[0;34m\u001b[0m\u001b[0;34m\u001b[0m\u001b[0m\n\u001b[1;32m    505\u001b[0m     \u001b[0;32melif\u001b[0m \u001b[0mD\u001b[0m \u001b[0;32mis\u001b[0m \u001b[0;32mNone\u001b[0m\u001b[0;34m:\u001b[0m  \u001b[0;31m# we don't have a D yet and we need one (seasonal)\u001b[0m\u001b[0;34m\u001b[0m\u001b[0;34m\u001b[0m\u001b[0m\n\u001b[0;32m--> 506\u001b[0;31m         D = nsdiffs(xx, m=m, test=seasonal_test, max_D=max_D,\n\u001b[0m\u001b[1;32m    507\u001b[0m                     **seasonal_test_args)\n\u001b[1;32m    508\u001b[0m \u001b[0;34m\u001b[0m\u001b[0m\n",
            "\u001b[0;32m/usr/local/lib/python3.8/dist-packages/pmdarima/arima/utils.py\u001b[0m in \u001b[0;36mnsdiffs\u001b[0;34m(x, m, max_D, test, **kwargs)\u001b[0m\n\u001b[1;32m    104\u001b[0m \u001b[0;34m\u001b[0m\u001b[0m\n\u001b[1;32m    105\u001b[0m     \u001b[0mD\u001b[0m \u001b[0;34m=\u001b[0m \u001b[0;36m0\u001b[0m\u001b[0;34m\u001b[0m\u001b[0;34m\u001b[0m\u001b[0m\n\u001b[0;32m--> 106\u001b[0;31m     \u001b[0mdodiff\u001b[0m \u001b[0;34m=\u001b[0m \u001b[0mtestfunc\u001b[0m\u001b[0;34m(\u001b[0m\u001b[0mx\u001b[0m\u001b[0;34m)\u001b[0m\u001b[0;34m\u001b[0m\u001b[0;34m\u001b[0m\u001b[0m\n\u001b[0m\u001b[1;32m    107\u001b[0m     \u001b[0;32mwhile\u001b[0m \u001b[0mdodiff\u001b[0m \u001b[0;34m==\u001b[0m \u001b[0;36m1\u001b[0m \u001b[0;32mand\u001b[0m \u001b[0mD\u001b[0m \u001b[0;34m<\u001b[0m \u001b[0mmax_D\u001b[0m\u001b[0;34m:\u001b[0m\u001b[0;34m\u001b[0m\u001b[0;34m\u001b[0m\u001b[0m\n\u001b[1;32m    108\u001b[0m         \u001b[0mD\u001b[0m \u001b[0;34m+=\u001b[0m \u001b[0;36m1\u001b[0m\u001b[0;34m\u001b[0m\u001b[0;34m\u001b[0m\u001b[0m\n",
            "\u001b[0;32m/usr/local/lib/python3.8/dist-packages/pmdarima/arima/seasonality.py\u001b[0m in \u001b[0;36mestimate_seasonal_differencing_term\u001b[0;34m(self, x)\u001b[0m\n\u001b[1;32m    595\u001b[0m \u001b[0;34m\u001b[0m\u001b[0m\n\u001b[1;32m    596\u001b[0m         \u001b[0;31m# Get the critical value for m\u001b[0m\u001b[0;34m\u001b[0m\u001b[0;34m\u001b[0m\u001b[0;34m\u001b[0m\u001b[0m\n\u001b[0;32m--> 597\u001b[0;31m         \u001b[0mstat\u001b[0m \u001b[0;34m=\u001b[0m \u001b[0mself\u001b[0m\u001b[0;34m.\u001b[0m\u001b[0m_compute_test_statistic\u001b[0m\u001b[0;34m(\u001b[0m\u001b[0mx\u001b[0m\u001b[0;34m)\u001b[0m\u001b[0;34m\u001b[0m\u001b[0;34m\u001b[0m\u001b[0m\n\u001b[0m\u001b[1;32m    598\u001b[0m         \u001b[0mcrit_val\u001b[0m \u001b[0;34m=\u001b[0m \u001b[0mself\u001b[0m\u001b[0;34m.\u001b[0m\u001b[0m_calc_ocsb_crit_val\u001b[0m\u001b[0;34m(\u001b[0m\u001b[0mself\u001b[0m\u001b[0;34m.\u001b[0m\u001b[0mm\u001b[0m\u001b[0;34m)\u001b[0m\u001b[0;34m\u001b[0m\u001b[0;34m\u001b[0m\u001b[0m\n\u001b[1;32m    599\u001b[0m         \u001b[0;32mreturn\u001b[0m \u001b[0mint\u001b[0m\u001b[0;34m(\u001b[0m\u001b[0mstat\u001b[0m \u001b[0;34m>\u001b[0m \u001b[0mcrit_val\u001b[0m\u001b[0;34m)\u001b[0m\u001b[0;34m\u001b[0m\u001b[0;34m\u001b[0m\u001b[0m\n",
            "\u001b[0;32m/usr/local/lib/python3.8/dist-packages/pmdarima/arima/seasonality.py\u001b[0m in \u001b[0;36m_compute_test_statistic\u001b[0;34m(self, x)\u001b[0m\n\u001b[1;32m    544\u001b[0m             \u001b[0;31m# If they're all NaN, raise\u001b[0m\u001b[0;34m\u001b[0m\u001b[0;34m\u001b[0m\u001b[0;34m\u001b[0m\u001b[0m\n\u001b[1;32m    545\u001b[0m             \u001b[0;32mif\u001b[0m \u001b[0mnp\u001b[0m\u001b[0;34m.\u001b[0m\u001b[0misnan\u001b[0m\u001b[0;34m(\u001b[0m\u001b[0micvals\u001b[0m\u001b[0;34m)\u001b[0m\u001b[0;34m.\u001b[0m\u001b[0mall\u001b[0m\u001b[0;34m(\u001b[0m\u001b[0;34m)\u001b[0m\u001b[0;34m:\u001b[0m\u001b[0;34m\u001b[0m\u001b[0;34m\u001b[0m\u001b[0m\n\u001b[0;32m--> 546\u001b[0;31m                 raise ValueError(\"All lag values up to 'maxlag' produced \"\n\u001b[0m\u001b[1;32m    547\u001b[0m                                  \u001b[0;34m\"singular matrices. Consider using a longer \"\u001b[0m\u001b[0;34m\u001b[0m\u001b[0;34m\u001b[0m\u001b[0m\n\u001b[1;32m    548\u001b[0m                                  \u001b[0;34m\"series, a different lag term or a different \"\u001b[0m\u001b[0;34m\u001b[0m\u001b[0;34m\u001b[0m\u001b[0m\n",
            "\u001b[0;31mValueError\u001b[0m: All lag values up to 'maxlag' produced singular matrices. Consider using a longer series, a different lag term or a different test."
          ]
        }
      ],
      "source": [
        "# building the model\n",
        "autoModel = pm.auto_arima(df_training.Iphone_14, trace=True, error_action='ignore',\n",
        "                          suppress_warnings=True, seasonal=True, m=6, stepwise=True)\n",
        "autoModel.fit(df_training.Iphone_14)"
      ]
    },
    {
      "cell_type": "code",
      "execution_count": null,
      "id": "c27a81d4",
      "metadata": {
        "id": "c27a81d4",
        "colab": {
          "base_uri": "https://localhost:8080/"
        },
        "outputId": "0d61b3d8-bbb3-49d0-9d01-8aa7c279cc06"
      },
      "outputs": [
        {
          "output_type": "stream",
          "name": "stderr",
          "text": [
            "100%|██████████| 5/5 [00:00<00:00, 38.42it/s]\n"
          ]
        }
      ],
      "source": [
        "order = autoModel.order\n",
        "seasonalOrder = autoModel.seasonal_order\n",
        "yhat = list()\n",
        "for t in tqdm(range(len(df_test.Iphone_14))):\n",
        "    temp_train = df[:len(df_training)+t]\n",
        "    model = SARIMAX(temp_train.Iphone_14, order=order,\n",
        "                    seasonal_order=seasonalOrder)\n",
        "    model_fit = model.fit(disp=False)\n",
        "    predictions = model_fit.predict(\n",
        "        start=len(temp_train), end=len(temp_train), dynamic=False)\n",
        "    yhat = yhat + [predictions]\n",
        "\n",
        "yhat = pd.concat(yhat)\n",
        "resultsDict['AutoSARIMAX {0},{1}'.format(order, seasonalOrder)] = evaluate(\n",
        "    df_test.Iphone_14, yhat.values)\n",
        "predictionsDict['AutoSARIMAX {0},{1}'.format(\n",
        "    order, seasonalOrder)] = yhat.values"
      ]
    },
    {
      "cell_type": "code",
      "execution_count": null,
      "id": "dc5e8147",
      "metadata": {
        "id": "dc5e8147",
        "colab": {
          "base_uri": "https://localhost:8080/",
          "height": 499
        },
        "outputId": "2ebae144-bd77-4531-db99-9ecf0899ce27"
      },
      "outputs": [
        {
          "output_type": "execute_result",
          "data": {
            "text/plain": [
              "<matplotlib.legend.Legend at 0x7faf4e8239a0>"
            ]
          },
          "metadata": {},
          "execution_count": 357
        },
        {
          "output_type": "display_data",
          "data": {
            "text/plain": [
              "<Figure size 1296x576 with 1 Axes>"
            ],
            "image/png": "[encoded data removed]"
          },
          "metadata": {
            "needs_background": "light"
          }
        }
      ],
      "source": [
        "plt.plot(df_test.Iphone_14.values, label='Original')\n",
        "plt.plot(yhat.values, color='red', label='SARIMAX')\n",
        "plt.legend()"
      ]
    },
    {
      "cell_type": "markdown",
      "id": "5f9c8f10",
      "metadata": {
        "id": "5f9c8f10"
      },
      "source": [
        "### Prophet\n",
        "\n",
        "Prophet is a model released by [facebook](https://github.com/facebook/prophet). Is essentially a curve fitting approach, very similar in spirit to how BSTS models trend and seasonality, except that it uses generalized additive models instead of a state-space representation to describe each component.\n"
      ]
    },
    {
      "cell_type": "code",
      "execution_count": null,
      "id": "d4c42c3d",
      "metadata": {
        "id": "d4c42c3d"
      },
      "outputs": [],
      "source": [
        "# Prophet needs some specifics data stuff, coment it here\n",
        "prophet_training = df_training.rename(\n",
        "    columns={'pollution_today': 'y'})  # old method\n",
        "prophet_training['ds'] = prophet_training.index\n",
        "prophet_training.index = pd.RangeIndex(len(prophet_training.index))\n",
        "\n",
        "prophet_test = df_test.rename(columns={'pollution_today': 'y'})  # old method\n",
        "prophet_test['ds'] = prophet_test.index\n",
        "prophet_test.index = pd.RangeIndex(len(prophet_test.index))"
      ]
    },
    {
      "cell_type": "code",
      "execution_count": null,
      "id": "f893bb06",
      "metadata": {
        "id": "f893bb06"
      },
      "outputs": [],
      "source": [
        "prophet = Prophet(\n",
        "    growth='linear',\n",
        "    seasonality_mode='multiplicative',\n",
        "    holidays_prior_scale=20,\n",
        "    daily_seasonality=False,\n",
        "    weekly_seasonality=False,\n",
        "    yearly_seasonality=False\n",
        ").add_seasonality(\n",
        "    name='monthly',\n",
        "    period=30.5,\n",
        "    fourier_order=55\n",
        ").add_seasonality(\n",
        "    name='daily',\n",
        "    period=1,\n",
        "    fourier_order=15\n",
        ").add_seasonality(\n",
        "    name='weekly',\n",
        "    period=7,\n",
        "    fourier_order=25\n",
        ").add_seasonality(\n",
        "    name='yearly',\n",
        "    period=365.25,\n",
        "    fourier_order=20\n",
        ").add_seasonality(\n",
        "    name='quarterly',\n",
        "    period=365.25/4,\n",
        "    fourier_order=55\n",
        ").add_country_holidays(country_name='China')"
      ]
    },
    {
      "cell_type": "code",
      "execution_count": null,
      "id": "8d20c621",
      "metadata": {
        "id": "8d20c621"
      },
      "outputs": [],
      "source": [
        "prophet.fit(prophet_training)\n",
        "yhat = prophet.predict(prophet_test)\n",
        "resultsDict['Prophet univariate'] = evaluate(\n",
        "    df_test.Iphone_14, yhat.yhat.values)\n",
        "predictionsDict['Prophet univariate'] = yhat.yhat.values"
      ]
    },
    {
      "cell_type": "code",
      "execution_count": null,
      "id": "269ebf97",
      "metadata": {
        "id": "269ebf97"
      },
      "outputs": [],
      "source": [
        "plt.plot(df_test.pollution_today.values, label='Original')\n",
        "plt.plot(yhat.yhat, color='red', label='Prophet univariate')\n",
        "plt.legend()"
      ]
    },
    {
      "cell_type": "markdown",
      "id": "1f4321e1",
      "metadata": {
        "incorrectly_encoded_metadata": "toc-hr-collapsed=false",
        "id": "1f4321e1"
      },
      "source": [
        "## Multivariate time series forecasting"
      ]
    },
    {
      "cell_type": "code",
      "execution_count": null,
      "id": "7dfbb468",
      "metadata": {
        "id": "7dfbb468"
      },
      "outputs": [],
      "source": [
        "# ADD time features to our model\n",
        "def create_time_features(df, target=None):\n",
        "    \"\"\"\n",
        "    Creates time series features from datetime index\n",
        "    \"\"\"\n",
        "    df['date'] = df.index\n",
        "    df['hour'] = df['date'].dt.hour\n",
        "    df['dayofweek'] = df['date'].dt.dayofweek\n",
        "    df['quarter'] = df['date'].dt.quarter\n",
        "    df['month'] = df['date'].dt.month\n",
        "    df['year'] = df['date'].dt.year\n",
        "    df['dayofyear'] = df['date'].dt.dayofyear\n",
        "    df['sin_day'] = np.sin(df['dayofyear'])\n",
        "    df['cos_day'] = np.cos(df['dayofyear'])\n",
        "    df['dayofmonth'] = df['date'].dt.day\n",
        "    df['weekofyear'] = df['date'].dt.weekofyear\n",
        "    X = df.drop(['date'], axis=1)\n",
        "    if target:\n",
        "        y = df[target]\n",
        "        X = X.drop([target], axis=1)\n",
        "        return X, y\n",
        "\n",
        "    return X"
      ]
    },
    {
      "cell_type": "code",
      "execution_count": null,
      "id": "27e5c438",
      "metadata": {
        "id": "27e5c438"
      },
      "outputs": [],
      "source": [
        "X_train_df, y_train = create_time_features(\n",
        "    df_training, target='Iphone_14')\n",
        "X_test_df, y_test = create_time_features(df_test, target='Iphone_14')\n",
        "scaler = StandardScaler()\n",
        "scaler.fit(X_train_df)  # No cheating, never scale on the training+test!\n",
        "X_train = scaler.transform(X_train_df)\n",
        "X_test = scaler.transform(X_test_df)\n",
        "\n",
        "X_train_df = pd.DataFrame(X_train, columns=X_train_df.columns)\n",
        "X_test_df = pd.DataFrame(X_test, columns=X_test_df.columns)"
      ]
    },
    {
      "cell_type": "code",
      "source": [
        "X_test"
      ],
      "metadata": {
        "id": "FnKvx4r4XUuA",
        "colab": {
          "base_uri": "https://localhost:8080/"
        },
        "outputId": "bcf876e6-9429-4494-8c70-124c6d4bf69c"
      },
      "id": "FnKvx4r4XUuA",
      "execution_count": null,
      "outputs": [
        {
          "output_type": "execute_result",
          "data": {
            "text/plain": [
              "array([[ -1.98344903,   0.        ,  -0.21394577,  -0.30151134,\n",
              "         -3.31662479,   0.        ,   0.        ,   0.        ,\n",
              "         -0.40792711,   0.99299394,  -1.09571521,   0.        ,\n",
              "          0.        ,   0.4472136 ,   1.96116135,   0.        ,\n",
              "          1.88293774,  -0.50869759,   1.38997251,  -0.56688414,\n",
              "          1.88293774],\n",
              "       [ -1.98344903,   0.        ,   0.66840873,  -0.30151134,\n",
              "         -3.31662479,   0.        ,   0.        ,   0.        ,\n",
              "         -0.40792711,   0.02026518,  -1.05709186,   0.        ,\n",
              "          0.        ,   0.4472136 ,   1.96116135,   0.        ,\n",
              "          2.17262047,   0.47233339,   1.61130174,   0.2137432 ,\n",
              "          2.17262047],\n",
              "       [ -1.98344903,   0.        ,   3.09831957,   3.31662479,\n",
              "         -3.31662479,   0.        ,   0.        ,   0.        ,\n",
              "         -0.83359019,  -1.43882795,  -1.15503726,   0.        ,\n",
              "          0.        ,   0.4472136 ,   1.96116135,   0.        ,\n",
              "          2.4623032 ,   1.35388846,   1.11794329,   0.99437054,\n",
              "          2.4623032 ],\n",
              "       [ -1.98344903,   0.        ,  -3.78459529,   3.31662479,\n",
              "         -3.31662479,   0.        ,   0.        ,   0.        ,\n",
              "          1.88001191,   0.05500549,  -0.49139852,   0.        ,\n",
              "          0.        ,  -7.60263112, -10.98250357,   1.        ,\n",
              "        -12.35289926,   1.47509346,   0.95173624,  -1.68206606,\n",
              "          2.75198593],\n",
              "       [ -1.98344903,   0.        ,  -3.22109787,  -0.30151134,\n",
              "         -3.31662479,   0.        ,   0.        ,   0.        ,\n",
              "          0.50420805,  -0.4660992 ,  -0.70158635,   0.        ,\n",
              "          0.        ,  -7.60263112, -10.98250357,   1.        ,\n",
              "        -12.06321653,   1.68684695,  -0.05414705,  -0.90143872,\n",
              "        -12.02183328]])"
            ]
          },
          "metadata": {},
          "execution_count": 360
        }
      ]
    },
    {
      "cell_type": "markdown",
      "id": "122f00fd",
      "metadata": {
        "incorrectly_encoded_metadata": "toc-hr-collapsed=false",
        "id": "122f00fd"
      },
      "source": [
        "### Linear models"
      ]
    },
    {
      "cell_type": "markdown",
      "id": "c44adddf",
      "metadata": {
        "id": "c44adddf"
      },
      "source": [
        "#### Bayesian regression"
      ]
    },
    {
      "cell_type": "code",
      "execution_count": null,
      "id": "a3c7fef5",
      "metadata": {
        "id": "a3c7fef5"
      },
      "outputs": [],
      "source": [
        "reg = linear_model.BayesianRidge()\n",
        "reg.fit(X_train, y_train)\n",
        "yhat = reg.predict(X_test)\n",
        "resultsDict['BayesianRidge'] = evaluate(df_test.Iphone_14, yhat)\n",
        "predictionsDict['BayesianRidge'] = yhat"
      ]
    },
    {
      "cell_type": "markdown",
      "id": "15dbb5a7",
      "metadata": {
        "id": "15dbb5a7"
      },
      "source": [
        "#### Lasso"
      ]
    },
    {
      "cell_type": "code",
      "execution_count": null,
      "id": "074a8e13",
      "metadata": {
        "id": "074a8e13"
      },
      "outputs": [],
      "source": [
        "reg = linear_model.Lasso(alpha=0.1)\n",
        "reg.fit(X_train, y_train)\n",
        "yhat = reg.predict(X_test)\n",
        "resultsDict['Lasso'] = evaluate(df_test.Iphone_14, yhat)\n",
        "predictionsDict['Lasso'] = yhat"
      ]
    },
    {
      "cell_type": "markdown",
      "id": "02c2cb15",
      "metadata": {
        "incorrectly_encoded_metadata": "toc-hr-collapsed=true",
        "id": "02c2cb15"
      },
      "source": [
        "### Tree models"
      ]
    },
    {
      "cell_type": "markdown",
      "id": "8f272877",
      "metadata": {
        "id": "8f272877"
      },
      "source": [
        "#### Randomforest"
      ]
    },
    {
      "cell_type": "code",
      "execution_count": null,
      "id": "247df36d",
      "metadata": {
        "id": "247df36d"
      },
      "outputs": [],
      "source": [
        "reg = RandomForestRegressor(max_depth=2, random_state=0)\n",
        "reg.fit(X_train, y_train)\n",
        "yhat = reg.predict(X_test)\n",
        "resultsDict['Randomforest'] = evaluate(df_test.Iphone_14, yhat)\n",
        "predictionsDict['Randomforest'] = yhat"
      ]
    },
    {
      "cell_type": "markdown",
      "id": "9596215d",
      "metadata": {
        "incorrectly_encoded_metadata": "toc-hr-collapsed=true",
        "id": "9596215d"
      },
      "source": [
        "#### XGBoost"
      ]
    },
    {
      "cell_type": "code",
      "execution_count": null,
      "id": "d809a40d",
      "metadata": {
        "id": "d809a40d"
      },
      "outputs": [],
      "source": [
        "reg = xgb.XGBRegressor(objective='reg:squarederror', n_estimators=1000, early_stopping_rounds = 50, learning_rate = 0.01)\n",
        "reg.fit(X_train, y_train, \n",
        "        verbose=True)  # Change verbose to True if you want to see it train\n",
        "yhat = reg.predict(X_test)\n",
        "resultsDict['XGBoost'] = evaluate(df_test.Iphone_14, yhat)\n",
        "predictionsDict['XGBoost'] = yhat"
      ]
    },
    {
      "cell_type": "code",
      "source": [],
      "metadata": {
        "id": "o8CIWL-_vqbd"
      },
      "id": "o8CIWL-_vqbd",
      "execution_count": null,
      "outputs": []
    },
    {
      "cell_type": "code",
      "execution_count": null,
      "id": "4d8858d5",
      "metadata": {
        "id": "4d8858d5",
        "colab": {
          "base_uri": "https://localhost:8080/",
          "height": 499
        },
        "outputId": "35a91054-e4a6-449d-967a-2a7e63f9a8e5"
      },
      "outputs": [
        {
          "output_type": "execute_result",
          "data": {
            "text/plain": [
              "<matplotlib.legend.Legend at 0x7faf5ba3b4c0>"
            ]
          },
          "metadata": {},
          "execution_count": 366
        },
        {
          "output_type": "display_data",
          "data": {
            "text/plain": [
              "<Figure size 1296x576 with 1 Axes>"
            ],
            "image/png": "[encoded data removed]"
          },
          "metadata": {
            "needs_background": "light"
          }
        }
      ],
      "source": [
        "plt.plot(df_test.Iphone_14.values, label='Original')\n",
        "plt.plot(yhat, color='red', label='XGboost')\n",
        "plt.legend()"
      ]
    },
    {
      "cell_type": "markdown",
      "id": "21e1f7c2",
      "metadata": {
        "id": "21e1f7c2"
      },
      "source": [
        "#### Lightgbm"
      ]
    },
    {
      "cell_type": "markdown",
      "id": "77fba8b8",
      "metadata": {
        "id": "77fba8b8"
      },
      "source": [
        "A tree gradient boosting model by [microsoft](https://github.com/microsoft/LightGBM)"
      ]
    },
    {
      "cell_type": "code",
      "execution_count": null,
      "id": "e8480353",
      "metadata": {
        "id": "e8480353"
      },
      "outputs": [],
      "source": [
        "lightGBM = lgb.LGBMRegressor()\n",
        "lightGBM.fit(X_train, y_train)\n",
        "yhat = lightGBM.predict(X_test)\n",
        "resultsDict['Lightgbm'] = evaluate(df_test.Iphone_14, yhat)\n",
        "predictionsDict['Lightgbm'] = yhat"
      ]
    },
    {
      "cell_type": "markdown",
      "id": "8128f043",
      "metadata": {
        "id": "8128f043"
      },
      "source": [
        "### Support vector machines"
      ]
    },
    {
      "cell_type": "markdown",
      "id": "21a701ee",
      "metadata": {
        "id": "21a701ee"
      },
      "source": [
        "Explain multiple kernels balbla"
      ]
    },
    {
      "cell_type": "code",
      "execution_count": null,
      "id": "65157d96",
      "metadata": {
        "id": "65157d96"
      },
      "outputs": [],
      "source": [
        "reg = svm.SVR(kernel='rbf', C=100, gamma=0.1, epsilon=.1)\n",
        "reg.fit(X_train, y_train)\n",
        "yhat = reg.predict(X_test)\n",
        "resultsDict['SVM RBF'] = evaluate(df_test.Iphone_14, yhat)\n",
        "predictionsDict['SVM RBF'] = yhat"
      ]
    },
    {
      "cell_type": "markdown",
      "id": "fd9e55ec",
      "metadata": {
        "id": "fd9e55ec"
      },
      "source": [
        "### Nearest neighbors"
      ]
    },
    {
      "cell_type": "code",
      "execution_count": null,
      "id": "ae532ae2",
      "metadata": {
        "id": "ae532ae2"
      },
      "outputs": [],
      "source": [
        "reg = KNeighborsRegressor(n_neighbors=2)\n",
        "reg.fit(X_train, y_train)\n",
        "yhat = reg.predict(X_test)\n",
        "resultsDict['Kneighbors'] = evaluate(df_test.Iphone_14, yhat)\n",
        "predictionsDict['Kneighbors'] = yhat"
      ]
    },
    {
      "cell_type": "markdown",
      "id": "d586e5a8",
      "metadata": {
        "id": "d586e5a8"
      },
      "source": [
        "### Prophet multivariate"
      ]
    },
    {
      "cell_type": "code",
      "execution_count": null,
      "id": "a244deb9",
      "metadata": {
        "id": "a244deb9"
      },
      "outputs": [],
      "source": [
        "prophet = Prophet(\n",
        "    growth='linear',\n",
        "    seasonality_mode='multiplicative',\n",
        "    daily_seasonality=True,\n",
        ").add_country_holidays(country_name='China')\n",
        "\n",
        "\n",
        "for col in prophet_training.columns:\n",
        "    if col not in [\"ds\", \"y\"]:\n",
        "        prophet.add_regressor(col)"
      ]
    },
    {
      "cell_type": "code",
      "execution_count": null,
      "id": "fdebfd2b",
      "metadata": {
        "id": "fdebfd2b"
      },
      "outputs": [],
      "source": [
        "prophet.fit(prophet_training)\n",
        "yhat = prophet.predict(prophet_test)\n",
        "resultsDict['Prophet multivariate'] = evaluate(y_test, yhat.yhat.values)\n",
        "predictionsDict['Prophet multivariate'] = yhat.yhat.values"
      ]
    },
    {
      "cell_type": "code",
      "execution_count": null,
      "id": "c715cda2",
      "metadata": {
        "id": "c715cda2"
      },
      "outputs": [],
      "source": [
        "plt.plot(df_test.pollution_today.values, label='Original')\n",
        "plt.plot(yhat.yhat, color='red', label='Prophet multivariate')\n",
        "plt.legend()"
      ]
    },
    {
      "cell_type": "markdown",
      "id": "7109c7de",
      "metadata": {
        "incorrectly_encoded_metadata": "toc-hr-collapsed=false",
        "id": "7109c7de"
      },
      "source": [
        "### Deep learning"
      ]
    },
    {
      "cell_type": "markdown",
      "id": "ee5e3c40",
      "metadata": {
        "id": "ee5e3c40"
      },
      "source": [
        "#### Tensorlfow LSTM"
      ]
    },
    {
      "cell_type": "markdown",
      "id": "e06b00d2",
      "metadata": {
        "id": "e06b00d2"
      },
      "source": [
        "LSTM are a special type of neural network architecture, you can read more on this [here](https://www.tensorflow.org/guide/keras/rnn)\n",
        "\n",
        "We will be trying a LSTM model for our benchmark but we will need to reshape our data to provide the network a window of previous samples (past days data) for each y target value. Find the code here"
      ]
    },
    {
      "cell_type": "code",
      "execution_count": null,
      "id": "86cdec17",
      "metadata": {
        "id": "86cdec17",
        "colab": {
          "base_uri": "https://localhost:8080/"
        },
        "outputId": "86e24651-156d-4f01-dc96-505a49496bb0"
      },
      "outputs": [
        {
          "output_type": "stream",
          "name": "stdout",
          "text": [
            "Test set equal: True\n"
          ]
        }
      ],
      "source": [
        "# For our dl model we will create windows of data that will be feeded into the datasets, for each timestemp T we will append the data from T-7 to T to the Xdata with target Y(t)\n",
        "BATCH_SIZE = 3\n",
        "BUFFER_SIZE = 3\n",
        "WINDOW_LENGTH = 10\n",
        "\n",
        "\n",
        "def window_data(X, Y, window=7):\n",
        "    '''\n",
        "    The dataset length will be reduced to guarante all samples have the window, so new length will be len(dataset)-window\n",
        "    '''\n",
        "    x = []\n",
        "    y = []\n",
        "    for i in range(window-1, len(X)):\n",
        "        x.append(X[i-window+1:i+1])\n",
        "        y.append(Y[i])\n",
        "    return np.array(x), np.array(y)\n",
        "\n",
        "\n",
        "# Since we are doing sliding, we need to join the datasets again of train and test\n",
        "X_w = np.concatenate((X_train, X_test))\n",
        "y_w = np.concatenate((y_train, y_test))\n",
        "\n",
        "X_w, y_w = window_data(X_w, y_w, window=WINDOW_LENGTH)\n",
        "X_train_w = X_w[:-len(X_test)]\n",
        "y_train_w = y_w[:-len(X_test)]\n",
        "X_test_w = X_w[-len(X_test):]\n",
        "y_test_w = y_w[-len(X_test):]\n",
        "\n",
        "# Check we will have same test set as in the previous models, make sure we didnt screw up on the windowing\n",
        "print(f\"Test set equal: {np.array_equal(y_test_w,y_test)}\")\n",
        "\n",
        "train_data = tf.data.Dataset.from_tensor_slices((X_train_w, y_train_w))\n",
        "train_data = train_data.cache().shuffle(BUFFER_SIZE).batch(BATCH_SIZE).repeat()\n",
        "\n",
        "val_data = tf.data.Dataset.from_tensor_slices((X_test_w, y_test_w))\n",
        "val_data = val_data.batch(BATCH_SIZE).repeat()"
      ]
    },
    {
      "cell_type": "code",
      "execution_count": null,
      "id": "74eb1023",
      "metadata": {
        "id": "74eb1023"
      },
      "outputs": [],
      "source": [
        "dropout = 0.0\n",
        "simple_lstm_model = tf.keras.models.Sequential([\n",
        "    tf.keras.layers.LSTM(\n",
        "        128, input_shape=X_train_w.shape[-2:], dropout=dropout),\n",
        "    tf.keras.layers.Dense(128),\n",
        "    tf.keras.layers.Dense(128),\n",
        "    tf.keras.layers.Dense(1)\n",
        "])\n",
        "\n",
        "simple_lstm_model.compile(optimizer='rmsprop', loss='mae')\n",
        "\n",
        "# logdir = \"logs/scalars/\" + datetime.now().strftime(\"%Y%m%d-%H%M%S\") #Support for tensorboard tracking!\n",
        "# tensorboard_callback = tf.keras.callbacks.TensorBoard(log_dir=logdir)"
      ]
    },
    {
      "cell_type": "code",
      "execution_count": null,
      "id": "88adbe36",
      "metadata": {
        "id": "88adbe36",
        "colab": {
          "base_uri": "https://localhost:8080/"
        },
        "outputId": "6320bfb5-4e2b-4c30-d7ea-0b98f5265f9e"
      },
      "outputs": [
        {
          "output_type": "stream",
          "name": "stdout",
          "text": [
            "Epoch 1/10\n",
            "200/200 [==============================] - 8s 21ms/step - loss: 44626.6719 - val_loss: 52558.3711\n",
            "Epoch 2/10\n",
            "200/200 [==============================] - 3s 15ms/step - loss: 1304.5209 - val_loss: 37449.2539\n",
            "Epoch 3/10\n",
            "200/200 [==============================] - 3s 16ms/step - loss: 320.9142 - val_loss: 21586.5801\n",
            "Epoch 4/10\n",
            "200/200 [==============================] - 3s 16ms/step - loss: 295.3691 - val_loss: 27185.2129\n",
            "Epoch 5/10\n",
            "200/200 [==============================] - 4s 19ms/step - loss: 294.0962 - val_loss: 20049.9492\n",
            "Epoch 6/10\n",
            "200/200 [==============================] - 6s 29ms/step - loss: 294.5821 - val_loss: 33691.3125\n",
            "Epoch 7/10\n",
            "200/200 [==============================] - 5s 24ms/step - loss: 294.4848 - val_loss: 35288.6875\n",
            "Epoch 8/10\n",
            "200/200 [==============================] - 3s 16ms/step - loss: 294.4099 - val_loss: 36119.9688\n",
            "Epoch 9/10\n",
            "200/200 [==============================] - 3s 17ms/step - loss: 294.3387 - val_loss: 36248.1992\n",
            "Epoch 10/10\n",
            "200/200 [==============================] - 4s 18ms/step - loss: 294.2681 - val_loss: 36292.3477\n"
          ]
        }
      ],
      "source": [
        "EVALUATION_INTERVAL = 200\n",
        "EPOCHS = 10\n",
        "\n",
        "model_history = simple_lstm_model.fit(train_data, epochs=EPOCHS,\n",
        "                                      steps_per_epoch=EVALUATION_INTERVAL,\n",
        "                                      validation_data=val_data, validation_steps=50)  # ,callbacks=[tensorboard_callback]) #Uncomment this line for tensorboard support"
      ]
    },
    {
      "cell_type": "code",
      "execution_count": null,
      "id": "cdef9129",
      "metadata": {
        "id": "cdef9129",
        "colab": {
          "base_uri": "https://localhost:8080/"
        },
        "outputId": "396bd63a-c8cd-41cf-f619-981a64111e0f"
      },
      "outputs": [
        {
          "output_type": "stream",
          "name": "stdout",
          "text": [
            "1/1 [==============================] - 1s 802ms/step\n"
          ]
        }
      ],
      "source": [
        "yhat = simple_lstm_model.predict(X_test_w).reshape(1, -1)[0]\n",
        "resultsDict['Tensorflow simple LSTM'] = evaluate(y_test, yhat)\n",
        "predictionsDict['Tensorflow simple LSTM'] = yhat"
      ]
    },
    {
      "cell_type": "code",
      "source": [
        "resultsDict['Tensorflow simple LSTM']"
      ],
      "metadata": {
        "id": "lWnmZdx2EExS",
        "colab": {
          "base_uri": "https://localhost:8080/"
        },
        "outputId": "07d88928-640a-4d9e-acc7-5c4523c81ed6"
      },
      "id": "lWnmZdx2EExS",
      "execution_count": null,
      "outputs": [
        {
          "output_type": "execute_result",
          "data": {
            "text/plain": [
              "{'mae': 36292.33909912109,\n",
              " 'rmse': 48744.58712391468,\n",
              " 'mape': 0.4733644124886213,\n",
              " 'r2': -17.602607993299248}"
            ]
          },
          "metadata": {},
          "execution_count": 377
        }
      ]
    },
    {
      "cell_type": "markdown",
      "id": "40bda0ec",
      "metadata": {
        "id": "40bda0ec"
      },
      "source": [
        "#### DeepAR"
      ]
    },
    {
      "cell_type": "markdown",
      "id": "e156e24f",
      "metadata": {
        "id": "e156e24f"
      },
      "source": [
        "[DeepAR](https://arxiv.org/pdf/1704.04110.pdf) is a deep learning architecture released by amazon"
      ]
    },
    {
      "cell_type": "code",
      "execution_count": null,
      "id": "b23974b5",
      "metadata": {
        "id": "b23974b5"
      },
      "outputs": [],
      "source": [
        "features = ['dew', 'temp', 'press', 'wnd_spd', 'snow', 'rain',\n",
        "            'pollution_yesterday', 'hour', 'dayofweek', 'quarter', 'month',\n",
        "            'year', 'dayofyear', 'sin_day', 'cos_day', 'dayofmonth', 'weekofyear']\n",
        "\n",
        "scaler = StandardScaler()\n",
        "scaler.fit(X_train)  # No cheating, never scale on the training+test!\n",
        "df_training[features] = scaler.transform(df_training[features])\n",
        "df_test[features] = scaler.transform(df_test[features])\n",
        "\n",
        "\n",
        "training_data = ListDataset(\n",
        "    [{\"start\": df_training.index[0], \"target\": df_training.pollution_today,\n",
        "      'feat_dynamic_real': [df_training[feature] for feature in features]\n",
        "      }],\n",
        "    freq=\"d\"\n",
        ")\n",
        "test_data = ListDataset(\n",
        "    [{\"start\": df_test.index[0], \"target\": df_test.pollution_today,\n",
        "      'feat_dynamic_real': [df_test[feature] for feature in features]\n",
        "      }],\n",
        "    freq=\"d\"\n",
        ")"
      ]
    },
    {
      "cell_type": "code",
      "execution_count": null,
      "id": "134dbccd",
      "metadata": {
        "id": "134dbccd"
      },
      "outputs": [],
      "source": [
        "estimator = DeepAREstimator(freq=\"d\",\n",
        "                            prediction_length=1, context_length=30,\n",
        "                            trainer=Trainer(epochs=5))\n",
        "\n",
        "predictor = estimator.train(training_data=training_data)\n",
        "\n",
        "\n",
        "forecast_it, ts_it = make_evaluation_predictions(\n",
        "    test_data, predictor=predictor, num_samples=len(df_test))\n",
        "\n",
        "forecasts = list(forecast_it)\n",
        "tss = list(ts_it)\n"
      ]
    },
    {
      "cell_type": "code",
      "execution_count": null,
      "id": "da7e9f5f",
      "metadata": {
        "id": "da7e9f5f"
      },
      "outputs": [],
      "source": [
        "yhat = forecasts[0].samples.reshape(1, -1)[0]\n",
        "resultsDict['DeepAR'] = evaluate(y_test, yhat)\n",
        "predictionsDict['DeepAR'] = yhat"
      ]
    },
    {
      "cell_type": "markdown",
      "id": "0bd23c6c",
      "metadata": {
        "incorrectly_encoded_metadata": "toc-hr-collapsed=false",
        "id": "0bd23c6c"
      },
      "source": [
        "# Appendix"
      ]
    },
    {
      "cell_type": "markdown",
      "id": "526fb8ce",
      "metadata": {
        "incorrectly_encoded_metadata": "toc-hr-collapsed=true",
        "id": "526fb8ce"
      },
      "source": [
        "## Hyperparameter optimization"
      ]
    },
    {
      "cell_type": "markdown",
      "id": "4cdeb566",
      "metadata": {
        "id": "4cdeb566"
      },
      "source": [
        "We have seen models with really low amount of parameters (Auto regression models,Linear models) or with crazy ammount (Trees,Prophet). Some models are more robust to different data types/shapes and dont need any hyperparameter optimization but some other can give you poor results if the parameters are not tunned, we can tune the model parameters to better fit our dataset properties. We can do this manually with pure knowledge about the model but this becames really hard when the model contains a lot of different parameters, this is when hyperparameter optimization comes handy.\n",
        "\n",
        "Hyperparameter optimization is trying to find the best parameters in an automatic way. We present two methods that are used frequently:\n",
        "\n",
        "* **Grid search** Brute force method to try all different possible combinations of parameters. Will always find the best combination\n",
        "* **Bayesian processes** \"Brute\" force method, optimizes parameter search by using gausian processes to model each parameter distribution and don't go over all the possible values. Really nice library for python https://github.com/fmfn/BayesianOptimization, this method will not always find the best combination of parameters\n",
        "\n",
        "We provide 1 example for each method"
      ]
    },
    {
      "cell_type": "markdown",
      "id": "7137f28e",
      "metadata": {
        "id": "7137f28e"
      },
      "source": [
        "### Grid search - SVM"
      ]
    },
    {
      "cell_type": "markdown",
      "id": "66cd8ee9",
      "metadata": {
        "id": "66cd8ee9"
      },
      "source": [
        "With grid search we can use the handy sklearn implementation"
      ]
    },
    {
      "cell_type": "code",
      "execution_count": null,
      "id": "a141b297",
      "metadata": {
        "id": "a141b297"
      },
      "outputs": [],
      "source": [
        "reg = GridSearchCV(svm.SVR(kernel='rbf', gamma=0.1),\n",
        "                   param_grid={\"C\": [1e0, 1e1, 1e2, 1e3],\n",
        "                               \"gamma\": np.logspace(-2, 2, 5)})\n",
        "reg.fit(X_train, y_train)\n",
        "yhat = reg.predict(X_test)\n",
        "resultsDict['SVM RBF GRID SEARCH'] = evaluate(df_test.Iphone_14, yhat)\n",
        "predictionsDict['SVM RBF GRID SEARCH'] = yhat"
      ]
    },
    {
      "cell_type": "code",
      "execution_count": null,
      "id": "2374c50e",
      "metadata": {
        "id": "2374c50e",
        "colab": {
          "base_uri": "https://localhost:8080/"
        },
        "outputId": "60320e02-caec-40fa-c5eb-bff5452236e9"
      },
      "outputs": [
        {
          "output_type": "stream",
          "name": "stdout",
          "text": [
            "Grid search Tunned SVM is 1.8756359152597213% better than the SVM with default parameters\n"
          ]
        }
      ],
      "source": [
        "increase = 1 - (resultsDict['SVM RBF GRID SEARCH']\n",
        "                ['rmse']/resultsDict['SVM RBF']['rmse'])\n",
        "print(\n",
        "    f\"Grid search Tunned SVM is {increase*100}% better than the SVM with default parameters\")"
      ]
    },
    {
      "cell_type": "markdown",
      "id": "93e46242",
      "metadata": {
        "id": "93e46242"
      },
      "source": [
        "\n",
        "\n",
        "```\n",
        "# This is formatted as code\n",
        "```\n",
        "\n",
        "### Bayesian processes - Xgboost"
      ]
    },
    {
      "cell_type": "code",
      "execution_count": null,
      "id": "4251d624",
      "metadata": {
        "id": "4251d624"
      },
      "outputs": [],
      "source": [
        "def rms(y_actual, y_predicted):\n",
        "    return sqrt(mean_squared_error(y_actual, y_predicted))\n",
        "\n",
        "\n",
        "my_scorer = make_scorer(rms, greater_is_better=False)\n",
        "pbounds = {\n",
        "    'n_estimators': (100, 10000),\n",
        "    'max_depth': (3, 15),\n",
        "    'min_samples_leaf': (1, 4),\n",
        "    'min_samples_split': (2, 10),\n",
        "}\n",
        "\n",
        "\n",
        "def rf_hyper_param(n_estimators,\n",
        "                   max_depth,\n",
        "                   min_samples_leaf,\n",
        "                   min_samples_split):\n",
        "\n",
        "    max_depth = int(max_depth)\n",
        "    n_estimators = int(n_estimators)\n",
        "\n",
        "    clf = RandomForestRegressor(n_estimators=n_estimators,\n",
        "                                max_depth=int(max_depth),\n",
        "                                min_samples_leaf=int(min_samples_leaf),\n",
        "                                min_samples_split=int(min_samples_split),\n",
        "                                n_jobs=1)\n",
        "\n",
        "    return -np.mean(cross_val_score(clf, X_train, y_train, cv=3))\n",
        "\n",
        "\n",
        "optimizer = BayesianOptimization(\n",
        "    f=rf_hyper_param,\n",
        "    pbounds=pbounds,\n",
        "    random_state=1,\n",
        ")"
      ]
    },
    {
      "cell_type": "code",
      "execution_count": null,
      "id": "da878918",
      "metadata": {
        "id": "da878918",
        "colab": {
          "base_uri": "https://localhost:8080/"
        },
        "outputId": "7c316fd7-4ef6-4da0-c30a-6437826eb2c3"
      },
      "outputs": [
        {
          "output_type": "stream",
          "name": "stdout",
          "text": [
            "|   iter    |  target   | max_depth | min_sa... | min_sa... | n_esti... |\n",
            "-------------------------------------------------------------------------\n",
            "| \u001b[0m1        \u001b[0m | \u001b[0m33.15    \u001b[0m | \u001b[0m8.004    \u001b[0m | \u001b[0m3.161    \u001b[0m | \u001b[0m2.001    \u001b[0m | \u001b[0m3.093e+03\u001b[0m |\n",
            "| \u001b[0m2        \u001b[0m | \u001b[0m22.23    \u001b[0m | \u001b[0m4.761    \u001b[0m | \u001b[0m1.277    \u001b[0m | \u001b[0m3.49     \u001b[0m | \u001b[0m3.521e+03\u001b[0m |\n",
            "| \u001b[0m3        \u001b[0m | \u001b[0m27.88    \u001b[0m | \u001b[0m7.761    \u001b[0m | \u001b[0m2.616    \u001b[0m | \u001b[0m5.354    \u001b[0m | \u001b[0m6.884e+03\u001b[0m |\n",
            "| \u001b[0m4        \u001b[0m | \u001b[0m21.83    \u001b[0m | \u001b[0m5.872    \u001b[0m | \u001b[0m1.362    \u001b[0m | \u001b[0m3.762    \u001b[0m | \u001b[0m3.091e+03\u001b[0m |\n",
            "| \u001b[95m5        \u001b[0m | \u001b[95m33.57    \u001b[0m | \u001b[95m8.311    \u001b[0m | \u001b[95m2.24     \u001b[0m | \u001b[95m6.382    \u001b[0m | \u001b[95m7.468e+03\u001b[0m |\n",
            "| \u001b[95m6        \u001b[0m | \u001b[95m41.63    \u001b[0m | \u001b[95m10.48    \u001b[0m | \u001b[95m1.67     \u001b[0m | \u001b[95m9.673    \u001b[0m | \u001b[95m8.066e+03\u001b[0m |\n",
            "| \u001b[95m7        \u001b[0m | \u001b[95m42.13    \u001b[0m | \u001b[95m3.254    \u001b[0m | \u001b[95m3.424    \u001b[0m | \u001b[95m9.719    \u001b[0m | \u001b[95m7.051e+03\u001b[0m |\n",
            "| \u001b[0m8        \u001b[0m | \u001b[0m22.53    \u001b[0m | \u001b[0m7.373    \u001b[0m | \u001b[0m1.067    \u001b[0m | \u001b[0m3.219    \u001b[0m | \u001b[0m9.718e+03\u001b[0m |\n",
            "| \u001b[0m9        \u001b[0m | \u001b[0m40.85    \u001b[0m | \u001b[0m14.94    \u001b[0m | \u001b[0m1.976    \u001b[0m | \u001b[0m8.535    \u001b[0m | \u001b[0m541.9    \u001b[0m |\n",
            "| \u001b[0m10       \u001b[0m | \u001b[0m41.45    \u001b[0m | \u001b[0m14.77    \u001b[0m | \u001b[0m1.811    \u001b[0m | \u001b[0m8.47     \u001b[0m | \u001b[0m4.521e+03\u001b[0m |\n",
            "| \u001b[0m11       \u001b[0m | \u001b[0m27.43    \u001b[0m | \u001b[0m6.899    \u001b[0m | \u001b[0m2.907    \u001b[0m | \u001b[0m5.204    \u001b[0m | \u001b[0m7.54e+03 \u001b[0m |\n",
            "| \u001b[0m12       \u001b[0m | \u001b[0m33.28    \u001b[0m | \u001b[0m6.671    \u001b[0m | \u001b[0m3.03     \u001b[0m | \u001b[0m6.411    \u001b[0m | \u001b[0m3.227e+03\u001b[0m |\n",
            "| \u001b[0m13       \u001b[0m | \u001b[0m20.99    \u001b[0m | \u001b[0m7.766    \u001b[0m | \u001b[0m1.583    \u001b[0m | \u001b[0m2.423    \u001b[0m | \u001b[0m3.515e+03\u001b[0m |\n",
            "| \u001b[0m14       \u001b[0m | \u001b[0m24.36    \u001b[0m | \u001b[0m3.114    \u001b[0m | \u001b[0m2.651    \u001b[0m | \u001b[0m3.296    \u001b[0m | \u001b[0m4.83e+03 \u001b[0m |\n",
            "| \u001b[0m15       \u001b[0m | \u001b[0m27.79    \u001b[0m | \u001b[0m6.988    \u001b[0m | \u001b[0m2.454    \u001b[0m | \u001b[0m5.335    \u001b[0m | \u001b[0m8.226e+03\u001b[0m |\n",
            "| \u001b[0m16       \u001b[0m | \u001b[0m33.8     \u001b[0m | \u001b[0m5.809    \u001b[0m | \u001b[0m2.341    \u001b[0m | \u001b[0m6.401    \u001b[0m | \u001b[0m9.497e+03\u001b[0m |\n",
            "| \u001b[0m17       \u001b[0m | \u001b[0m28.41    \u001b[0m | \u001b[0m4.414    \u001b[0m | \u001b[0m2.652    \u001b[0m | \u001b[0m5.932    \u001b[0m | \u001b[0m1.545e+03\u001b[0m |\n",
            "| \u001b[0m18       \u001b[0m | \u001b[0m21.34    \u001b[0m | \u001b[0m6.153    \u001b[0m | \u001b[0m1.066    \u001b[0m | \u001b[0m3.34     \u001b[0m | \u001b[0m6.452e+03\u001b[0m |\n",
            "| \u001b[0m19       \u001b[0m | \u001b[0m34.87    \u001b[0m | \u001b[0m5.353    \u001b[0m | \u001b[0m2.201    \u001b[0m | \u001b[0m6.123    \u001b[0m | \u001b[0m793.9    \u001b[0m |\n",
            "| \u001b[0m20       \u001b[0m | \u001b[0m41.58    \u001b[0m | \u001b[0m5.169    \u001b[0m | \u001b[0m1.815    \u001b[0m | \u001b[0m8.428    \u001b[0m | \u001b[0m6.516e+03\u001b[0m |\n",
            "| \u001b[95m21       \u001b[0m | \u001b[95m42.36    \u001b[0m | \u001b[95m4.605    \u001b[0m | \u001b[95m2.524    \u001b[0m | \u001b[95m9.113    \u001b[0m | \u001b[95m5.715e+03\u001b[0m |\n",
            "| \u001b[0m22       \u001b[0m | \u001b[0m39.87    \u001b[0m | \u001b[0m4.82     \u001b[0m | \u001b[0m1.613    \u001b[0m | \u001b[0m7.38     \u001b[0m | \u001b[0m8.761e+03\u001b[0m |\n",
            "| \u001b[0m23       \u001b[0m | \u001b[0m39.91    \u001b[0m | \u001b[0m4.893    \u001b[0m | \u001b[0m2.346    \u001b[0m | \u001b[0m7.183    \u001b[0m | \u001b[0m5.718e+03\u001b[0m |\n",
            "=========================================================================\n"
          ]
        }
      ],
      "source": [
        "optimizer.maximize(\n",
        "    init_points=3,\n",
        "    n_iter=20,\n",
        "    acq='ei'\n",
        ")"
      ]
    },
    {
      "cell_type": "code",
      "execution_count": null,
      "id": "f61e6fcf",
      "metadata": {
        "id": "f61e6fcf"
      },
      "outputs": [],
      "source": [
        "params = optimizer.max['params']\n",
        "\n",
        "# Converting the max_depth and n_estimator values from float to int\n",
        "params['max_depth'] = int(params['max_depth'])\n",
        "params['n_estimators'] = int(params['n_estimators'])\n",
        "params['min_samples_leaf'] = int(params['min_samples_leaf'])\n",
        "params['min_samples_split'] = int(params['min_samples_split'])\n",
        "\n",
        "# Initialize an XGBRegressor with the tuned parameters and fit the training data\n",
        "tunned_rf = RandomForestRegressor(**params)\n",
        "# Change verbose to True if you want to see it train\n",
        "tunned_rf.fit(X_train, y_train)\n",
        "\n",
        "yhat = tunned_rf.predict(X_test)\n",
        "resultsDict['Randomforest tunned'] = evaluate(y_test, yhat)"
      ]
    },
    {
      "cell_type": "code",
      "source": [
        "predictionsDict['Randomforest tunned'] = yhat"
      ],
      "metadata": {
        "id": "J3XLLMJwHOBP"
      },
      "id": "J3XLLMJwHOBP",
      "execution_count": null,
      "outputs": []
    },
    {
      "cell_type": "code",
      "execution_count": null,
      "id": "c66c341b",
      "metadata": {
        "id": "c66c341b",
        "colab": {
          "base_uri": "https://localhost:8080/"
        },
        "outputId": "f70010ad-afe2-45a5-a6e2-0c01f6e75784"
      },
      "outputs": [
        {
          "output_type": "stream",
          "name": "stdout",
          "text": [
            "Bayesian optimized Randomforest is 0.7773076221535113% better than the Randomforest with default parameters\n"
          ]
        }
      ],
      "source": [
        "increase = 1 - (resultsDict['Randomforest tunned']\n",
        "                ['rmse']/resultsDict['Randomforest']['rmse'])\n",
        "print(\n",
        "    f\"Bayesian optimized Randomforest is {increase*100}% better than the Randomforest with default parameters\")"
      ]
    },
    {
      "cell_type": "code",
      "source": [
        "resultsDict['Randomforest tunned']"
      ],
      "metadata": {
        "id": "fcLdBDHCEvOH",
        "colab": {
          "base_uri": "https://localhost:8080/"
        },
        "outputId": "1c6637c4-3f73-436e-e161-d2cf5daa9974"
      },
      "id": "fcLdBDHCEvOH",
      "execution_count": null,
      "outputs": [
        {
          "output_type": "execute_result",
          "data": {
            "text/plain": [
              "{'mae': 26929.733605569014,\n",
              " 'rmse': 29600.0628202876,\n",
              " 'mape': 0.4018913193862419,\n",
              " 'r2': -5.859718713305972}"
            ]
          },
          "metadata": {},
          "execution_count": 385
        }
      ]
    },
    {
      "cell_type": "markdown",
      "id": "03eb160d",
      "metadata": {
        "id": "03eb160d"
      },
      "source": [
        "## Ensembling"
      ]
    },
    {
      "cell_type": "markdown",
      "id": "aba69b89",
      "metadata": {
        "id": "aba69b89"
      },
      "source": [
        "Ensembling refers to combine multiple models to achieve a better performance, most of the time this only makes sense when models have similar performance but predict values differently so we try to get the best of each model.\n",
        "\n",
        "We will pick our 3 top performing models and look at the correlation of their residuals, the less correlated the better"
      ]
    },
    {
      "cell_type": "code",
      "execution_count": null,
      "id": "bf110244",
      "metadata": {
        "id": "bf110244"
      },
      "outputs": [],
      "source": [
        "models = ['Tensorflow simple LSTM',\n",
        "          'Lightgbm',\n",
        "          'XGBoost']\n",
        "resis = pd.DataFrame(data={k: df_test.Iphone_14.values -\n",
        "                     v for k, v in predictionsDict.items()})[models]\n",
        "corr = resis.corr()\n",
        "print(\"Residuals correlation\")\n",
        "corr.style.background_gradient(cmap='coolwarm')"
      ]
    },
    {
      "cell_type": "markdown",
      "id": "629f7d93",
      "metadata": {
        "id": "629f7d93"
      },
      "source": [
        "We can see how both tree models are a bit similar ~0.87 but quite different from the Deep Learning model with corr ~0.7. In this case it would really make sense to ensemble the methods and see how they behave. The most reasonable combinations to try would be\n",
        "\n",
        "* XGboost + Tensorflow\n",
        "* XGBoost + Lightgbm\n",
        "* Lightgbm + Tensorflow\n",
        "* XGBoost + Lightgbm + Tensorflow\n",
        "\n",
        "We will just sum the predictions of each model with similar weights (0.5 if two models, 0.333 if three)"
      ]
    },
    {
      "cell_type": "code",
      "execution_count": null,
      "id": "48ed193f",
      "metadata": {
        "id": "48ed193f"
      },
      "outputs": [],
      "source": [
        "predictionsDict['EnsembleXG+LIGHT'] = (\n",
        "    predictionsDict['XGBoost'] + predictionsDict['Lightgbm'])/2\n",
        "resultsDict['EnsembleXG+LIGHT'] = evaluate(\n",
        "    df_test.Iphone_14.values, predictionsDict['EnsembleXG+LIGHT'])\n",
        "\n",
        "predictionsDict['EnsembleXG+LIGHT+TF'] = (predictionsDict['XGBoost'] +\n",
        "                                          predictionsDict['Lightgbm'] + predictionsDict['Tensorflow simple LSTM'])/3\n",
        "resultsDict['EnsembleXG+LIGHT+TF'] = evaluate(\n",
        "    df_test.Iphone_14.values, predictionsDict['EnsembleXG+LIGHT+TF'])\n",
        "\n",
        "predictionsDict['EnsembleLIGHT+TF'] = (\n",
        "    predictionsDict['Lightgbm'] + predictionsDict['Tensorflow simple LSTM'])/2\n",
        "resultsDict['EnsembleLIGHT+TF'] = evaluate(\n",
        "    df_test.Iphone_14.values, predictionsDict['EnsembleLIGHT+TF'])\n",
        "\n",
        "predictionsDict['EnsembleXG+TF'] = (predictionsDict['XGBoost'] +\n",
        "                                    predictionsDict['Tensorflow simple LSTM'])/2\n",
        "resultsDict['EnsembleXG+TF'] = evaluate(\n",
        "    df_test.Iphone_14.values, predictionsDict['EnsembleXG+TF'])"
      ]
    },
    {
      "cell_type": "code",
      "execution_count": null,
      "id": "5c8ab783",
      "metadata": {
        "id": "5c8ab783"
      },
      "outputs": [],
      "source": [
        "\n",
        "with open('/content/gdrive/MyDrive/Techfest/Code/scores.pickle', 'wb') as handle:\n",
        "    pickle.dump(resultsDict, handle, protocol=pickle.HIGHEST_PROTOCOL)\n",
        "\n",
        "with open('/content/gdrive/MyDrive/Techfest/Code/predictions.pickle', 'wb') as handle:\n",
        "    pickle.dump(predictionsDict, handle, protocol=pickle.HIGHEST_PROTOCOL)"
      ]
    },
    {
      "cell_type": "code",
      "source": [
        "results = pd.DataFrame({\n",
        "    'Model': [ 'Simple Exponential Smoothing (SES)', \n",
        "              'Holt Winter’s Exponential Smoothing (HWES)',\n",
        "              'AR',  \n",
        "              'ARIMA',\n",
        "              'Auto ARIMA',\n",
        "              'SARIMA',\n",
        "              'Bayesian regression',\n",
        "              'Lasso regression'],\n",
        "    \"MSE\":            [ses_mse,\n",
        "                      hwes_mse,\n",
        "                      ar_mse,\n",
        "                      arima_mse,\n",
        "                      auto_arima_mse,\n",
        "                      sarima_mse,\n",
        "                       Bayesian_regression_mse\n",
        "                     ]})\n",
        "result_df = results.sort_values(by='MSE', ascending=False)\n",
        "result_df = result_df.reset_index(drop=True)\n",
        "result_df.head(9)"
      ],
      "metadata": {
        "id": "S9ALPrwj7b7K"
      },
      "id": "S9ALPrwj7b7K",
      "execution_count": null,
      "outputs": []
    },
    {
      "cell_type": "code",
      "source": [
        "plt.subplots(figsize=(12,8))\n",
        "ax=sns.barplot(x='Model',y=\"MSE\",data=result_df)\n",
        "labels = (result_df[\"MSE\"])\n",
        "# add result numbers on barchart\n",
        "for i, v in enumerate(labels):\n",
        "    ax.text(i, v+1, str(v), horizontalalignment = 'center', size = 15, color = 'black')"
      ],
      "metadata": {
        "id": "Ut15nC9z7kUq"
      },
      "id": "Ut15nC9z7kUq",
      "execution_count": null,
      "outputs": []
    },
    {
      "cell_type": "code",
      "source": [
        "resultsDict"
      ],
      "metadata": {
        "id": "at1_WJRRGob_"
      },
      "id": "at1_WJRRGob_",
      "execution_count": null,
      "outputs": []
    },
    {
      "cell_type": "code",
      "source": [
        "predictionsDict"
      ],
      "metadata": {
        "id": "jORly_EWGsvX"
      },
      "id": "jORly_EWGsvX",
      "execution_count": null,
      "outputs": []
    },
    {
      "cell_type": "code",
      "source": [
        "X = []\n",
        "mae = []\n",
        "rmse = []\n",
        "for x in resultsDict:\n",
        "  X.append(x)\n",
        "  for value in x\n"
      ],
      "metadata": {
        "id": "MmFZvyFnSpXf"
      },
      "id": "MmFZvyFnSpXf",
      "execution_count": null,
      "outputs": []
    },
    {
      "cell_type": "code",
      "source": [
        "import numpy as np \n",
        "import matplotlib.pyplot as plt \n",
        "  \n",
        "X = ['Naive mean','AR','ARIMA','SARIMAX']\n",
        "mae = [30028.833333333325,20,20,40]\n",
        "rmse = [20,30,25,30]\n",
        "  \n",
        "X_axis = np.arange(len(X))\n",
        "  \n",
        "plt.bar(X_axis - 0.2, mae, 0.4, label = 'MAE')\n",
        "plt.bar(X_axis + 0.2, rmse, 0.4, label = 'RMSE')\n",
        "  \n",
        "plt.xticks(X_axis, X)\n",
        "plt.xlabel(\"Methods\")\n",
        "plt.ylabel(\"Value\")\n",
        "plt.title(\"Methods' Performance\")\n",
        "plt.legend()\n",
        "plt.show()"
      ],
      "metadata": {
        "id": "9n2pzX9fQlZd"
      },
      "id": "9n2pzX9fQlZd",
      "execution_count": null,
      "outputs": []
    },
    {
      "cell_type": "code",
      "source": [
        "resultsDict.pop(\"Naive mean\")\n"
      ],
      "metadata": {
        "colab": {
          "base_uri": "https://localhost:8080/"
        },
        "id": "04nSkLnTb12R",
        "outputId": "1bb4c889-38a7-4318-8640-8e4c6a1dc581"
      },
      "id": "04nSkLnTb12R",
      "execution_count": null,
      "outputs": [
        {
          "output_type": "execute_result",
          "data": {
            "text/plain": [
              "{'mae': 30028.833333333325,\n",
              " 'rmse': 32085.148080710343,\n",
              " 'mape': 0.4473616362094459,\n",
              " 'r2': -7.0598904341302156}"
            ]
          },
          "metadata": {},
          "execution_count": 313
        }
      ]
    },
    {
      "cell_type": "code",
      "source": [
        "resultsDict.pop(\"Last week value\")"
      ],
      "metadata": {
        "colab": {
          "base_uri": "https://localhost:8080/"
        },
        "id": "TRvo6dUkcN1T",
        "outputId": "0ac95e98-3e32-448d-edd1-9494ae6db9d0"
      },
      "id": "TRvo6dUkcN1T",
      "execution_count": null,
      "outputs": [
        {
          "output_type": "execute_result",
          "data": {
            "text/plain": [
              "{'mae': 11556.0,\n",
              " 'rmse': 15474.893214494245,\n",
              " 'mape': 0.14465598443030503,\n",
              " 'r2': -0.8748924650330894}"
            ]
          },
          "metadata": {},
          "execution_count": 315
        }
      ]
    },
    {
      "cell_type": "code",
      "source": [
        "resultsDict"
      ],
      "metadata": {
        "colab": {
          "base_uri": "https://localhost:8080/"
        },
        "id": "5EUwo924cF4e",
        "outputId": "9bb53786-2b04-41b7-a65d-6d712c39988d"
      },
      "id": "5EUwo924cF4e",
      "execution_count": null,
      "outputs": [
        {
          "output_type": "execute_result",
          "data": {
            "text/plain": [
              "{'SES': {'mae': 11535.32488421004,\n",
              "  'rmse': 15461.56862271609,\n",
              "  'mape': 0.14441655851968044,\n",
              "  'r2': -0.8716651185203563},\n",
              " 'HWES': {'mae': 11532.566655891207,\n",
              "  'rmse': 15452.89597975633,\n",
              "  'mape': 0.14439660992811634,\n",
              "  'r2': -0.8695660131534277},\n",
              " 'AR': {'mae': 16853.005996671076,\n",
              "  'rmse': 18971.11534509055,\n",
              "  'mape': 0.2284374344931058,\n",
              "  'r2': -1.8177779816610578},\n",
              " 'ARIMA': {'mae': 11487.595739321116,\n",
              "  'rmse': 15280.064175146994,\n",
              "  'mape': 0.14430207137823958,\n",
              "  'r2': -0.8279798263980125},\n",
              " 'AutoARIMA (0, 2, 0)': {'mae': 16866.000000000007,\n",
              "  'rmse': 24464.174214553,\n",
              "  'mape': 0.20679124664044823,\n",
              "  'r2': -3.6857829049795816},\n",
              " 'SARIMAX': {'mae': 11345.143979963912,\n",
              "  'rmse': 15445.672920125397,\n",
              "  'mape': 0.14145568617413906,\n",
              "  'r2': -0.8678186603247235},\n",
              " 'BayesianRidge': {'mae': 30028.835110125678,\n",
              "  'rmse': 32085.14953320013,\n",
              "  'mape': 0.4473616586744035,\n",
              "  'r2': -7.059891163870265},\n",
              " 'Lasso': {'mae': 27901.27269660736,\n",
              "  'rmse': 35949.179207012065,\n",
              "  'mape': 0.3561307180678435,\n",
              "  'r2': -9.118100762102843},\n",
              " 'Randomforest': {'mae': 23504.447936507935,\n",
              "  'rmse': 29831.94883239877,\n",
              "  'mape': 0.32192580078509125,\n",
              "  'r2': -5.967617366636899},\n",
              " 'XGBoost': {'mae': 9176.596875,\n",
              "  'rmse': 13829.569475314129,\n",
              "  'mape': 0.11218142171867715,\n",
              "  'r2': -0.4974018414600927},\n",
              " 'Lightgbm': {'mae': 30028.833333333325,\n",
              "  'rmse': 32085.148080710343,\n",
              "  'mape': 0.4473616362094459,\n",
              "  'r2': -7.0598904341302156},\n",
              " 'SVM RBF': {'mae': 14556.133963593897,\n",
              "  'rmse': 16892.71551624151,\n",
              "  'mape': 0.22310541341405235,\n",
              "  'r2': -1.2341893574398313},\n",
              " 'Kneighbors': {'mae': 44888.0,\n",
              "  'rmse': 65869.29489526968,\n",
              "  'mape': 0.599280435203417,\n",
              "  'r2': -32.96933704031326},\n",
              " 'Tensorflow simple LSTM': {'mae': 13376.47265625,\n",
              "  'rmse': 17448.096984597672,\n",
              "  'mape': 0.16512118557235703,\n",
              "  'r2': -1.3835110805088924},\n",
              " 'SVM RBF GRID SEARCH': {'mae': 14332.339635938955,\n",
              "  'rmse': 16575.869676956234,\n",
              "  'mape': 0.21946188619637058,\n",
              "  'r2': -1.1511648315032148},\n",
              " 'Randomforest tunned': {'mae': 26929.733605569014,\n",
              "  'rmse': 29600.0628202876,\n",
              "  'mape': 0.4018913193862419,\n",
              "  'r2': -5.859718713305972}}"
            ]
          },
          "metadata": {},
          "execution_count": 316
        }
      ]
    },
    {
      "cell_type": "code",
      "source": [
        "import numpy as np \n",
        "import matplotlib.pyplot as plt \n",
        "\n",
        "X = resultsDict.keys()\n",
        "mae = []\n",
        "rmse = []\n",
        "for x in resultsDict:\n",
        "  mae.append(resultsDict[x]['mae'])\n",
        "  rmse.append(resultsDict[x]['rmse'])\n",
        "\n",
        "X_axis = np.arange(len(X))\n",
        "  \n",
        "plt.bar(X_axis - 0.2, mae, 0.4, label = 'MAE')\n",
        "plt.bar(X_axis + 0.2, rmse, 0.4, label = 'RMSE')\n",
        "  \n",
        "plt.xticks(X_axis, X)\n",
        "plt.xlabel(\"Methods\")\n",
        "plt.ylabel(\"Value\")\n",
        "plt.title(\"Methods' Performance\")\n",
        "plt.legend()\n",
        "plt.show()\n"
      ],
      "metadata": {
        "id": "Jj4Q99L1U4Ko",
        "colab": {
          "base_uri": "https://localhost:8080/",
          "height": 517
        },
        "outputId": "9c0fec81-1054-43c0-e4d5-b89eb395aa49"
      },
      "id": "Jj4Q99L1U4Ko",
      "execution_count": null,
      "outputs": [
        {
          "output_type": "display_data",
          "data": {
            "text/plain": [
              "<Figure size 1296x576 with 1 Axes>"
            ],
            "image/png": "[encoded data removed]"
          },
          "metadata": {
            "needs_background": "light"
          }
        }
      ]
    },
    {
      "cell_type": "code",
      "source": [
        "df = pd.read_csv('/content/gdrive/MyDrive/Techfest/Data/dataset_final.csv', parse_dates=['Start_week'])"
      ],
      "metadata": {
        "id": "Jo7pMtHfhpYl"
      },
      "id": "Jo7pMtHfhpYl",
      "execution_count": null,
      "outputs": []
    },
    {
      "cell_type": "code",
      "source": [
        "df.head()"
      ],
      "metadata": {
        "colab": {
          "base_uri": "https://localhost:8080/",
          "height": 357
        },
        "id": "UNhDsIdPnlEB",
        "outputId": "923a0aa4-b736-451d-c242-cdc5b89f2c4a"
      },
      "id": "UNhDsIdPnlEB",
      "execution_count": null,
      "outputs": [
        {
          "output_type": "execute_result",
          "data": {
            "text/plain": [
              "   Year  Week_ID Start_week    End_week  Iphone_13  Iphone_14  Galaxy_S21  \\\n",
              "0  2022        1 2022-01-02  2022-01-08      52360          0       25630   \n",
              "1  2022        2 2022-01-09  2022-01-15      50360          0       22940   \n",
              "2  2022        3 2022-01-16  2022-01-22      48340          0       21560   \n",
              "3  2022        4 2022-01-23  2022-01-29      45390          0       22450   \n",
              "4  2022        5 2022-01-30  2022-02-05      66780          0       21460   \n",
              "\n",
              "   Galaxy_S22  Galaxy_S23  NumHoliday  ReleaseStat13  ReleaseState14  \\\n",
              "0           0           0           0              1               0   \n",
              "1           0           0           0              1               0   \n",
              "2           0           0           0              1               0   \n",
              "3           0           0           0              1               0   \n",
              "4           0           0           1              1               0   \n",
              "\n",
              "   ReleaseStat21  ReleaseStat22  ReleaseStat23  Campaign_Iphone  \\\n",
              "0              1              0              0            100.0   \n",
              "1              1              0              0            600.0   \n",
              "2              1              0              0            350.0   \n",
              "3              1              0              0            750.0   \n",
              "4              1              0              0            900.0   \n",
              "\n",
              "   Campaign_Samsung  \n",
              "0             100.0  \n",
              "1             600.0  \n",
              "2             200.0  \n",
              "3             750.0  \n",
              "4             500.0  "
            ],
            "text/html": [
              "\n",
              "  <div id=\"df-703aa261-8e1b-455b-bea7-e831a2568dc4\">\n",
              "    <div class=\"colab-df-container\">\n",
              "      <div>\n",
              "<style scoped>\n",
              "    .dataframe tbody tr th:only-of-type {\n",
              "        vertical-align: middle;\n",
              "    }\n",
              "\n",
              "    .dataframe tbody tr th {\n",
              "        vertical-align: top;\n",
              "    }\n",
              "\n",
              "    .dataframe thead th {\n",
              "        text-align: right;\n",
              "    }\n",
              "</style>\n",
              "<table border=\"1\" class=\"dataframe\">\n",
              "  <thead>\n",
              "    <tr style=\"text-align: right;\">\n",
              "      <th></th>\n",
              "      <th>Year</th>\n",
              "      <th>Week_ID</th>\n",
              "      <th>Start_week</th>\n",
              "      <th>End_week</th>\n",
              "      <th>Iphone_13</th>\n",
              "      <th>Iphone_14</th>\n",
              "      <th>Galaxy_S21</th>\n",
              "      <th>Galaxy_S22</th>\n",
              "      <th>Galaxy_S23</th>\n",
              "      <th>NumHoliday</th>\n",
              "      <th>ReleaseStat13</th>\n",
              "      <th>ReleaseState14</th>\n",
              "      <th>ReleaseStat21</th>\n",
              "      <th>ReleaseStat22</th>\n",
              "      <th>ReleaseStat23</th>\n",
              "      <th>Campaign_Iphone</th>\n",
              "      <th>Campaign_Samsung</th>\n",
              "    </tr>\n",
              "  </thead>\n",
              "  <tbody>\n",
              "    <tr>\n",
              "      <th>0</th>\n",
              "      <td>2022</td>\n",
              "      <td>1</td>\n",
              "      <td>2022-01-02</td>\n",
              "      <td>2022-01-08</td>\n",
              "      <td>52360</td>\n",
              "      <td>0</td>\n",
              "      <td>25630</td>\n",
              "      <td>0</td>\n",
              "      <td>0</td>\n",
              "      <td>0</td>\n",
              "      <td>1</td>\n",
              "      <td>0</td>\n",
              "      <td>1</td>\n",
              "      <td>0</td>\n",
              "      <td>0</td>\n",
              "      <td>100.0</td>\n",
              "      <td>100.0</td>\n",
              "    </tr>\n",
              "    <tr>\n",
              "      <th>1</th>\n",
              "      <td>2022</td>\n",
              "      <td>2</td>\n",
              "      <td>2022-01-09</td>\n",
              "      <td>2022-01-15</td>\n",
              "      <td>50360</td>\n",
              "      <td>0</td>\n",
              "      <td>22940</td>\n",
              "      <td>0</td>\n",
              "      <td>0</td>\n",
              "      <td>0</td>\n",
              "      <td>1</td>\n",
              "      <td>0</td>\n",
              "      <td>1</td>\n",
              "      <td>0</td>\n",
              "      <td>0</td>\n",
              "      <td>600.0</td>\n",
              "      <td>600.0</td>\n",
              "    </tr>\n",
              "    <tr>\n",
              "      <th>2</th>\n",
              "      <td>2022</td>\n",
              "      <td>3</td>\n",
              "      <td>2022-01-16</td>\n",
              "      <td>2022-01-22</td>\n",
              "      <td>48340</td>\n",
              "      <td>0</td>\n",
              "      <td>21560</td>\n",
              "      <td>0</td>\n",
              "      <td>0</td>\n",
              "      <td>0</td>\n",
              "      <td>1</td>\n",
              "      <td>0</td>\n",
              "      <td>1</td>\n",
              "      <td>0</td>\n",
              "      <td>0</td>\n",
              "      <td>350.0</td>\n",
              "      <td>200.0</td>\n",
              "    </tr>\n",
              "    <tr>\n",
              "      <th>3</th>\n",
              "      <td>2022</td>\n",
              "      <td>4</td>\n",
              "      <td>2022-01-23</td>\n",
              "      <td>2022-01-29</td>\n",
              "      <td>45390</td>\n",
              "      <td>0</td>\n",
              "      <td>22450</td>\n",
              "      <td>0</td>\n",
              "      <td>0</td>\n",
              "      <td>0</td>\n",
              "      <td>1</td>\n",
              "      <td>0</td>\n",
              "      <td>1</td>\n",
              "      <td>0</td>\n",
              "      <td>0</td>\n",
              "      <td>750.0</td>\n",
              "      <td>750.0</td>\n",
              "    </tr>\n",
              "    <tr>\n",
              "      <th>4</th>\n",
              "      <td>2022</td>\n",
              "      <td>5</td>\n",
              "      <td>2022-01-30</td>\n",
              "      <td>2022-02-05</td>\n",
              "      <td>66780</td>\n",
              "      <td>0</td>\n",
              "      <td>21460</td>\n",
              "      <td>0</td>\n",
              "      <td>0</td>\n",
              "      <td>1</td>\n",
              "      <td>1</td>\n",
              "      <td>0</td>\n",
              "      <td>1</td>\n",
              "      <td>0</td>\n",
              "      <td>0</td>\n",
              "      <td>900.0</td>\n",
              "      <td>500.0</td>\n",
              "    </tr>\n",
              "  </tbody>\n",
              "</table>\n",
              "</div>\n",
              "      <button class=\"colab-df-convert\" onclick=\"convertToInteractive('df-703aa261-8e1b-455b-bea7-e831a2568dc4')\"\n",
              "              title=\"Convert this dataframe to an interactive table.\"\n",
              "              style=\"display:none;\">\n",
              "        \n",
              "  <svg xmlns=\"http://www.w3.org/2000/svg\" height=\"24px\"viewBox=\"0 0 24 24\"\n",
              "       width=\"24px\">\n",
              "    <path d=\"M0 0h24v24H0V0z\" fill=\"none\"/>\n",
              "    <path d=\"M18.56 5.44l.94 2.06.94-2.06 2.06-.94-2.06-.94-.94-2.06-.94 2.06-2.06.94zm-11 1L8.5 8.5l.94-2.06 2.06-.94-2.06-.94L8.5 2.5l-.94 2.06-2.06.94zm10 10l.94 2.06.94-2.06 2.06-.94-2.06-.94-.94-2.06-.94 2.06-2.06.94z\"/><path d=\"M17.41 7.96l-1.37-1.37c-.4-.4-.92-.59-1.43-.59-.52 0-1.04.2-1.43.59L10.3 9.45l-7.72 7.72c-.78.78-.78 2.05 0 2.83L4 21.41c.39.39.9.59 1.41.59.51 0 1.02-.2 1.41-.59l7.78-7.78 2.81-2.81c.8-.78.8-2.07 0-2.86zM5.41 20L4 18.59l7.72-7.72 1.47 1.35L5.41 20z\"/>\n",
              "  </svg>\n",
              "      </button>\n",
              "      \n",
              "  <style>\n",
              "    .colab-df-container {\n",
              "      display:flex;\n",
              "      flex-wrap:wrap;\n",
              "      gap: 12px;\n",
              "    }\n",
              "\n",
              "    .colab-df-convert {\n",
              "      background-color: #E8F0FE;\n",
              "      border: none;\n",
              "      border-radius: 50%;\n",
              "      cursor: pointer;\n",
              "      display: none;\n",
              "      fill: #1967D2;\n",
              "      height: 32px;\n",
              "      padding: 0 0 0 0;\n",
              "      width: 32px;\n",
              "    }\n",
              "\n",
              "    .colab-df-convert:hover {\n",
              "      background-color: #E2EBFA;\n",
              "      box-shadow: 0px 1px 2px rgba(60, 64, 67, 0.3), 0px 1px 3px 1px rgba(60, 64, 67, 0.15);\n",
              "      fill: #174EA6;\n",
              "    }\n",
              "\n",
              "    [theme=dark] .colab-df-convert {\n",
              "      background-color: #3B4455;\n",
              "      fill: #D2E3FC;\n",
              "    }\n",
              "\n",
              "    [theme=dark] .colab-df-convert:hover {\n",
              "      background-color: #434B5C;\n",
              "      box-shadow: 0px 1px 3px 1px rgba(0, 0, 0, 0.15);\n",
              "      filter: drop-shadow(0px 1px 2px rgba(0, 0, 0, 0.3));\n",
              "      fill: #FFFFFF;\n",
              "    }\n",
              "  </style>\n",
              "\n",
              "      <script>\n",
              "        const buttonEl =\n",
              "          document.querySelector('#df-703aa261-8e1b-455b-bea7-e831a2568dc4 button.colab-df-convert');\n",
              "        buttonEl.style.display =\n",
              "          google.colab.kernel.accessAllowed ? 'block' : 'none';\n",
              "\n",
              "        async function convertToInteractive(key) {\n",
              "          const element = document.querySelector('#df-703aa261-8e1b-455b-bea7-e831a2568dc4');\n",
              "          const dataTable =\n",
              "            await google.colab.kernel.invokeFunction('convertToInteractive',\n",
              "                                                     [key], {});\n",
              "          if (!dataTable) return;\n",
              "\n",
              "          const docLinkHtml = 'Like what you see? Visit the ' +\n",
              "            '<a target=\"_blank\" href=https://colab.research.google.com/notebooks/data_table.ipynb>data table notebook</a>'\n",
              "            + ' to learn more about interactive tables.';\n",
              "          element.innerHTML = '';\n",
              "          dataTable['output_type'] = 'display_data';\n",
              "          await google.colab.output.renderOutput(dataTable, element);\n",
              "          const docLink = document.createElement('div');\n",
              "          docLink.innerHTML = docLinkHtml;\n",
              "          element.appendChild(docLink);\n",
              "        }\n",
              "      </script>\n",
              "    </div>\n",
              "  </div>\n",
              "  "
            ]
          },
          "metadata": {},
          "execution_count": 320
        }
      ]
    },
    {
      "cell_type": "code",
      "source": [
        "df.set_index('Start_week', inplace=True)"
      ],
      "metadata": {
        "id": "_p1qAWl7n_uN"
      },
      "id": "_p1qAWl7n_uN",
      "execution_count": null,
      "outputs": []
    },
    {
      "cell_type": "code",
      "source": [
        "df = df.drop([\"Year\", \"Galaxy_S23\", \"Week_ID\", \"ReleaseStat23\", \"End_week\"], axis=1)\n",
        "df"
      ],
      "metadata": {
        "colab": {
          "base_uri": "https://localhost:8080/",
          "height": 519
        },
        "id": "Agw1vxxYoIFc",
        "outputId": "e0849d8f-70a5-4d5a-fc03-1665fe2ae692"
      },
      "id": "Agw1vxxYoIFc",
      "execution_count": null,
      "outputs": [
        {
          "output_type": "execute_result",
          "data": {
            "text/plain": [
              "            Iphone_13  Iphone_14  Galaxy_S21  Galaxy_S22  NumHoliday  \\\n",
              "Start_week                                                             \n",
              "2022-01-02      52360          0       25630           0           0   \n",
              "2022-01-09      50360          0       22940           0           0   \n",
              "2022-01-16      48340          0       21560           0           0   \n",
              "2022-01-23      45390          0       22450           0           0   \n",
              "2022-01-30      66780          0       21460           0           1   \n",
              "...               ...        ...         ...         ...         ...   \n",
              "2023-02-19          0          0           0           0           0   \n",
              "2023-02-26          0          0           0           0           0   \n",
              "2023-03-05          0          0           0           0           0   \n",
              "2023-03-12          0          0           0           0           0   \n",
              "2023-03-19          0          0           0           0           0   \n",
              "\n",
              "            ReleaseStat13  ReleaseState14  ReleaseStat21  ReleaseStat22  \\\n",
              "Start_week                                                                \n",
              "2022-01-02              1               0              1              0   \n",
              "2022-01-09              1               0              1              0   \n",
              "2022-01-16              1               0              1              0   \n",
              "2022-01-23              1               0              1              0   \n",
              "2022-01-30              1               0              1              0   \n",
              "...                   ...             ...            ...            ...   \n",
              "2023-02-19              0               1              0              1   \n",
              "2023-02-26              0               1              0              1   \n",
              "2023-03-05              0               1              0              0   \n",
              "2023-03-12              0               1              0              0   \n",
              "2023-03-19              0               1              0              0   \n",
              "\n",
              "            Campaign_Iphone  Campaign_Samsung  \n",
              "Start_week                                     \n",
              "2022-01-02       100.000000        100.000000  \n",
              "2022-01-09       600.000000        600.000000  \n",
              "2022-01-16       350.000000        200.000000  \n",
              "2022-01-23       750.000000        750.000000  \n",
              "2022-01-30       900.000000        500.000000  \n",
              "...                     ...               ...  \n",
              "2023-02-19       335.813492        433.531746  \n",
              "2023-02-26       425.000000        192.857143  \n",
              "2023-03-05       448.214286        357.142857  \n",
              "2023-03-12       521.230159        648.015873  \n",
              "2023-03-19        90.277778        304.563492  \n",
              "\n",
              "[64 rows x 11 columns]"
            ],
            "text/html": [
              "\n",
              "  <div id=\"df-7b4625c7-f30f-465a-bf5b-70faa3b8890e\">\n",
              "    <div class=\"colab-df-container\">\n",
              "      <div>\n",
              "<style scoped>\n",
              "    .dataframe tbody tr th:only-of-type {\n",
              "        vertical-align: middle;\n",
              "    }\n",
              "\n",
              "    .dataframe tbody tr th {\n",
              "        vertical-align: top;\n",
              "    }\n",
              "\n",
              "    .dataframe thead th {\n",
              "        text-align: right;\n",
              "    }\n",
              "</style>\n",
              "<table border=\"1\" class=\"dataframe\">\n",
              "  <thead>\n",
              "    <tr style=\"text-align: right;\">\n",
              "      <th></th>\n",
              "      <th>Iphone_13</th>\n",
              "      <th>Iphone_14</th>\n",
              "      <th>Galaxy_S21</th>\n",
              "      <th>Galaxy_S22</th>\n",
              "      <th>NumHoliday</th>\n",
              "      <th>ReleaseStat13</th>\n",
              "      <th>ReleaseState14</th>\n",
              "      <th>ReleaseStat21</th>\n",
              "      <th>ReleaseStat22</th>\n",
              "      <th>Campaign_Iphone</th>\n",
              "      <th>Campaign_Samsung</th>\n",
              "    </tr>\n",
              "    <tr>\n",
              "      <th>Start_week</th>\n",
              "      <th></th>\n",
              "      <th></th>\n",
              "      <th></th>\n",
              "      <th></th>\n",
              "      <th></th>\n",
              "      <th></th>\n",
              "      <th></th>\n",
              "      <th></th>\n",
              "      <th></th>\n",
              "      <th></th>\n",
              "      <th></th>\n",
              "    </tr>\n",
              "  </thead>\n",
              "  <tbody>\n",
              "    <tr>\n",
              "      <th>2022-01-02</th>\n",
              "      <td>52360</td>\n",
              "      <td>0</td>\n",
              "      <td>25630</td>\n",
              "      <td>0</td>\n",
              "      <td>0</td>\n",
              "      <td>1</td>\n",
              "      <td>0</td>\n",
              "      <td>1</td>\n",
              "      <td>0</td>\n",
              "      <td>100.000000</td>\n",
              "      <td>100.000000</td>\n",
              "    </tr>\n",
              "    <tr>\n",
              "      <th>2022-01-09</th>\n",
              "      <td>50360</td>\n",
              "      <td>0</td>\n",
              "      <td>22940</td>\n",
              "      <td>0</td>\n",
              "      <td>0</td>\n",
              "      <td>1</td>\n",
              "      <td>0</td>\n",
              "      <td>1</td>\n",
              "      <td>0</td>\n",
              "      <td>600.000000</td>\n",
              "      <td>600.000000</td>\n",
              "    </tr>\n",
              "    <tr>\n",
              "      <th>2022-01-16</th>\n",
              "      <td>48340</td>\n",
              "      <td>0</td>\n",
              "      <td>21560</td>\n",
              "      <td>0</td>\n",
              "      <td>0</td>\n",
              "      <td>1</td>\n",
              "      <td>0</td>\n",
              "      <td>1</td>\n",
              "      <td>0</td>\n",
              "      <td>350.000000</td>\n",
              "      <td>200.000000</td>\n",
              "    </tr>\n",
              "    <tr>\n",
              "      <th>2022-01-23</th>\n",
              "      <td>45390</td>\n",
              "      <td>0</td>\n",
              "      <td>22450</td>\n",
              "      <td>0</td>\n",
              "      <td>0</td>\n",
              "      <td>1</td>\n",
              "      <td>0</td>\n",
              "      <td>1</td>\n",
              "      <td>0</td>\n",
              "      <td>750.000000</td>\n",
              "      <td>750.000000</td>\n",
              "    </tr>\n",
              "    <tr>\n",
              "      <th>2022-01-30</th>\n",
              "      <td>66780</td>\n",
              "      <td>0</td>\n",
              "      <td>21460</td>\n",
              "      <td>0</td>\n",
              "      <td>1</td>\n",
              "      <td>1</td>\n",
              "      <td>0</td>\n",
              "      <td>1</td>\n",
              "      <td>0</td>\n",
              "      <td>900.000000</td>\n",
              "      <td>500.000000</td>\n",
              "    </tr>\n",
              "    <tr>\n",
              "      <th>...</th>\n",
              "      <td>...</td>\n",
              "      <td>...</td>\n",
              "      <td>...</td>\n",
              "      <td>...</td>\n",
              "      <td>...</td>\n",
              "      <td>...</td>\n",
              "      <td>...</td>\n",
              "      <td>...</td>\n",
              "      <td>...</td>\n",
              "      <td>...</td>\n",
              "      <td>...</td>\n",
              "    </tr>\n",
              "    <tr>\n",
              "      <th>2023-02-19</th>\n",
              "      <td>0</td>\n",
              "      <td>0</td>\n",
              "      <td>0</td>\n",
              "      <td>0</td>\n",
              "      <td>0</td>\n",
              "      <td>0</td>\n",
              "      <td>1</td>\n",
              "      <td>0</td>\n",
              "      <td>1</td>\n",
              "      <td>335.813492</td>\n",
              "      <td>433.531746</td>\n",
              "    </tr>\n",
              "    <tr>\n",
              "      <th>2023-02-26</th>\n",
              "      <td>0</td>\n",
              "      <td>0</td>\n",
              "      <td>0</td>\n",
              "      <td>0</td>\n",
              "      <td>0</td>\n",
              "      <td>0</td>\n",
              "      <td>1</td>\n",
              "      <td>0</td>\n",
              "      <td>1</td>\n",
              "      <td>425.000000</td>\n",
              "      <td>192.857143</td>\n",
              "    </tr>\n",
              "    <tr>\n",
              "      <th>2023-03-05</th>\n",
              "      <td>0</td>\n",
              "      <td>0</td>\n",
              "      <td>0</td>\n",
              "      <td>0</td>\n",
              "      <td>0</td>\n",
              "      <td>0</td>\n",
              "      <td>1</td>\n",
              "      <td>0</td>\n",
              "      <td>0</td>\n",
              "      <td>448.214286</td>\n",
              "      <td>357.142857</td>\n",
              "    </tr>\n",
              "    <tr>\n",
              "      <th>2023-03-12</th>\n",
              "      <td>0</td>\n",
              "      <td>0</td>\n",
              "      <td>0</td>\n",
              "      <td>0</td>\n",
              "      <td>0</td>\n",
              "      <td>0</td>\n",
              "      <td>1</td>\n",
              "      <td>0</td>\n",
              "      <td>0</td>\n",
              "      <td>521.230159</td>\n",
              "      <td>648.015873</td>\n",
              "    </tr>\n",
              "    <tr>\n",
              "      <th>2023-03-19</th>\n",
              "      <td>0</td>\n",
              "      <td>0</td>\n",
              "      <td>0</td>\n",
              "      <td>0</td>\n",
              "      <td>0</td>\n",
              "      <td>0</td>\n",
              "      <td>1</td>\n",
              "      <td>0</td>\n",
              "      <td>0</td>\n",
              "      <td>90.277778</td>\n",
              "      <td>304.563492</td>\n",
              "    </tr>\n",
              "  </tbody>\n",
              "</table>\n",
              "<p>64 rows × 11 columns</p>\n",
              "</div>\n",
              "      <button class=\"colab-df-convert\" onclick=\"convertToInteractive('df-7b4625c7-f30f-465a-bf5b-70faa3b8890e')\"\n",
              "              title=\"Convert this dataframe to an interactive table.\"\n",
              "              style=\"display:none;\">\n",
              "        \n",
              "  <svg xmlns=\"http://www.w3.org/2000/svg\" height=\"24px\"viewBox=\"0 0 24 24\"\n",
              "       width=\"24px\">\n",
              "    <path d=\"M0 0h24v24H0V0z\" fill=\"none\"/>\n",
              "    <path d=\"M18.56 5.44l.94 2.06.94-2.06 2.06-.94-2.06-.94-.94-2.06-.94 2.06-2.06.94zm-11 1L8.5 8.5l.94-2.06 2.06-.94-2.06-.94L8.5 2.5l-.94 2.06-2.06.94zm10 10l.94 2.06.94-2.06 2.06-.94-2.06-.94-.94-2.06-.94 2.06-2.06.94z\"/><path d=\"M17.41 7.96l-1.37-1.37c-.4-.4-.92-.59-1.43-.59-.52 0-1.04.2-1.43.59L10.3 9.45l-7.72 7.72c-.78.78-.78 2.05 0 2.83L4 21.41c.39.39.9.59 1.41.59.51 0 1.02-.2 1.41-.59l7.78-7.78 2.81-2.81c.8-.78.8-2.07 0-2.86zM5.41 20L4 18.59l7.72-7.72 1.47 1.35L5.41 20z\"/>\n",
              "  </svg>\n",
              "      </button>\n",
              "      \n",
              "  <style>\n",
              "    .colab-df-container {\n",
              "      display:flex;\n",
              "      flex-wrap:wrap;\n",
              "      gap: 12px;\n",
              "    }\n",
              "\n",
              "    .colab-df-convert {\n",
              "      background-color: #E8F0FE;\n",
              "      border: none;\n",
              "      border-radius: 50%;\n",
              "      cursor: pointer;\n",
              "      display: none;\n",
              "      fill: #1967D2;\n",
              "      height: 32px;\n",
              "      padding: 0 0 0 0;\n",
              "      width: 32px;\n",
              "    }\n",
              "\n",
              "    .colab-df-convert:hover {\n",
              "      background-color: #E2EBFA;\n",
              "      box-shadow: 0px 1px 2px rgba(60, 64, 67, 0.3), 0px 1px 3px 1px rgba(60, 64, 67, 0.15);\n",
              "      fill: #174EA6;\n",
              "    }\n",
              "\n",
              "    [theme=dark] .colab-df-convert {\n",
              "      background-color: #3B4455;\n",
              "      fill: #D2E3FC;\n",
              "    }\n",
              "\n",
              "    [theme=dark] .colab-df-convert:hover {\n",
              "      background-color: #434B5C;\n",
              "      box-shadow: 0px 1px 3px 1px rgba(0, 0, 0, 0.15);\n",
              "      filter: drop-shadow(0px 1px 2px rgba(0, 0, 0, 0.3));\n",
              "      fill: #FFFFFF;\n",
              "    }\n",
              "  </style>\n",
              "\n",
              "      <script>\n",
              "        const buttonEl =\n",
              "          document.querySelector('#df-7b4625c7-f30f-465a-bf5b-70faa3b8890e button.colab-df-convert');\n",
              "        buttonEl.style.display =\n",
              "          google.colab.kernel.accessAllowed ? 'block' : 'none';\n",
              "\n",
              "        async function convertToInteractive(key) {\n",
              "          const element = document.querySelector('#df-7b4625c7-f30f-465a-bf5b-70faa3b8890e');\n",
              "          const dataTable =\n",
              "            await google.colab.kernel.invokeFunction('convertToInteractive',\n",
              "                                                     [key], {});\n",
              "          if (!dataTable) return;\n",
              "\n",
              "          const docLinkHtml = 'Like what you see? Visit the ' +\n",
              "            '<a target=\"_blank\" href=https://colab.research.google.com/notebooks/data_table.ipynb>data table notebook</a>'\n",
              "            + ' to learn more about interactive tables.';\n",
              "          element.innerHTML = '';\n",
              "          dataTable['output_type'] = 'display_data';\n",
              "          await google.colab.output.renderOutput(dataTable, element);\n",
              "          const docLink = document.createElement('div');\n",
              "          docLink.innerHTML = docLinkHtml;\n",
              "          element.appendChild(docLink);\n",
              "        }\n",
              "      </script>\n",
              "    </div>\n",
              "  </div>\n",
              "  "
            ]
          },
          "metadata": {},
          "execution_count": 322
        }
      ]
    },
    {
      "cell_type": "code",
      "source": [
        "model.predict(np.array([[49], [50],[51],[52]]))"
      ],
      "metadata": {
        "id": "ELzuA3ATx-N4"
      },
      "id": "ELzuA3ATx-N4",
      "execution_count": null,
      "outputs": []
    },
    {
      "cell_type": "code",
      "source": [
        "# ADD time features to our model\n",
        "def create_time_features(df, target=None):\n",
        "    \"\"\"\n",
        "    Creates time series features from datetime index\n",
        "    \"\"\"\n",
        "    df['date'] = df.index\n",
        "    df['hour'] = df['date'].dt.hour\n",
        "    df['dayofweek'] = df['date'].dt.dayofweek\n",
        "    df['quarter'] = df['date'].dt.quarter\n",
        "    df['month'] = df['date'].dt.month\n",
        "    df['year'] = df['date'].dt.year\n",
        "    df['dayofyear'] = df['date'].dt.dayofyear\n",
        "    df['sin_day'] = np.sin(df['dayofyear'])\n",
        "    df['cos_day'] = np.cos(df['dayofyear'])\n",
        "    df['dayofmonth'] = df['date'].dt.day\n",
        "    df['weekofyear'] = df['date'].dt.weekofyear\n",
        "    X = df.drop(['date'], axis=1)\n",
        "    if target:\n",
        "        y = df[target]\n",
        "        X = X.drop([target], axis=1)\n",
        "        return X, y\n",
        "\n",
        "    return X"
      ],
      "metadata": {
        "id": "Rij1A0lDnanf"
      },
      "id": "Rij1A0lDnanf",
      "execution_count": null,
      "outputs": []
    },
    {
      "cell_type": "code",
      "source": [
        "X_train_df, y_train = create_time_features(\n",
        "    df_training, target='Iphone_14')\n",
        "X_test_df, y_test = create_time_features(df_test, target='Iphone_14')\n",
        "scaler = StandardScaler()\n",
        "scaler.fit(X_train_df)  # No cheating, never scale on the training+test!\n",
        "X_train = scaler.transform(X_train_df)\n",
        "X_test = scaler.transform(X_test_df)\n",
        "\n",
        "X_train_df = pd.DataFrame(X_train, columns=X_train_df.columns)\n",
        "X_test_df = pd.DataFrame(X_test, columns=X_test_df.columns)"
      ],
      "metadata": {
        "id": "csSPszyxng_p"
      },
      "id": "csSPszyxng_p",
      "execution_count": null,
      "outputs": []
    },
    {
      "cell_type": "code",
      "source": [
        "X_train_df.columns"
      ],
      "metadata": {
        "colab": {
          "base_uri": "https://localhost:8080/"
        },
        "id": "8JUW2B7ItWY9",
        "outputId": "512463ba-10b9-4e3b-dc07-ef8e724603bf"
      },
      "id": "8JUW2B7ItWY9",
      "execution_count": null,
      "outputs": [
        {
          "output_type": "execute_result",
          "data": {
            "text/plain": [
              "Index(['Iphone_13', 'Galaxy_S21', 'Galaxy_S22', 'NumHoliday', 'ReleaseStat13',\n",
              "       'ReleaseState14', 'ReleaseStat21', 'ReleaseStat22', 'Campaign_Iphone',\n",
              "       'Campaign_Samsung', 'look_back', 'hour', 'dayofweek', 'quarter',\n",
              "       'month', 'year', 'dayofyear', 'sin_day', 'cos_day', 'dayofmonth',\n",
              "       'weekofyear'],\n",
              "      dtype='object')"
            ]
          },
          "metadata": {},
          "execution_count": 327
        }
      ]
    },
    {
      "cell_type": "code",
      "source": [
        "prediction_s22 = model_s22.predict(y_train_last_sem)"
      ],
      "metadata": {
        "id": "VzZaalWM5QZ1"
      },
      "id": "VzZaalWM5QZ1",
      "execution_count": null,
      "outputs": []
    },
    {
      "cell_type": "code",
      "source": [
        "reg = xgb.XGBRegressor(objective='reg:squarederror', n_estimators=1000)\n",
        "reg.fit(X_train, y_train,\n",
        "        verbose=False)  # Change verbose to True if you want to see it train\n",
        "yhat = reg.predict(X_test)\n",
        "resultsDict['XGBoost'] = evaluate(df_test.Iphone_14, yhat)\n",
        "predictionsDict['XGBoost'] = yhat"
      ],
      "metadata": {
        "id": "hK-fs0pjhqSr"
      },
      "id": "hK-fs0pjhqSr",
      "execution_count": null,
      "outputs": []
    }
  ],
  "metadata": {
    "jupytext": {
      "encoding": "# -*- coding: utf-8 -*-"
    },
    "kernelspec": {
      "display_name": "timewiki",
      "language": "python",
      "name": "timewiki"
    },
    "language_info": {
      "codemirror_mode": {
        "name": "ipython",
        "version": 3
      },
      "file_extension": ".py",
      "mimetype": "text/x-python",
      "name": "python",
      "nbconvert_exporter": "python",
      "pygments_lexer": "ipython3",
      "version": "3.7.10"
    },
    "colab": {
      "provenance": [],
      "include_colab_link": true
    },
    "gpuClass": "standard"
  },
  "nbformat": 4,
  "nbformat_minor": 5
}